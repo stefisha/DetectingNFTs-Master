{
  "nbformat": 4,
  "nbformat_minor": 0,
  "metadata": {
    "colab": {
      "provenance": [],
      "mount_file_id": "1F587S_5DfAPk7baBNsPitBJtOvnb-k0g",
      "authorship_tag": "ABX9TyNVUH/R7rQ91S/cSlDzBKtu",
      "include_colab_link": true
    },
    "kernelspec": {
      "name": "python3",
      "display_name": "Python 3"
    },
    "language_info": {
      "name": "python"
    }
  },
  "cells": [
    {
      "cell_type": "markdown",
      "metadata": {
        "id": "view-in-github",
        "colab_type": "text"
      },
      "source": [
        "<a href=\"https://colab.research.google.com/github/Stefi96/DetectingNFTs-Master/blob/main/Domains_NFT_Master.ipynb\" target=\"_parent\"><img src=\"https://colab.research.google.com/assets/colab-badge.svg\" alt=\"Open In Colab\"/></a>"
      ]
    },
    {
      "cell_type": "code",
      "execution_count": 1,
      "metadata": {
        "id": "cg-6sbW1fBaf"
      },
      "outputs": [],
      "source": [
        "# @title Lets import the libraries and code\n",
        "import pandas as pd\n",
        "import numpy as np\n",
        "from sklearn.model_selection import train_test_split,GridSearchCV, cross_val_score\n",
        "from sklearn.ensemble import RandomForestClassifier\n",
        "from sklearn.neural_network import MLPClassifier\n",
        "from sklearn.svm import SVC\n",
        "from sklearn.naive_bayes import GaussianNB\n",
        "from sklearn.metrics import accuracy_score, precision_score, recall_score, f1_score\n",
        "from sklearn.preprocessing import LabelEncoder\n",
        "from sklearn.feature_extraction.text import TfidfVectorizer\n",
        "from sklearn.preprocessing import StandardScaler\n",
        "from xgboost import XGBClassifier\n",
        "from imblearn.over_sampling import SMOTE\n",
        "from sklearn.ensemble import BaggingClassifier, RandomForestClassifier\n",
        "import lightgbm as lgb"
      ]
    },
    {
      "cell_type": "code",
      "source": [
        "# Load the  uploaded datasets\n",
        "scam_data = pd.read_csv('/content/drive/MyDrive/Master/Project/Domains/final_blocklist_domains.csv')\n",
        "legit_data = pd.read_csv('/content/drive/MyDrive/Master/Project/Domains/final_legit_domains.csv')\n",
        "# Load data localy\n",
        "# scam_data = pd.read_csv(r'C:\\Users\\stefanve\\Desktop\\Project\\Domains\\final_blocklist_domains.csv')\n",
        "# legit_data = pd.read_csv(r\"C:\\Users\\stefanve\\Desktop\\Project\\Domains\\final_legit_domains.csv\")"
      ],
      "metadata": {
        "id": "ZWMDuUrJfT4_"
      },
      "execution_count": 2,
      "outputs": []
    },
    {
      "cell_type": "code",
      "source": [
        "# Display the first few rows of each dataset for verification\n",
        "scam_data.head(), legit_data.head()"
      ],
      "metadata": {
        "colab": {
          "base_uri": "https://localhost:8080/"
        },
        "id": "I57gacn9fkS3",
        "outputId": "45e7fc0e-f623-4415-964c-55eaba28f239"
      },
      "execution_count": 3,
      "outputs": [
        {
          "output_type": "execute_result",
          "data": {
            "text/plain": [
              "(                   url\n",
              " 0  blogpost-opensea.io\n",
              " 1       phantomweb.app\n",
              " 2           aurory.app\n",
              " 3         solvision.io\n",
              " 4        staratlas.art,\n",
              "              Unique Domains\n",
              " 0             basis.markets\n",
              " 1          skeletoncrew.rip\n",
              " 2              flippies.art\n",
              " 3  meerkatmillionaires.club\n",
              " 4           stylishstuds.io)"
            ]
          },
          "metadata": {},
          "execution_count": 3
        }
      ]
    },
    {
      "cell_type": "code",
      "source": [
        "# label the data\n",
        "scam_data['label'] = 1\n",
        "legit_data['label'] = 0\n",
        "\n",
        "# Renaming the 'Unique Domains' column in legit dataset to 'url'\n",
        "legit_data.rename(columns={\"Unique Domains\": \"url\"}, inplace=True)\n",
        "\n",
        "# Combine the datasets\n",
        "combined_data = pd.concat([scam_data, legit_data], ignore_index=True)\n",
        "\n",
        "# Display the first few rows of the combined dataset\n",
        "combined_data.head()"
      ],
      "metadata": {
        "id": "ddqVKS4mhGsk",
        "colab": {
          "base_uri": "https://localhost:8080/",
          "height": 206
        },
        "outputId": "76935e3d-77e8-4836-8475-e31ee91d2c6f"
      },
      "execution_count": 4,
      "outputs": [
        {
          "output_type": "execute_result",
          "data": {
            "text/plain": [
              "                   url  label\n",
              "0  blogpost-opensea.io      1\n",
              "1       phantomweb.app      1\n",
              "2           aurory.app      1\n",
              "3         solvision.io      1\n",
              "4        staratlas.art      1"
            ],
            "text/html": [
              "\n",
              "  <div id=\"df-f10de3ab-07d3-4479-af17-4c386bc403ff\" class=\"colab-df-container\">\n",
              "    <div>\n",
              "<style scoped>\n",
              "    .dataframe tbody tr th:only-of-type {\n",
              "        vertical-align: middle;\n",
              "    }\n",
              "\n",
              "    .dataframe tbody tr th {\n",
              "        vertical-align: top;\n",
              "    }\n",
              "\n",
              "    .dataframe thead th {\n",
              "        text-align: right;\n",
              "    }\n",
              "</style>\n",
              "<table border=\"1\" class=\"dataframe\">\n",
              "  <thead>\n",
              "    <tr style=\"text-align: right;\">\n",
              "      <th></th>\n",
              "      <th>url</th>\n",
              "      <th>label</th>\n",
              "    </tr>\n",
              "  </thead>\n",
              "  <tbody>\n",
              "    <tr>\n",
              "      <th>0</th>\n",
              "      <td>blogpost-opensea.io</td>\n",
              "      <td>1</td>\n",
              "    </tr>\n",
              "    <tr>\n",
              "      <th>1</th>\n",
              "      <td>phantomweb.app</td>\n",
              "      <td>1</td>\n",
              "    </tr>\n",
              "    <tr>\n",
              "      <th>2</th>\n",
              "      <td>aurory.app</td>\n",
              "      <td>1</td>\n",
              "    </tr>\n",
              "    <tr>\n",
              "      <th>3</th>\n",
              "      <td>solvision.io</td>\n",
              "      <td>1</td>\n",
              "    </tr>\n",
              "    <tr>\n",
              "      <th>4</th>\n",
              "      <td>staratlas.art</td>\n",
              "      <td>1</td>\n",
              "    </tr>\n",
              "  </tbody>\n",
              "</table>\n",
              "</div>\n",
              "    <div class=\"colab-df-buttons\">\n",
              "\n",
              "  <div class=\"colab-df-container\">\n",
              "    <button class=\"colab-df-convert\" onclick=\"convertToInteractive('df-f10de3ab-07d3-4479-af17-4c386bc403ff')\"\n",
              "            title=\"Convert this dataframe to an interactive table.\"\n",
              "            style=\"display:none;\">\n",
              "\n",
              "  <svg xmlns=\"http://www.w3.org/2000/svg\" height=\"24px\" viewBox=\"0 -960 960 960\">\n",
              "    <path d=\"M120-120v-720h720v720H120Zm60-500h600v-160H180v160Zm220 220h160v-160H400v160Zm0 220h160v-160H400v160ZM180-400h160v-160H180v160Zm440 0h160v-160H620v160ZM180-180h160v-160H180v160Zm440 0h160v-160H620v160Z\"/>\n",
              "  </svg>\n",
              "    </button>\n",
              "\n",
              "  <style>\n",
              "    .colab-df-container {\n",
              "      display:flex;\n",
              "      gap: 12px;\n",
              "    }\n",
              "\n",
              "    .colab-df-convert {\n",
              "      background-color: #E8F0FE;\n",
              "      border: none;\n",
              "      border-radius: 50%;\n",
              "      cursor: pointer;\n",
              "      display: none;\n",
              "      fill: #1967D2;\n",
              "      height: 32px;\n",
              "      padding: 0 0 0 0;\n",
              "      width: 32px;\n",
              "    }\n",
              "\n",
              "    .colab-df-convert:hover {\n",
              "      background-color: #E2EBFA;\n",
              "      box-shadow: 0px 1px 2px rgba(60, 64, 67, 0.3), 0px 1px 3px 1px rgba(60, 64, 67, 0.15);\n",
              "      fill: #174EA6;\n",
              "    }\n",
              "\n",
              "    .colab-df-buttons div {\n",
              "      margin-bottom: 4px;\n",
              "    }\n",
              "\n",
              "    [theme=dark] .colab-df-convert {\n",
              "      background-color: #3B4455;\n",
              "      fill: #D2E3FC;\n",
              "    }\n",
              "\n",
              "    [theme=dark] .colab-df-convert:hover {\n",
              "      background-color: #434B5C;\n",
              "      box-shadow: 0px 1px 3px 1px rgba(0, 0, 0, 0.15);\n",
              "      filter: drop-shadow(0px 1px 2px rgba(0, 0, 0, 0.3));\n",
              "      fill: #FFFFFF;\n",
              "    }\n",
              "  </style>\n",
              "\n",
              "    <script>\n",
              "      const buttonEl =\n",
              "        document.querySelector('#df-f10de3ab-07d3-4479-af17-4c386bc403ff button.colab-df-convert');\n",
              "      buttonEl.style.display =\n",
              "        google.colab.kernel.accessAllowed ? 'block' : 'none';\n",
              "\n",
              "      async function convertToInteractive(key) {\n",
              "        const element = document.querySelector('#df-f10de3ab-07d3-4479-af17-4c386bc403ff');\n",
              "        const dataTable =\n",
              "          await google.colab.kernel.invokeFunction('convertToInteractive',\n",
              "                                                    [key], {});\n",
              "        if (!dataTable) return;\n",
              "\n",
              "        const docLinkHtml = 'Like what you see? Visit the ' +\n",
              "          '<a target=\"_blank\" href=https://colab.research.google.com/notebooks/data_table.ipynb>data table notebook</a>'\n",
              "          + ' to learn more about interactive tables.';\n",
              "        element.innerHTML = '';\n",
              "        dataTable['output_type'] = 'display_data';\n",
              "        await google.colab.output.renderOutput(dataTable, element);\n",
              "        const docLink = document.createElement('div');\n",
              "        docLink.innerHTML = docLinkHtml;\n",
              "        element.appendChild(docLink);\n",
              "      }\n",
              "    </script>\n",
              "  </div>\n",
              "\n",
              "\n",
              "<div id=\"df-8c4ad199-bde8-4b67-9103-54346f69ba6d\">\n",
              "  <button class=\"colab-df-quickchart\" onclick=\"quickchart('df-8c4ad199-bde8-4b67-9103-54346f69ba6d')\"\n",
              "            title=\"Suggest charts.\"\n",
              "            style=\"display:none;\">\n",
              "\n",
              "<svg xmlns=\"http://www.w3.org/2000/svg\" height=\"24px\"viewBox=\"0 0 24 24\"\n",
              "     width=\"24px\">\n",
              "    <g>\n",
              "        <path d=\"M19 3H5c-1.1 0-2 .9-2 2v14c0 1.1.9 2 2 2h14c1.1 0 2-.9 2-2V5c0-1.1-.9-2-2-2zM9 17H7v-7h2v7zm4 0h-2V7h2v10zm4 0h-2v-4h2v4z\"/>\n",
              "    </g>\n",
              "</svg>\n",
              "  </button>\n",
              "\n",
              "<style>\n",
              "  .colab-df-quickchart {\n",
              "    background-color: #E8F0FE;\n",
              "    border: none;\n",
              "    border-radius: 50%;\n",
              "    cursor: pointer;\n",
              "    display: none;\n",
              "    fill: #1967D2;\n",
              "    height: 32px;\n",
              "    padding: 0 0 0 0;\n",
              "    width: 32px;\n",
              "  }\n",
              "\n",
              "  .colab-df-quickchart:hover {\n",
              "    background-color: #E2EBFA;\n",
              "    box-shadow: 0px 1px 2px rgba(60, 64, 67, 0.3), 0px 1px 3px 1px rgba(60, 64, 67, 0.15);\n",
              "    fill: #174EA6;\n",
              "  }\n",
              "\n",
              "  [theme=dark] .colab-df-quickchart {\n",
              "    background-color: #3B4455;\n",
              "    fill: #D2E3FC;\n",
              "  }\n",
              "\n",
              "  [theme=dark] .colab-df-quickchart:hover {\n",
              "    background-color: #434B5C;\n",
              "    box-shadow: 0px 1px 3px 1px rgba(0, 0, 0, 0.15);\n",
              "    filter: drop-shadow(0px 1px 2px rgba(0, 0, 0, 0.3));\n",
              "    fill: #FFFFFF;\n",
              "  }\n",
              "</style>\n",
              "\n",
              "  <script>\n",
              "    async function quickchart(key) {\n",
              "      const charts = await google.colab.kernel.invokeFunction(\n",
              "          'suggestCharts', [key], {});\n",
              "    }\n",
              "    (() => {\n",
              "      let quickchartButtonEl =\n",
              "        document.querySelector('#df-8c4ad199-bde8-4b67-9103-54346f69ba6d button');\n",
              "      quickchartButtonEl.style.display =\n",
              "        google.colab.kernel.accessAllowed ? 'block' : 'none';\n",
              "    })();\n",
              "  </script>\n",
              "</div>\n",
              "    </div>\n",
              "  </div>\n"
            ]
          },
          "metadata": {},
          "execution_count": 4
        }
      ]
    },
    {
      "cell_type": "code",
      "source": [
        "# Check for missing values\n",
        "combined_data.isna().sum()\n",
        "\n",
        "# Fill NaN with placeholder\n",
        "combined_data['url'] = combined_data['url'].fillna(\"missing\")\n",
        "\n",
        "# Drop NA\n",
        "#combined_data = combined_data.dropna()"
      ],
      "metadata": {
        "id": "ChBNpcsit1gW"
      },
      "execution_count": 5,
      "outputs": []
    },
    {
      "cell_type": "code",
      "source": [
        "combined_data['url']"
      ],
      "metadata": {
        "colab": {
          "base_uri": "https://localhost:8080/"
        },
        "id": "NJ-yqWDpuOTI",
        "outputId": "72fc0e99-0914-42d7-b112-e6a43cfab6df"
      },
      "execution_count": 6,
      "outputs": [
        {
          "output_type": "execute_result",
          "data": {
            "text/plain": [
              "0           blogpost-opensea.io\n",
              "1                phantomweb.app\n",
              "2                    aurory.app\n",
              "3                  solvision.io\n",
              "4                 staratlas.art\n",
              "                 ...           \n",
              "2446                 koinkoi.io\n",
              "2447            burritoboyz.wtf\n",
              "2448                   t00b.app\n",
              "2449            outcast.academy\n",
              "2450    apesofwallstreetnft.com\n",
              "Name: url, Length: 2451, dtype: object"
            ]
          },
          "metadata": {},
          "execution_count": 6
        }
      ]
    },
    {
      "cell_type": "code",
      "source": [
        "# # Convert the 'url' column to string\n",
        "# combined_data['url'] = combined_data['url'].astype(str)"
      ],
      "metadata": {
        "id": "6tjTb9_fyHXz"
      },
      "execution_count": 7,
      "outputs": []
    },
    {
      "cell_type": "code",
      "source": [
        "# Label encoding the URLs\n",
        "label_encoder = LabelEncoder()\n",
        "combined_data['url_encoded'] = label_encoder.fit_transform(combined_data['url'])"
      ],
      "metadata": {
        "id": "5QAbJeKDuRBv"
      },
      "execution_count": 8,
      "outputs": []
    },
    {
      "cell_type": "code",
      "source": [
        "# Extracting features from the URLs\n",
        "combined_data['domain_length'] = combined_data['url'].apply(lambda x: len(x))\n",
        "combined_data['num_special_chars'] = combined_data['url'].apply(lambda x: sum([1 for char in x if not char.isalnum()]))\n",
        "combined_data['num_subdomains'] = combined_data['url'].apply(lambda x: x.count('.'))\n",
        "combined_data['has_http'] = combined_data['url'].apply(lambda x: 1 if 'http' in x else 0)\n",
        "combined_data['has_https'] = combined_data['url'].apply(lambda x: 1 if 'https' in x else 0)\n",
        "combined_data['has_www'] = combined_data['url'].apply(lambda x: 1 if 'www' in x else 0)\n",
        "combined_data['has_numbers'] = combined_data['url'].apply(lambda x: 1 if any(char.isdigit() for char in x) else 0)\n",
        "\n",
        "# Domain Suffix\n",
        "combined_data['domain_suffix_code'] = combined_data['url'].apply(lambda x: x.split('.')[-1])"
      ],
      "metadata": {
        "id": "3RAyHpLMueyL"
      },
      "execution_count": 9,
      "outputs": []
    },
    {
      "cell_type": "code",
      "source": [
        "combined_data"
      ],
      "metadata": {
        "colab": {
          "base_uri": "https://localhost:8080/",
          "height": 424
        },
        "id": "K_B-NKxGuf6J",
        "outputId": "5893958a-6011-48cc-d4c4-c9f36f93e23c"
      },
      "execution_count": 10,
      "outputs": [
        {
          "output_type": "execute_result",
          "data": {
            "text/plain": [
              "                          url  label  url_encoded  domain_length  \\\n",
              "0         blogpost-opensea.io      1          184             19   \n",
              "1              phantomweb.app      1         1422             14   \n",
              "2                  aurory.app      1          133             10   \n",
              "3                solvision.io      1         2101             12   \n",
              "4               staratlas.art      1         2130             13   \n",
              "...                       ...    ...          ...            ...   \n",
              "2446               koinkoi.io      0          801             10   \n",
              "2447          burritoboyz.wtf      0          267             15   \n",
              "2448                 t00b.app      0         2180              8   \n",
              "2449          outcast.academy      0         1337             15   \n",
              "2450  apesofwallstreetnft.com      0           80             23   \n",
              "\n",
              "      num_special_chars  num_subdomains  has_http  has_https  has_www  \\\n",
              "0                     2               1         0          0        0   \n",
              "1                     1               1         0          0        0   \n",
              "2                     1               1         0          0        0   \n",
              "3                     1               1         0          0        0   \n",
              "4                     1               1         0          0        0   \n",
              "...                 ...             ...       ...        ...      ...   \n",
              "2446                  1               1         0          0        0   \n",
              "2447                  1               1         0          0        0   \n",
              "2448                  1               1         0          0        0   \n",
              "2449                  1               1         0          0        0   \n",
              "2450                  1               1         0          0        0   \n",
              "\n",
              "      has_numbers domain_suffix_code  \n",
              "0               0                 io  \n",
              "1               0                app  \n",
              "2               0                app  \n",
              "3               0                 io  \n",
              "4               0                art  \n",
              "...           ...                ...  \n",
              "2446            0                 io  \n",
              "2447            0                wtf  \n",
              "2448            1                app  \n",
              "2449            0            academy  \n",
              "2450            0                com  \n",
              "\n",
              "[2451 rows x 11 columns]"
            ],
            "text/html": [
              "\n",
              "  <div id=\"df-662b371e-f962-4ca0-a68b-edf0e79b4a35\" class=\"colab-df-container\">\n",
              "    <div>\n",
              "<style scoped>\n",
              "    .dataframe tbody tr th:only-of-type {\n",
              "        vertical-align: middle;\n",
              "    }\n",
              "\n",
              "    .dataframe tbody tr th {\n",
              "        vertical-align: top;\n",
              "    }\n",
              "\n",
              "    .dataframe thead th {\n",
              "        text-align: right;\n",
              "    }\n",
              "</style>\n",
              "<table border=\"1\" class=\"dataframe\">\n",
              "  <thead>\n",
              "    <tr style=\"text-align: right;\">\n",
              "      <th></th>\n",
              "      <th>url</th>\n",
              "      <th>label</th>\n",
              "      <th>url_encoded</th>\n",
              "      <th>domain_length</th>\n",
              "      <th>num_special_chars</th>\n",
              "      <th>num_subdomains</th>\n",
              "      <th>has_http</th>\n",
              "      <th>has_https</th>\n",
              "      <th>has_www</th>\n",
              "      <th>has_numbers</th>\n",
              "      <th>domain_suffix_code</th>\n",
              "    </tr>\n",
              "  </thead>\n",
              "  <tbody>\n",
              "    <tr>\n",
              "      <th>0</th>\n",
              "      <td>blogpost-opensea.io</td>\n",
              "      <td>1</td>\n",
              "      <td>184</td>\n",
              "      <td>19</td>\n",
              "      <td>2</td>\n",
              "      <td>1</td>\n",
              "      <td>0</td>\n",
              "      <td>0</td>\n",
              "      <td>0</td>\n",
              "      <td>0</td>\n",
              "      <td>io</td>\n",
              "    </tr>\n",
              "    <tr>\n",
              "      <th>1</th>\n",
              "      <td>phantomweb.app</td>\n",
              "      <td>1</td>\n",
              "      <td>1422</td>\n",
              "      <td>14</td>\n",
              "      <td>1</td>\n",
              "      <td>1</td>\n",
              "      <td>0</td>\n",
              "      <td>0</td>\n",
              "      <td>0</td>\n",
              "      <td>0</td>\n",
              "      <td>app</td>\n",
              "    </tr>\n",
              "    <tr>\n",
              "      <th>2</th>\n",
              "      <td>aurory.app</td>\n",
              "      <td>1</td>\n",
              "      <td>133</td>\n",
              "      <td>10</td>\n",
              "      <td>1</td>\n",
              "      <td>1</td>\n",
              "      <td>0</td>\n",
              "      <td>0</td>\n",
              "      <td>0</td>\n",
              "      <td>0</td>\n",
              "      <td>app</td>\n",
              "    </tr>\n",
              "    <tr>\n",
              "      <th>3</th>\n",
              "      <td>solvision.io</td>\n",
              "      <td>1</td>\n",
              "      <td>2101</td>\n",
              "      <td>12</td>\n",
              "      <td>1</td>\n",
              "      <td>1</td>\n",
              "      <td>0</td>\n",
              "      <td>0</td>\n",
              "      <td>0</td>\n",
              "      <td>0</td>\n",
              "      <td>io</td>\n",
              "    </tr>\n",
              "    <tr>\n",
              "      <th>4</th>\n",
              "      <td>staratlas.art</td>\n",
              "      <td>1</td>\n",
              "      <td>2130</td>\n",
              "      <td>13</td>\n",
              "      <td>1</td>\n",
              "      <td>1</td>\n",
              "      <td>0</td>\n",
              "      <td>0</td>\n",
              "      <td>0</td>\n",
              "      <td>0</td>\n",
              "      <td>art</td>\n",
              "    </tr>\n",
              "    <tr>\n",
              "      <th>...</th>\n",
              "      <td>...</td>\n",
              "      <td>...</td>\n",
              "      <td>...</td>\n",
              "      <td>...</td>\n",
              "      <td>...</td>\n",
              "      <td>...</td>\n",
              "      <td>...</td>\n",
              "      <td>...</td>\n",
              "      <td>...</td>\n",
              "      <td>...</td>\n",
              "      <td>...</td>\n",
              "    </tr>\n",
              "    <tr>\n",
              "      <th>2446</th>\n",
              "      <td>koinkoi.io</td>\n",
              "      <td>0</td>\n",
              "      <td>801</td>\n",
              "      <td>10</td>\n",
              "      <td>1</td>\n",
              "      <td>1</td>\n",
              "      <td>0</td>\n",
              "      <td>0</td>\n",
              "      <td>0</td>\n",
              "      <td>0</td>\n",
              "      <td>io</td>\n",
              "    </tr>\n",
              "    <tr>\n",
              "      <th>2447</th>\n",
              "      <td>burritoboyz.wtf</td>\n",
              "      <td>0</td>\n",
              "      <td>267</td>\n",
              "      <td>15</td>\n",
              "      <td>1</td>\n",
              "      <td>1</td>\n",
              "      <td>0</td>\n",
              "      <td>0</td>\n",
              "      <td>0</td>\n",
              "      <td>0</td>\n",
              "      <td>wtf</td>\n",
              "    </tr>\n",
              "    <tr>\n",
              "      <th>2448</th>\n",
              "      <td>t00b.app</td>\n",
              "      <td>0</td>\n",
              "      <td>2180</td>\n",
              "      <td>8</td>\n",
              "      <td>1</td>\n",
              "      <td>1</td>\n",
              "      <td>0</td>\n",
              "      <td>0</td>\n",
              "      <td>0</td>\n",
              "      <td>1</td>\n",
              "      <td>app</td>\n",
              "    </tr>\n",
              "    <tr>\n",
              "      <th>2449</th>\n",
              "      <td>outcast.academy</td>\n",
              "      <td>0</td>\n",
              "      <td>1337</td>\n",
              "      <td>15</td>\n",
              "      <td>1</td>\n",
              "      <td>1</td>\n",
              "      <td>0</td>\n",
              "      <td>0</td>\n",
              "      <td>0</td>\n",
              "      <td>0</td>\n",
              "      <td>academy</td>\n",
              "    </tr>\n",
              "    <tr>\n",
              "      <th>2450</th>\n",
              "      <td>apesofwallstreetnft.com</td>\n",
              "      <td>0</td>\n",
              "      <td>80</td>\n",
              "      <td>23</td>\n",
              "      <td>1</td>\n",
              "      <td>1</td>\n",
              "      <td>0</td>\n",
              "      <td>0</td>\n",
              "      <td>0</td>\n",
              "      <td>0</td>\n",
              "      <td>com</td>\n",
              "    </tr>\n",
              "  </tbody>\n",
              "</table>\n",
              "<p>2451 rows × 11 columns</p>\n",
              "</div>\n",
              "    <div class=\"colab-df-buttons\">\n",
              "\n",
              "  <div class=\"colab-df-container\">\n",
              "    <button class=\"colab-df-convert\" onclick=\"convertToInteractive('df-662b371e-f962-4ca0-a68b-edf0e79b4a35')\"\n",
              "            title=\"Convert this dataframe to an interactive table.\"\n",
              "            style=\"display:none;\">\n",
              "\n",
              "  <svg xmlns=\"http://www.w3.org/2000/svg\" height=\"24px\" viewBox=\"0 -960 960 960\">\n",
              "    <path d=\"M120-120v-720h720v720H120Zm60-500h600v-160H180v160Zm220 220h160v-160H400v160Zm0 220h160v-160H400v160ZM180-400h160v-160H180v160Zm440 0h160v-160H620v160ZM180-180h160v-160H180v160Zm440 0h160v-160H620v160Z\"/>\n",
              "  </svg>\n",
              "    </button>\n",
              "\n",
              "  <style>\n",
              "    .colab-df-container {\n",
              "      display:flex;\n",
              "      gap: 12px;\n",
              "    }\n",
              "\n",
              "    .colab-df-convert {\n",
              "      background-color: #E8F0FE;\n",
              "      border: none;\n",
              "      border-radius: 50%;\n",
              "      cursor: pointer;\n",
              "      display: none;\n",
              "      fill: #1967D2;\n",
              "      height: 32px;\n",
              "      padding: 0 0 0 0;\n",
              "      width: 32px;\n",
              "    }\n",
              "\n",
              "    .colab-df-convert:hover {\n",
              "      background-color: #E2EBFA;\n",
              "      box-shadow: 0px 1px 2px rgba(60, 64, 67, 0.3), 0px 1px 3px 1px rgba(60, 64, 67, 0.15);\n",
              "      fill: #174EA6;\n",
              "    }\n",
              "\n",
              "    .colab-df-buttons div {\n",
              "      margin-bottom: 4px;\n",
              "    }\n",
              "\n",
              "    [theme=dark] .colab-df-convert {\n",
              "      background-color: #3B4455;\n",
              "      fill: #D2E3FC;\n",
              "    }\n",
              "\n",
              "    [theme=dark] .colab-df-convert:hover {\n",
              "      background-color: #434B5C;\n",
              "      box-shadow: 0px 1px 3px 1px rgba(0, 0, 0, 0.15);\n",
              "      filter: drop-shadow(0px 1px 2px rgba(0, 0, 0, 0.3));\n",
              "      fill: #FFFFFF;\n",
              "    }\n",
              "  </style>\n",
              "\n",
              "    <script>\n",
              "      const buttonEl =\n",
              "        document.querySelector('#df-662b371e-f962-4ca0-a68b-edf0e79b4a35 button.colab-df-convert');\n",
              "      buttonEl.style.display =\n",
              "        google.colab.kernel.accessAllowed ? 'block' : 'none';\n",
              "\n",
              "      async function convertToInteractive(key) {\n",
              "        const element = document.querySelector('#df-662b371e-f962-4ca0-a68b-edf0e79b4a35');\n",
              "        const dataTable =\n",
              "          await google.colab.kernel.invokeFunction('convertToInteractive',\n",
              "                                                    [key], {});\n",
              "        if (!dataTable) return;\n",
              "\n",
              "        const docLinkHtml = 'Like what you see? Visit the ' +\n",
              "          '<a target=\"_blank\" href=https://colab.research.google.com/notebooks/data_table.ipynb>data table notebook</a>'\n",
              "          + ' to learn more about interactive tables.';\n",
              "        element.innerHTML = '';\n",
              "        dataTable['output_type'] = 'display_data';\n",
              "        await google.colab.output.renderOutput(dataTable, element);\n",
              "        const docLink = document.createElement('div');\n",
              "        docLink.innerHTML = docLinkHtml;\n",
              "        element.appendChild(docLink);\n",
              "      }\n",
              "    </script>\n",
              "  </div>\n",
              "\n",
              "\n",
              "<div id=\"df-2315b5fc-9550-40a2-8fd2-6e52f03c3810\">\n",
              "  <button class=\"colab-df-quickchart\" onclick=\"quickchart('df-2315b5fc-9550-40a2-8fd2-6e52f03c3810')\"\n",
              "            title=\"Suggest charts.\"\n",
              "            style=\"display:none;\">\n",
              "\n",
              "<svg xmlns=\"http://www.w3.org/2000/svg\" height=\"24px\"viewBox=\"0 0 24 24\"\n",
              "     width=\"24px\">\n",
              "    <g>\n",
              "        <path d=\"M19 3H5c-1.1 0-2 .9-2 2v14c0 1.1.9 2 2 2h14c1.1 0 2-.9 2-2V5c0-1.1-.9-2-2-2zM9 17H7v-7h2v7zm4 0h-2V7h2v10zm4 0h-2v-4h2v4z\"/>\n",
              "    </g>\n",
              "</svg>\n",
              "  </button>\n",
              "\n",
              "<style>\n",
              "  .colab-df-quickchart {\n",
              "    background-color: #E8F0FE;\n",
              "    border: none;\n",
              "    border-radius: 50%;\n",
              "    cursor: pointer;\n",
              "    display: none;\n",
              "    fill: #1967D2;\n",
              "    height: 32px;\n",
              "    padding: 0 0 0 0;\n",
              "    width: 32px;\n",
              "  }\n",
              "\n",
              "  .colab-df-quickchart:hover {\n",
              "    background-color: #E2EBFA;\n",
              "    box-shadow: 0px 1px 2px rgba(60, 64, 67, 0.3), 0px 1px 3px 1px rgba(60, 64, 67, 0.15);\n",
              "    fill: #174EA6;\n",
              "  }\n",
              "\n",
              "  [theme=dark] .colab-df-quickchart {\n",
              "    background-color: #3B4455;\n",
              "    fill: #D2E3FC;\n",
              "  }\n",
              "\n",
              "  [theme=dark] .colab-df-quickchart:hover {\n",
              "    background-color: #434B5C;\n",
              "    box-shadow: 0px 1px 3px 1px rgba(0, 0, 0, 0.15);\n",
              "    filter: drop-shadow(0px 1px 2px rgba(0, 0, 0, 0.3));\n",
              "    fill: #FFFFFF;\n",
              "  }\n",
              "</style>\n",
              "\n",
              "  <script>\n",
              "    async function quickchart(key) {\n",
              "      const charts = await google.colab.kernel.invokeFunction(\n",
              "          'suggestCharts', [key], {});\n",
              "    }\n",
              "    (() => {\n",
              "      let quickchartButtonEl =\n",
              "        document.querySelector('#df-2315b5fc-9550-40a2-8fd2-6e52f03c3810 button');\n",
              "      quickchartButtonEl.style.display =\n",
              "        google.colab.kernel.accessAllowed ? 'block' : 'none';\n",
              "    })();\n",
              "  </script>\n",
              "</div>\n",
              "    </div>\n",
              "  </div>\n"
            ]
          },
          "metadata": {},
          "execution_count": 10
        }
      ]
    },
    {
      "cell_type": "code",
      "source": [
        "import matplotlib.pyplot as plt\n",
        "import seaborn as sns\n",
        "\n",
        "# Set style\n",
        "sns.set_style(\"whitegrid\")\n",
        "\n",
        "# Distribution of the target variable\n",
        "plt.figure(figsize=(8, 6))\n",
        "sns.countplot(data=combined_data, x='label')\n",
        "plt.title('Distribution of Target Variable (Label)')\n",
        "plt.xlabel('Label (0: Legit, 1: Scam)')\n",
        "plt.ylabel('Count')\n",
        "plt.show()\n"
      ],
      "metadata": {
        "colab": {
          "base_uri": "https://localhost:8080/",
          "height": 564
        },
        "id": "0QQ1ZqefI3C7",
        "outputId": "0d8d7808-5931-4505-e54a-5ae52ece32d4"
      },
      "execution_count": 11,
      "outputs": [
        {
          "output_type": "display_data",
          "data": {
            "text/plain": [
              "<Figure size 800x600 with 1 Axes>"
            ],
            "image/png": "[encoded data removed]"
          },
          "metadata": {}
        }
      ]
    },
    {
      "cell_type": "code",
      "source": [
        "import matplotlib.pyplot as plt\n",
        "import seaborn as sns\n",
        "\n",
        "# Exploring the distribution of numerical features\n",
        "fig, axes = plt.subplots(nrows=3, ncols=1, figsize=(10, 20))\n",
        "\n",
        "# Distribution of domain_length\n",
        "sns.histplot(data=combined_data, x='domain_length', hue='label', element=\"step\", stat=\"density\", common_norm=False, ax=axes[0])\n",
        "axes[0].set_title('Distribution of Domain Length by Label')\n",
        "axes[0].set_xlabel('Domain Length')\n",
        "axes[0].set_ylabel('Density')\n",
        "\n",
        "# Distribution of num_dots\n",
        "sns.histplot(data=combined_data, x='num_subdomains', hue='label', element=\"step\", stat=\"density\", common_norm=False, ax=axes[1])\n",
        "axes[1].set_title('Distribution of Number of Subdomains by Label')\n",
        "axes[1].set_xlabel('Number of Subdomains')\n",
        "axes[1].set_ylabel('Density')\n",
        "\n",
        "# Distribution of num_special_chars\n",
        "sns.histplot(data=combined_data, x='num_special_chars', hue='label', element=\"step\", stat=\"density\", common_norm=False, ax=axes[2])\n",
        "axes[2].set_title('Distribution of Number of Special Characters by Label')\n",
        "axes[2].set_xlabel('Number of Special Characters')\n",
        "axes[2].set_ylabel('Density')\n",
        "\n",
        "# Adjust layout\n",
        "plt.tight_layout()\n",
        "plt.show()"
      ],
      "metadata": {
        "colab": {
          "base_uri": "https://localhost:8080/",
          "height": 1000
        },
        "id": "M50R45iZI2w4",
        "outputId": "c592956a-08a1-4301-8f82-c8628f5771d6"
      },
      "execution_count": 12,
      "outputs": [
        {
          "output_type": "display_data",
          "data": {
            "text/plain": [
              "<Figure size 1000x2000 with 3 Axes>"
            ],
            "image/png": "[encoded data removed]"
          },
          "metadata": {}
        }
      ]
    },
    {
      "cell_type": "code",
      "source": [
        "# Determine the top n domain suffix codes\n",
        "n = 10\n",
        "top_suffixes = combined_data['domain_suffix_code'].value_counts().head(n).index\n",
        "\n",
        "# Replace other suffixes with \"Other\"\n",
        "combined_data['displayed_suffix'] = combined_data['domain_suffix_code'].apply(lambda x: x if x in top_suffixes else 'Other')\n",
        "\n",
        "# Plot\n",
        "plt.figure(figsize=(15, 8))\n",
        "sns.countplot(data=combined_data, x='displayed_suffix', hue='label', order=combined_data['displayed_suffix'].value_counts().index)\n",
        "plt.title('Distribution of Top Domain Suffix Codes by Label')\n",
        "plt.xlabel('Domain Suffix Code')\n",
        "plt.ylabel('Count')\n",
        "plt.xticks(rotation=45)\n",
        "plt.legend(title='Label', loc='upper right')\n",
        "plt.tight_layout()\n",
        "\n",
        "# Annotate bars with their respective counts\n",
        "for p in plt.gca().patches:\n",
        "    height = p.get_height()\n",
        "    plt.gca().annotate(f'{int(height)}', (p.get_x() + p.get_width() / 2., height),\n",
        "                 ha='center', va='center', fontsize=10, color='black', xytext=(0, 5),\n",
        "                 textcoords='offset points')\n",
        "\n",
        "plt.show()"
      ],
      "metadata": {
        "colab": {
          "base_uri": "https://localhost:8080/",
          "height": 807
        },
        "id": "xfsYsKMNLAmI",
        "outputId": "7358401e-72ee-48ec-e9e3-34ecb886cb3f"
      },
      "execution_count": 13,
      "outputs": [
        {
          "output_type": "display_data",
          "data": {
            "text/plain": [
              "<Figure size 1500x800 with 1 Axes>"
            ],
            "image/png": "[encoded data removed]"
          },
          "metadata": {}
        }
      ]
    },
    {
      "cell_type": "code",
      "source": [
        "# Encoding the domain_suffix_code\n",
        "label_encoder = LabelEncoder()\n",
        "combined_data['domain_suffix_code'] = label_encoder.fit_transform(combined_data['domain_suffix_code'])"
      ],
      "metadata": {
        "id": "znnNhFBdOvC_"
      },
      "execution_count": 14,
      "outputs": []
    },
    {
      "cell_type": "code",
      "source": [
        "# TF-IDF Tokenization\n",
        "tfidf_vectorizer = TfidfVectorizer(max_features=100)\n",
        "url_tfidf = tfidf_vectorizer.fit_transform(combined_data['url'])\n",
        "url_tfidf_df = pd.DataFrame(url_tfidf.toarray(), columns=tfidf_vectorizer.get_feature_names_out())\n",
        "combined_data_2 = pd.concat([combined_data, url_tfidf_df], axis=1)\n",
        "\n",
        "combined_data_2.drop(columns=['url'], inplace=True)\n",
        "\n",
        "combined_data_2.head()"
      ],
      "metadata": {
        "colab": {
          "base_uri": "https://localhost:8080/",
          "height": 236
        },
        "id": "-odhUXhDuuT1",
        "outputId": "dee8a559-a182-4cab-c9bf-bfa67a40480c"
      },
      "execution_count": 15,
      "outputs": [
        {
          "output_type": "execute_result",
          "data": {
            "text/plain": [
              "   label  url_encoded  domain_length  num_special_chars  num_subdomains  \\\n",
              "0      1          184             19                  2               1   \n",
              "1      1         1422             14                  1               1   \n",
              "2      1          133             10                  1               1   \n",
              "3      1         2101             12                  1               1   \n",
              "4      1         2130             13                  1               1   \n",
              "\n",
              "   has_http  has_https  has_www  has_numbers  domain_suffix_code  ...  uno  \\\n",
              "0         0          0        0            0                  74  ...  0.0   \n",
              "1         0          0        0            0                  11  ...  0.0   \n",
              "2         0          0        0            0                  11  ...  0.0   \n",
              "3         0          0        0            0                  74  ...  0.0   \n",
              "4         0          0        0            0                  13  ...  0.0   \n",
              "\n",
              "    v2  web  website  work  world  xyz  y00ts  yoots  zerium  \n",
              "0  0.0  0.0      0.0   0.0    0.0  0.0    0.0    0.0     0.0  \n",
              "1  0.0  0.0      0.0   0.0    0.0  0.0    0.0    0.0     0.0  \n",
              "2  0.0  0.0      0.0   0.0    0.0  0.0    0.0    0.0     0.0  \n",
              "3  0.0  0.0      0.0   0.0    0.0  0.0    0.0    0.0     0.0  \n",
              "4  0.0  0.0      0.0   0.0    0.0  0.0    0.0    0.0     0.0  \n",
              "\n",
              "[5 rows x 111 columns]"
            ],
            "text/html": [
              "\n",
              "  <div id=\"df-e75035ab-ce47-4c19-8e1d-f6eb7603d6a7\" class=\"colab-df-container\">\n",
              "    <div>\n",
              "<style scoped>\n",
              "    .dataframe tbody tr th:only-of-type {\n",
              "        vertical-align: middle;\n",
              "    }\n",
              "\n",
              "    .dataframe tbody tr th {\n",
              "        vertical-align: top;\n",
              "    }\n",
              "\n",
              "    .dataframe thead th {\n",
              "        text-align: right;\n",
              "    }\n",
              "</style>\n",
              "<table border=\"1\" class=\"dataframe\">\n",
              "  <thead>\n",
              "    <tr style=\"text-align: right;\">\n",
              "      <th></th>\n",
              "      <th>label</th>\n",
              "      <th>url_encoded</th>\n",
              "      <th>domain_length</th>\n",
              "      <th>num_special_chars</th>\n",
              "      <th>num_subdomains</th>\n",
              "      <th>has_http</th>\n",
              "      <th>has_https</th>\n",
              "      <th>has_www</th>\n",
              "      <th>has_numbers</th>\n",
              "      <th>domain_suffix_code</th>\n",
              "      <th>...</th>\n",
              "      <th>uno</th>\n",
              "      <th>v2</th>\n",
              "      <th>web</th>\n",
              "      <th>website</th>\n",
              "      <th>work</th>\n",
              "      <th>world</th>\n",
              "      <th>xyz</th>\n",
              "      <th>y00ts</th>\n",
              "      <th>yoots</th>\n",
              "      <th>zerium</th>\n",
              "    </tr>\n",
              "  </thead>\n",
              "  <tbody>\n",
              "    <tr>\n",
              "      <th>0</th>\n",
              "      <td>1</td>\n",
              "      <td>184</td>\n",
              "      <td>19</td>\n",
              "      <td>2</td>\n",
              "      <td>1</td>\n",
              "      <td>0</td>\n",
              "      <td>0</td>\n",
              "      <td>0</td>\n",
              "      <td>0</td>\n",
              "      <td>74</td>\n",
              "      <td>...</td>\n",
              "      <td>0.0</td>\n",
              "      <td>0.0</td>\n",
              "      <td>0.0</td>\n",
              "      <td>0.0</td>\n",
              "      <td>0.0</td>\n",
              "      <td>0.0</td>\n",
              "      <td>0.0</td>\n",
              "      <td>0.0</td>\n",
              "      <td>0.0</td>\n",
              "      <td>0.0</td>\n",
              "    </tr>\n",
              "    <tr>\n",
              "      <th>1</th>\n",
              "      <td>1</td>\n",
              "      <td>1422</td>\n",
              "      <td>14</td>\n",
              "      <td>1</td>\n",
              "      <td>1</td>\n",
              "      <td>0</td>\n",
              "      <td>0</td>\n",
              "      <td>0</td>\n",
              "      <td>0</td>\n",
              "      <td>11</td>\n",
              "      <td>...</td>\n",
              "      <td>0.0</td>\n",
              "      <td>0.0</td>\n",
              "      <td>0.0</td>\n",
              "      <td>0.0</td>\n",
              "      <td>0.0</td>\n",
              "      <td>0.0</td>\n",
              "      <td>0.0</td>\n",
              "      <td>0.0</td>\n",
              "      <td>0.0</td>\n",
              "      <td>0.0</td>\n",
              "    </tr>\n",
              "    <tr>\n",
              "      <th>2</th>\n",
              "      <td>1</td>\n",
              "      <td>133</td>\n",
              "      <td>10</td>\n",
              "      <td>1</td>\n",
              "      <td>1</td>\n",
              "      <td>0</td>\n",
              "      <td>0</td>\n",
              "      <td>0</td>\n",
              "      <td>0</td>\n",
              "      <td>11</td>\n",
              "      <td>...</td>\n",
              "      <td>0.0</td>\n",
              "      <td>0.0</td>\n",
              "      <td>0.0</td>\n",
              "      <td>0.0</td>\n",
              "      <td>0.0</td>\n",
              "      <td>0.0</td>\n",
              "      <td>0.0</td>\n",
              "      <td>0.0</td>\n",
              "      <td>0.0</td>\n",
              "      <td>0.0</td>\n",
              "    </tr>\n",
              "    <tr>\n",
              "      <th>3</th>\n",
              "      <td>1</td>\n",
              "      <td>2101</td>\n",
              "      <td>12</td>\n",
              "      <td>1</td>\n",
              "      <td>1</td>\n",
              "      <td>0</td>\n",
              "      <td>0</td>\n",
              "      <td>0</td>\n",
              "      <td>0</td>\n",
              "      <td>74</td>\n",
              "      <td>...</td>\n",
              "      <td>0.0</td>\n",
              "      <td>0.0</td>\n",
              "      <td>0.0</td>\n",
              "      <td>0.0</td>\n",
              "      <td>0.0</td>\n",
              "      <td>0.0</td>\n",
              "      <td>0.0</td>\n",
              "      <td>0.0</td>\n",
              "      <td>0.0</td>\n",
              "      <td>0.0</td>\n",
              "    </tr>\n",
              "    <tr>\n",
              "      <th>4</th>\n",
              "      <td>1</td>\n",
              "      <td>2130</td>\n",
              "      <td>13</td>\n",
              "      <td>1</td>\n",
              "      <td>1</td>\n",
              "      <td>0</td>\n",
              "      <td>0</td>\n",
              "      <td>0</td>\n",
              "      <td>0</td>\n",
              "      <td>13</td>\n",
              "      <td>...</td>\n",
              "      <td>0.0</td>\n",
              "      <td>0.0</td>\n",
              "      <td>0.0</td>\n",
              "      <td>0.0</td>\n",
              "      <td>0.0</td>\n",
              "      <td>0.0</td>\n",
              "      <td>0.0</td>\n",
              "      <td>0.0</td>\n",
              "      <td>0.0</td>\n",
              "      <td>0.0</td>\n",
              "    </tr>\n",
              "  </tbody>\n",
              "</table>\n",
              "<p>5 rows × 111 columns</p>\n",
              "</div>\n",
              "    <div class=\"colab-df-buttons\">\n",
              "\n",
              "  <div class=\"colab-df-container\">\n",
              "    <button class=\"colab-df-convert\" onclick=\"convertToInteractive('df-e75035ab-ce47-4c19-8e1d-f6eb7603d6a7')\"\n",
              "            title=\"Convert this dataframe to an interactive table.\"\n",
              "            style=\"display:none;\">\n",
              "\n",
              "  <svg xmlns=\"http://www.w3.org/2000/svg\" height=\"24px\" viewBox=\"0 -960 960 960\">\n",
              "    <path d=\"M120-120v-720h720v720H120Zm60-500h600v-160H180v160Zm220 220h160v-160H400v160Zm0 220h160v-160H400v160ZM180-400h160v-160H180v160Zm440 0h160v-160H620v160ZM180-180h160v-160H180v160Zm440 0h160v-160H620v160Z\"/>\n",
              "  </svg>\n",
              "    </button>\n",
              "\n",
              "  <style>\n",
              "    .colab-df-container {\n",
              "      display:flex;\n",
              "      gap: 12px;\n",
              "    }\n",
              "\n",
              "    .colab-df-convert {\n",
              "      background-color: #E8F0FE;\n",
              "      border: none;\n",
              "      border-radius: 50%;\n",
              "      cursor: pointer;\n",
              "      display: none;\n",
              "      fill: #1967D2;\n",
              "      height: 32px;\n",
              "      padding: 0 0 0 0;\n",
              "      width: 32px;\n",
              "    }\n",
              "\n",
              "    .colab-df-convert:hover {\n",
              "      background-color: #E2EBFA;\n",
              "      box-shadow: 0px 1px 2px rgba(60, 64, 67, 0.3), 0px 1px 3px 1px rgba(60, 64, 67, 0.15);\n",
              "      fill: #174EA6;\n",
              "    }\n",
              "\n",
              "    .colab-df-buttons div {\n",
              "      margin-bottom: 4px;\n",
              "    }\n",
              "\n",
              "    [theme=dark] .colab-df-convert {\n",
              "      background-color: #3B4455;\n",
              "      fill: #D2E3FC;\n",
              "    }\n",
              "\n",
              "    [theme=dark] .colab-df-convert:hover {\n",
              "      background-color: #434B5C;\n",
              "      box-shadow: 0px 1px 3px 1px rgba(0, 0, 0, 0.15);\n",
              "      filter: drop-shadow(0px 1px 2px rgba(0, 0, 0, 0.3));\n",
              "      fill: #FFFFFF;\n",
              "    }\n",
              "  </style>\n",
              "\n",
              "    <script>\n",
              "      const buttonEl =\n",
              "        document.querySelector('#df-e75035ab-ce47-4c19-8e1d-f6eb7603d6a7 button.colab-df-convert');\n",
              "      buttonEl.style.display =\n",
              "        google.colab.kernel.accessAllowed ? 'block' : 'none';\n",
              "\n",
              "      async function convertToInteractive(key) {\n",
              "        const element = document.querySelector('#df-e75035ab-ce47-4c19-8e1d-f6eb7603d6a7');\n",
              "        const dataTable =\n",
              "          await google.colab.kernel.invokeFunction('convertToInteractive',\n",
              "                                                    [key], {});\n",
              "        if (!dataTable) return;\n",
              "\n",
              "        const docLinkHtml = 'Like what you see? Visit the ' +\n",
              "          '<a target=\"_blank\" href=https://colab.research.google.com/notebooks/data_table.ipynb>data table notebook</a>'\n",
              "          + ' to learn more about interactive tables.';\n",
              "        element.innerHTML = '';\n",
              "        dataTable['output_type'] = 'display_data';\n",
              "        await google.colab.output.renderOutput(dataTable, element);\n",
              "        const docLink = document.createElement('div');\n",
              "        docLink.innerHTML = docLinkHtml;\n",
              "        element.appendChild(docLink);\n",
              "      }\n",
              "    </script>\n",
              "  </div>\n",
              "\n",
              "\n",
              "<div id=\"df-75d81750-6ddd-4e17-8dcf-6c0ca784148b\">\n",
              "  <button class=\"colab-df-quickchart\" onclick=\"quickchart('df-75d81750-6ddd-4e17-8dcf-6c0ca784148b')\"\n",
              "            title=\"Suggest charts.\"\n",
              "            style=\"display:none;\">\n",
              "\n",
              "<svg xmlns=\"http://www.w3.org/2000/svg\" height=\"24px\"viewBox=\"0 0 24 24\"\n",
              "     width=\"24px\">\n",
              "    <g>\n",
              "        <path d=\"M19 3H5c-1.1 0-2 .9-2 2v14c0 1.1.9 2 2 2h14c1.1 0 2-.9 2-2V5c0-1.1-.9-2-2-2zM9 17H7v-7h2v7zm4 0h-2V7h2v10zm4 0h-2v-4h2v4z\"/>\n",
              "    </g>\n",
              "</svg>\n",
              "  </button>\n",
              "\n",
              "<style>\n",
              "  .colab-df-quickchart {\n",
              "    background-color: #E8F0FE;\n",
              "    border: none;\n",
              "    border-radius: 50%;\n",
              "    cursor: pointer;\n",
              "    display: none;\n",
              "    fill: #1967D2;\n",
              "    height: 32px;\n",
              "    padding: 0 0 0 0;\n",
              "    width: 32px;\n",
              "  }\n",
              "\n",
              "  .colab-df-quickchart:hover {\n",
              "    background-color: #E2EBFA;\n",
              "    box-shadow: 0px 1px 2px rgba(60, 64, 67, 0.3), 0px 1px 3px 1px rgba(60, 64, 67, 0.15);\n",
              "    fill: #174EA6;\n",
              "  }\n",
              "\n",
              "  [theme=dark] .colab-df-quickchart {\n",
              "    background-color: #3B4455;\n",
              "    fill: #D2E3FC;\n",
              "  }\n",
              "\n",
              "  [theme=dark] .colab-df-quickchart:hover {\n",
              "    background-color: #434B5C;\n",
              "    box-shadow: 0px 1px 3px 1px rgba(0, 0, 0, 0.15);\n",
              "    filter: drop-shadow(0px 1px 2px rgba(0, 0, 0, 0.3));\n",
              "    fill: #FFFFFF;\n",
              "  }\n",
              "</style>\n",
              "\n",
              "  <script>\n",
              "    async function quickchart(key) {\n",
              "      const charts = await google.colab.kernel.invokeFunction(\n",
              "          'suggestCharts', [key], {});\n",
              "    }\n",
              "    (() => {\n",
              "      let quickchartButtonEl =\n",
              "        document.querySelector('#df-75d81750-6ddd-4e17-8dcf-6c0ca784148b button');\n",
              "      quickchartButtonEl.style.display =\n",
              "        google.colab.kernel.accessAllowed ? 'block' : 'none';\n",
              "    })();\n",
              "  </script>\n",
              "</div>\n",
              "    </div>\n",
              "  </div>\n"
            ]
          },
          "metadata": {},
          "execution_count": 15
        }
      ]
    },
    {
      "cell_type": "code",
      "source": [
        "# Splitting the data\n",
        "X = combined_data_2.drop(\"label\", axis=1)\n",
        "y = combined_data_2[\"label\"]\n",
        "X_train, X_test, y_train, y_test = train_test_split(X, y, test_size=0.2, random_state=42, stratify=y)"
      ],
      "metadata": {
        "id": "B3XnAwDbNw52"
      },
      "execution_count": 16,
      "outputs": []
    },
    {
      "cell_type": "code",
      "source": [
        "# One-Hot Encoding the 'displayed_suffix' column\n",
        "encoded_suffix = pd.get_dummies(X_train['displayed_suffix'], prefix='suffix')\n",
        "# Adding the encoded columns to X_train and dropping the original 'displayed_suffix' column\n",
        "X_train = pd.concat([X_train, encoded_suffix], axis=1)\n",
        "X_train.drop(columns=['displayed_suffix'], inplace=True)\n",
        "\n",
        "# Performing the same encoding on the test set (X_test)\n",
        "encoded_suffix_test = pd.get_dummies(X_test['displayed_suffix'], prefix='suffix')\n",
        "X_test = pd.concat([X_test, encoded_suffix_test], axis=1)\n",
        "X_test.drop(columns=['displayed_suffix'], inplace=True)\n",
        "\n",
        "# Ensuring that both train and test sets have the same columns after encoding\n",
        "missing_cols = set(X_train.columns) - set(X_test.columns)\n",
        "for col in missing_cols:\n",
        "    X_test[col] = 0\n",
        "X_test = X_test[X_train.columns]"
      ],
      "metadata": {
        "id": "SzFjurSxPuwY"
      },
      "execution_count": 17,
      "outputs": []
    },
    {
      "cell_type": "code",
      "source": [
        "# Random Forest\n",
        "rf_model = RandomForestClassifier(n_estimators=100, random_state=42)\n",
        "rf_model.fit(X_train, y_train)\n",
        "rf_predictions = rf_model.predict(X_test)\n",
        "rf_metrics = (accuracy_score(y_test, rf_predictions), precision_score(y_test, rf_predictions), recall_score(y_test, rf_predictions), f1_score(y_test, rf_predictions))\n",
        "\n",
        "rf_metrics"
      ],
      "metadata": {
        "colab": {
          "base_uri": "https://localhost:8080/"
        },
        "id": "v9t6xeuOuuD-",
        "outputId": "6b8f6c04-712b-455a-8405-8bfe7021c387"
      },
      "execution_count": 18,
      "outputs": [
        {
          "output_type": "execute_result",
          "data": {
            "text/plain": [
              "(0.7983706720977597,\n",
              " 0.8392857142857143,\n",
              " 0.8623853211009175,\n",
              " 0.8506787330316743)"
            ]
          },
          "metadata": {},
          "execution_count": 18
        }
      ]
    },
    {
      "cell_type": "code",
      "source": [
        "# Hyperparameter tuning for RandomForest\n",
        "param_grid = {\n",
        "    'n_estimators': [50, 100, 150],\n",
        "    'max_depth': [None, 10, 20, 30],\n",
        "    'min_samples_split': [2, 5, 10],\n",
        "    'min_samples_leaf': [1, 2, 4]\n",
        "}\n",
        "\n",
        "grid_search = GridSearchCV(rf_model, param_grid, cv=3, scoring='accuracy', verbose=2, n_jobs=-1)\n",
        "grid_search.fit(X_train, y_train)\n",
        "\n",
        "best_rf_clf = grid_search.best_estimator_\n",
        "y_pred_best_rf = best_rf_clf.predict(X_test)\n",
        "\n",
        "accuracy_best_rf = accuracy_score(y_test, y_pred_best_rf)\n",
        "precision_best_rf = precision_score(y_test, y_pred_best_rf)\n",
        "recall_best_rf = recall_score(y_test, y_pred_best_rf)\n",
        "f1_best_rf = f1_score(y_test, y_pred_best_rf)\n",
        "\n",
        "print(\"Tuned RandomForest Results:\", accuracy_best_rf, precision_best_rf, recall_best_rf, f1_best_rf)"
      ],
      "metadata": {
        "colab": {
          "base_uri": "https://localhost:8080/"
        },
        "id": "b3o0TiaGzbZe",
        "outputId": "b0290bbc-d82b-485b-8183-4367c8793c3b"
      },
      "execution_count": 19,
      "outputs": [
        {
          "output_type": "stream",
          "name": "stdout",
          "text": [
            "Fitting 3 folds for each of 108 candidates, totalling 324 fits\n",
            "Tuned RandomForest Results: 0.8167006109979633 0.8580060422960725 0.8685015290519877 0.8632218844984801\n"
          ]
        }
      ]
    },
    {
      "cell_type": "code",
      "source": [
        "# Random forrest with bagging\n",
        "bagging_clf = BaggingClassifier(estimator=RandomForestClassifier(n_estimators=100, random_state=42),\n",
        "                                n_estimators=10, random_state=42)\n",
        "bagging_clf.fit(X_train, y_train)\n",
        "\n",
        "# Predictions\n",
        "y_pred_bagging = bagging_clf.predict(X_test)\n",
        "\n",
        "# Evaluation\n",
        "accuracy_bagging = accuracy_score(y_test, y_pred_bagging)\n",
        "precision_bagging = precision_score(y_test, y_pred_bagging)\n",
        "recall_bagging = recall_score(y_test, y_pred_bagging)\n",
        "f1_bagging = f1_score(y_test, y_pred_bagging)\n",
        "\n",
        "print(\"Accuracy:\", accuracy_bagging)\n",
        "print(\"Precision:\", precision_bagging)\n",
        "print(\"Recall:\", recall_bagging)\n",
        "print(\"F1-Score:\", f1_bagging)"
      ],
      "metadata": {
        "colab": {
          "base_uri": "https://localhost:8080/"
        },
        "id": "tNYczqyExSSt",
        "outputId": "f61830ed-c5a4-44ba-e500-fa2bee8fbb19"
      },
      "execution_count": 20,
      "outputs": [
        {
          "output_type": "stream",
          "name": "stdout",
          "text": [
            "Accuracy: 0.824847250509165\n",
            "Precision: 0.8597014925373134\n",
            "Recall: 0.8807339449541285\n",
            "F1-Score: 0.8700906344410877\n"
          ]
        }
      ]
    },
    {
      "cell_type": "code",
      "source": [
        "# Random Forest with TF-IDF\n",
        "rf_clf_tfidf = RandomForestClassifier(n_estimators=100, random_state=42)\n",
        "rf_clf_tfidf.fit(X_train, y_train)\n",
        "y_pred_rf_tfidf = rf_clf_tfidf.predict(X_test)\n",
        "accuracy_rf_tfidf = accuracy_score(y_test, y_pred_rf_tfidf)\n",
        "precision_rf_tfidf = precision_score(y_test, y_pred_rf_tfidf)\n",
        "recall_rf_tfidf = recall_score(y_test, y_pred_rf_tfidf)\n",
        "f1_rf_tfidf = f1_score(y_test, y_pred_rf_tfidf)\n",
        "\n",
        "print(\"Random Forest with TF-IDF Metrics:\")\n",
        "print(\"Accuracy:\", accuracy_rf_tfidf)\n",
        "print(\"Precision:\", precision_rf_tfidf)\n",
        "print(\"Recall:\", recall_rf_tfidf)\n",
        "print(\"F1-Score:\", f1_rf_tfidf)"
      ],
      "metadata": {
        "colab": {
          "base_uri": "https://localhost:8080/"
        },
        "id": "Hat3CRmuvzzY",
        "outputId": "4a1a7022-c2d1-4864-f193-be77b9546694"
      },
      "execution_count": 21,
      "outputs": [
        {
          "output_type": "stream",
          "name": "stdout",
          "text": [
            "Random Forest with TF-IDF Metrics:\n",
            "Accuracy: 0.7983706720977597\n",
            "Precision: 0.8392857142857143\n",
            "Recall: 0.8623853211009175\n",
            "F1-Score: 0.8506787330316743\n"
          ]
        }
      ]
    },
    {
      "cell_type": "code",
      "source": [
        "# Random forrest with SMOTE balancer\n",
        "smote = SMOTE(random_state=42)\n",
        "X_train_smote, y_train_smote = smote.fit_resample(X_train, y_train)\n",
        "\n",
        "# Training Random Forest on the SMOTE balanced data\n",
        "rf_clf_smote = RandomForestClassifier(n_estimators=100, random_state=42)\n",
        "rf_clf_smote.fit(X_train_smote, y_train_smote)\n",
        "\n",
        "# Predictions\n",
        "y_pred_rf_smote = rf_clf_smote.predict(X_test)\n",
        "\n",
        "# Evaluation\n",
        "accuracy_rf_smote = accuracy_score(y_test, y_pred_rf_smote)\n",
        "precision_rf_smote = precision_score(y_test, y_pred_rf_smote)\n",
        "recall_rf_smote = recall_score(y_test, y_pred_rf_smote)\n",
        "f1_rf_smote = f1_score(y_test, y_pred_rf_smote)\n",
        "\n",
        "accuracy_rf_smote, precision_rf_smote, recall_rf_smote, f1_rf_smote"
      ],
      "metadata": {
        "colab": {
          "base_uri": "https://localhost:8080/"
        },
        "id": "RhYmMnmbwvfb",
        "outputId": "5010833b-0f4b-48f0-e22e-f534a27a78b3"
      },
      "execution_count": 22,
      "outputs": [
        {
          "output_type": "execute_result",
          "data": {
            "text/plain": [
              "(0.7841140529531568,\n",
              " 0.8442367601246106,\n",
              " 0.8287461773700305,\n",
              " 0.8364197530864196)"
            ]
          },
          "metadata": {},
          "execution_count": 22
        }
      ]
    },
    {
      "cell_type": "code",
      "source": [
        "# Initializing the LightGBM model\n",
        "lgbm_model = lgb.LGBMClassifier(objective='binary', class_weight='balanced', random_state=42)\n",
        "\n",
        "# Training the model\n",
        "lgbm_model.fit(X_train, y_train)\n",
        "\n",
        "# Predictions\n",
        "y_pred_lgbm = lgbm_model.predict(X_test)\n",
        "\n",
        "# Evaluation\n",
        "accuracy_lgbm = accuracy_score(y_test, y_pred_lgbm)\n",
        "precision_lgbm = precision_score(y_test, y_pred_lgbm)\n",
        "recall_lgbm = recall_score(y_test, y_pred_lgbm)\n",
        "f1_lgbm = f1_score(y_test, y_pred_lgbm)\n",
        "\n",
        "accuracy_lgbm, precision_lgbm, recall_lgbm, f1_lgbm"
      ],
      "metadata": {
        "id": "ogKoxQhmhOsX",
        "colab": {
          "base_uri": "https://localhost:8080/"
        },
        "outputId": "36cb56c0-dcf8-41db-d885-42ffbc65b226"
      },
      "execution_count": 23,
      "outputs": [
        {
          "output_type": "stream",
          "name": "stdout",
          "text": [
            "[LightGBM] [Info] Number of positive: 1303, number of negative: 657\n",
            "[LightGBM] [Warning] Auto-choosing col-wise multi-threading, the overhead of testing was 0.000465 seconds.\n",
            "You can set `force_col_wise=true` to remove the overhead.\n",
            "[LightGBM] [Info] Total Bins 552\n",
            "[LightGBM] [Info] Number of data points in the train set: 1960, number of used features: 38\n",
            "[LightGBM] [Info] [binary:BoostFromScore]: pavg=0.500000 -> initscore=0.000000\n",
            "[LightGBM] [Info] Start training from score 0.000000\n"
          ]
        },
        {
          "output_type": "execute_result",
          "data": {
            "text/plain": [
              "(0.8085539714867617,\n",
              " 0.8949152542372881,\n",
              " 0.8073394495412844,\n",
              " 0.8488745980707395)"
            ]
          },
          "metadata": {},
          "execution_count": 23
        }
      ]
    },
    {
      "cell_type": "code",
      "source": [
        "# XGBoost\n",
        "xgb_model = XGBClassifier(random_state=42)\n",
        "xgb_model.fit(X_train, y_train)\n",
        "xgb_predictions = xgb_model.predict(X_test)\n",
        "xgb_metrics = (accuracy_score(y_test, xgb_predictions), precision_score(y_test, xgb_predictions), recall_score(y_test, xgb_predictions), f1_score(y_test, xgb_predictions))\n",
        "\n",
        "xgb_metrics"
      ],
      "metadata": {
        "colab": {
          "base_uri": "https://localhost:8080/"
        },
        "id": "DnWPW_wfHtzE",
        "outputId": "61b9548e-18a3-4fb9-fe2a-34e008918c31"
      },
      "execution_count": 24,
      "outputs": [
        {
          "output_type": "execute_result",
          "data": {
            "text/plain": [
              "(0.8513238289205702, 0.8895705521472392, 0.8868501529051988, 0.888208269525268)"
            ]
          },
          "metadata": {},
          "execution_count": 24
        }
      ]
    },
    {
      "cell_type": "code",
      "source": [
        "# # SVM\n",
        "# svm_model = SVC(kernel='linear', probability=True, random_state=42)\n",
        "# svm_model.fit(X_train, y_train)\n",
        "# svm_predictions = svm_model.predict(X_test)\n",
        "# svm_metrics = (accuracy_score(y_test, svm_predictions), precision_score(y_test, svm_predictions), recall_score(y_test, svm_predictions), f1_score(y_test, svm_predictions))\n",
        "\n",
        "# svm_metrics"
      ],
      "metadata": {
        "id": "3L8_MdavfbNs"
      },
      "execution_count": 25,
      "outputs": []
    },
    {
      "cell_type": "code",
      "source": [
        "# # Scaler for SVC\n",
        "# from sklearn.preprocessing import StandardScaler\n",
        "# scaler = StandardScaler()\n",
        "# X_train_scaled = scaler.fit_transform(X_train)\n",
        "# X_test_scaled = scaler.transform(X_test)\n",
        "\n",
        "# svm_model_scaled = SVC(kernel='linear', random_state=42)\n",
        "# svm_model_scaled.fit(X_train_scaled, y_train)\n",
        "# svm_predictions_scaled = svm_model_scaled.predict(X_test_scaled)"
      ],
      "metadata": {
        "id": "SynlG7K2cw2q"
      },
      "execution_count": 26,
      "outputs": []
    },
    {
      "cell_type": "code",
      "source": [
        "# accuracy_scaled = accuracy_score(y_test, svm_predictions_scaled)\n",
        "# precision_scaled = precision_score(y_test, svm_predictions_scaled)\n",
        "# recall_scaled = recall_score(y_test, svm_predictions_scaled)\n",
        "# f1_scaled = f1_score(y_test, svm_predictions_scaled)\n",
        "# print(accuracy_scaled, precision_scaled, recall_scaled, f1_scaled)\n"
      ],
      "metadata": {
        "id": "WypWjETTcy7a"
      },
      "execution_count": 27,
      "outputs": []
    },
    {
      "cell_type": "code",
      "source": [
        "# # Ensemble Method (RF + XGB)\n",
        "# ensemble_predictions = (rf_model.predict_proba(X_test)[:, 1] + xgb_model.predict_proba(X_test)[:, 1]) / 2\n",
        "# ensemble_final_predictions = [1 if prob > 0.5 else 0 for prob in ensemble_predictions]"
      ],
      "metadata": {
        "id": "OEBo8HHgffQv"
      },
      "execution_count": 28,
      "outputs": []
    },
    {
      "cell_type": "code",
      "source": [
        "# ensemble_metrics = (accuracy_score(y_test, ensemble_final_predictions), precision_score(y_test, ensemble_final_predictions), recall_score(y_test, ensemble_final_predictions), f1_score(y_test, ensemble_final_predictions))\n",
        "\n",
        "# ensemble_metrics"
      ],
      "metadata": {
        "id": "cC9SqiEMNsK4"
      },
      "execution_count": 29,
      "outputs": []
    },
    {
      "cell_type": "code",
      "source": [
        "# # Anomaly detection, poor results\n",
        "# from sklearn.model_selection import train_test_split\n",
        "# from sklearn.feature_extraction.text import TfidfVectorizer\n",
        "# from sklearn.ensemble import IsolationForest\n",
        "# from sklearn.metrics import classification_report\n",
        "\n",
        "# # Reload the datasets\n",
        "# scam_df = pd.read_csv('/content/drive/MyDrive/Master/Project/Domains/final_blocklist_domains.csv')\n",
        "# legit_df = pd.read_csv('/content/drive/MyDrive/Master/Project/Domains/final_legit_domains.csv')\n",
        "\n",
        "# # Split the legitimate URLs for training and testing\n",
        "# legit_train, legit_test = train_test_split(legit_df, test_size=0.2, random_state=42)\n",
        "\n",
        "# # For anomaly detection, we'll train on the legit_train set and test on both legit_test and scam_df\n",
        "# X_train = legit_train['Unique Domains'].fillna(\"\")\n",
        "# X_test = pd.concat([legit_test['Unique Domains'].fillna(\"\"), scam_df['url'].fillna(\"\")])\n",
        "\n",
        "# # Labels for evaluation\n",
        "# y_test = [0] * len(legit_test) + [1] * len(scam_df)\n",
        "\n",
        "# # Convert the URL strings to a format suitable for the model using TF-IDF\n",
        "# tfidf_vectorizer_anomaly = TfidfVectorizer(ngram_range=(1, 2), max_features=100)\n",
        "# X_train_tfidf = tfidf_vectorizer_anomaly.fit_transform(X_train).toarray()  # Convert to array format\n",
        "# X_test_tfidf = tfidf_vectorizer_anomaly.transform(X_test).toarray()  # Convert to array format\n",
        "\n",
        "# # Train the Isolation Forest model\n",
        "# iso_forest = IsolationForest(contamination=0.05, random_state=42)\n",
        "# iso_forest.fit(X_train_tfidf)\n",
        "\n",
        "# # Predict on the test set\n",
        "# predictions = [-1 if x == 1 else 1 for x in iso_forest.predict(X_test_tfidf)]\n",
        "\n",
        "# # Evaluate the model\n",
        "# report = classification_report(y_test, predictions)\n",
        "\n",
        "# report\n"
      ],
      "metadata": {
        "id": "DB8kwzZ1fhrI"
      },
      "execution_count": 30,
      "outputs": []
    },
    {
      "cell_type": "code",
      "source": [
        "from keras.preprocessing.text import Tokenizer\n",
        "from tensorflow.keras.preprocessing.sequence import pad_sequences\n",
        "\n",
        "# 1. Tokenize and convert URLs to sequences\n",
        "tokenizer = Tokenizer(char_level=True)\n",
        "tokenizer.fit_on_texts(combined_data['url'])\n",
        "sequences = tokenizer.texts_to_sequences(combined_data['url'])\n",
        "\n",
        "# 2. Find the max length of sequences and pad\n",
        "max_length = max([len(seq) for seq in sequences])\n",
        "X_padded = pad_sequences(sequences, maxlen=max_length)"
      ],
      "metadata": {
        "id": "ddqdGDahJx_v"
      },
      "execution_count": 31,
      "outputs": []
    },
    {
      "cell_type": "code",
      "source": [
        "# 3. Split the data into training and testing sets\n",
        "X_train, X_test, y_train, y_test = train_test_split(X_padded, combined_data['label'], test_size=0.2, random_state=42)\n",
        "\n",
        "# 4. Build and train the RNN model\n",
        "vocab_size = len(tokenizer.word_index) + 1  # Adding 1 because of reserved 0 index"
      ],
      "metadata": {
        "id": "J6e6lQOpJzKv"
      },
      "execution_count": 32,
      "outputs": []
    },
    {
      "cell_type": "code",
      "source": [
        "from keras.models import Sequential\n",
        "from keras.layers import Embedding, LSTM, Dense\n",
        "\n",
        "model = Sequential()\n",
        "model.add(Embedding(input_dim=vocab_size, output_dim=32, input_length=max_length))\n",
        "model.add(LSTM(64, return_sequences=True))\n",
        "model.add(LSTM(64))\n",
        "model.add(Dense(1, activation='sigmoid'))\n",
        "\n",
        "model.compile(optimizer='adam', loss='binary_crossentropy', metrics=['accuracy'])"
      ],
      "metadata": {
        "id": "13v0cNquJzC_"
      },
      "execution_count": 33,
      "outputs": []
    },
    {
      "cell_type": "code",
      "source": [
        "history = model.fit(X_train, y_train, validation_data=(X_test, y_test), epochs=10, batch_size=32)"
      ],
      "metadata": {
        "id": "QLgWEFwxJzAY",
        "colab": {
          "base_uri": "https://localhost:8080/"
        },
        "outputId": "fd066517-b2b0-4131-be30-02d255585670"
      },
      "execution_count": 34,
      "outputs": [
        {
          "output_type": "stream",
          "name": "stdout",
          "text": [
            "Epoch 1/10\n",
            "62/62 [==============================] - 6s 42ms/step - loss: 0.6257 - accuracy: 0.6648 - val_loss: 0.5600 - val_accuracy: 0.7088\n",
            "Epoch 2/10\n",
            "62/62 [==============================] - 2s 30ms/step - loss: 0.5604 - accuracy: 0.6995 - val_loss: 0.5046 - val_accuracy: 0.7536\n",
            "Epoch 3/10\n",
            "62/62 [==============================] - 2s 31ms/step - loss: 0.5126 - accuracy: 0.7372 - val_loss: 0.4900 - val_accuracy: 0.7699\n",
            "Epoch 4/10\n",
            "62/62 [==============================] - 2s 31ms/step - loss: 0.4937 - accuracy: 0.7480 - val_loss: 0.5231 - val_accuracy: 0.7373\n",
            "Epoch 5/10\n",
            "62/62 [==============================] - 2s 38ms/step - loss: 0.4905 - accuracy: 0.7485 - val_loss: 0.4689 - val_accuracy: 0.7841\n",
            "Epoch 6/10\n",
            "62/62 [==============================] - 2s 37ms/step - loss: 0.4745 - accuracy: 0.7658 - val_loss: 0.4644 - val_accuracy: 0.7800\n",
            "Epoch 7/10\n",
            "62/62 [==============================] - 2s 30ms/step - loss: 0.4588 - accuracy: 0.7760 - val_loss: 0.4719 - val_accuracy: 0.7800\n",
            "Epoch 8/10\n",
            "62/62 [==============================] - 2s 30ms/step - loss: 0.4620 - accuracy: 0.7796 - val_loss: 0.4785 - val_accuracy: 0.7678\n",
            "Epoch 9/10\n",
            "62/62 [==============================] - 2s 38ms/step - loss: 0.4546 - accuracy: 0.7872 - val_loss: 0.4591 - val_accuracy: 0.7800\n",
            "Epoch 10/10\n",
            "62/62 [==============================] - 3s 46ms/step - loss: 0.4470 - accuracy: 0.7827 - val_loss: 0.4553 - val_accuracy: 0.7923\n"
          ]
        }
      ]
    },
    {
      "cell_type": "code",
      "source": [
        "# Return the final training accuracy and validation accuracy\n",
        "history.history['accuracy'][-1], history.history['val_accuracy'][-1]"
      ],
      "metadata": {
        "id": "SGyhkBvDJ3Gp",
        "colab": {
          "base_uri": "https://localhost:8080/"
        },
        "outputId": "9134edcc-ba44-4abb-ae29-53498b9cfaa9"
      },
      "execution_count": 35,
      "outputs": [
        {
          "output_type": "execute_result",
          "data": {
            "text/plain": [
              "(0.7826530337333679, 0.7922607064247131)"
            ]
          },
          "metadata": {},
          "execution_count": 35
        }
      ]
    },
    {
      "cell_type": "code",
      "source": [
        "loss, accuracy = model.evaluate(X_test, y_test)\n",
        "print(f\"Test Accuracy: {accuracy * 100:.2f}%\")"
      ],
      "metadata": {
        "id": "cDtD7ZpzJ3EJ",
        "colab": {
          "base_uri": "https://localhost:8080/"
        },
        "outputId": "71310634-1701-4f2b-87de-b0219fcd0527"
      },
      "execution_count": 36,
      "outputs": [
        {
          "output_type": "stream",
          "name": "stdout",
          "text": [
            "16/16 [==============================] - 0s 9ms/step - loss: 0.4553 - accuracy: 0.7923\n",
            "Test Accuracy: 79.23%\n"
          ]
        }
      ]
    },
    {
      "cell_type": "code",
      "source": [
        "import matplotlib.pyplot as plt\n",
        "\n",
        "# Plotting training & validation accuracy\n",
        "plt.figure(figsize=(12, 4))\n",
        "plt.subplot(1, 2, 1)\n",
        "plt.plot(history.history['accuracy'], label='Training Accuracy')\n",
        "plt.plot(history.history['val_accuracy'], label='Validation Accuracy')\n",
        "plt.legend()\n",
        "plt.title('Training vs Validation Accuracy')\n",
        "\n",
        "# Plotting training & validation loss\n",
        "plt.subplot(1, 2, 2)\n",
        "plt.plot(history.history['loss'], label='Training Loss')\n",
        "plt.plot(history.history['val_loss'], label='Validation Loss')\n",
        "plt.legend()\n",
        "plt.title('Training vs Validation Loss')\n",
        "plt.tight_layout()\n",
        "plt.show()"
      ],
      "metadata": {
        "id": "dIueZr8KJ3Bm",
        "colab": {
          "base_uri": "https://localhost:8080/",
          "height": 407
        },
        "outputId": "3566c1e4-bc86-4799-a143-97cd0d2a1f87"
      },
      "execution_count": 37,
      "outputs": [
        {
          "output_type": "display_data",
          "data": {
            "text/plain": [
              "<Figure size 1200x400 with 2 Axes>"
            ],
            "image/png": "[encoded data removed]"
          },
          "metadata": {}
        }
      ]
    },
    {
      "cell_type": "code",
      "source": [
        "from keras.models import Sequential\n",
        "from keras.layers import Embedding, GRU, Dense\n",
        "from keras.preprocessing.text import Tokenizer\n",
        "from tensorflow.keras.preprocessing.sequence import pad_sequences\n",
        "\n",
        "# Tokenize the URLs at the character level\n",
        "tokenizer = Tokenizer(char_level=True)\n",
        "tokenizer.fit_on_texts(combined_data['url'])\n",
        "\n",
        "# Convert URLs to sequences of integers\n",
        "sequences = tokenizer.texts_to_sequences(combined_data['url'])\n",
        "\n",
        "max_length = max([len(seq) for seq in sequences])\n",
        "\n",
        "# Pad sequences to ensure uniform length\n",
        "X = pad_sequences(sequences, maxlen=max_length)\n",
        "\n",
        "from sklearn.model_selection import train_test_split\n",
        "\n",
        "# Splitting the data\n",
        "X_train, X_test, y_train, y_test = train_test_split(X, y, test_size=0.2, random_state=42, stratify=y)\n",
        "\n",
        "# Pad the sequences for training and test sets\n",
        "X_train_padded = pad_sequences(X_train, maxlen=max_length)\n",
        "X_test_padded = pad_sequences(X_test, maxlen=max_length)\n",
        "\n",
        "# Define the RNN model with GRU units\n",
        "gru_model = Sequential()\n",
        "gru_model.add(Embedding(input_dim=vocab_size, output_dim=32, input_length=max_length))\n",
        "gru_model.add(GRU(64, return_sequences=True))\n",
        "gru_model.add(GRU(64))\n",
        "gru_model.add(Dense(1, activation='sigmoid'))\n",
        "\n",
        "# Compile the model\n",
        "gru_model.compile(optimizer='adam', loss='binary_crossentropy', metrics=['accuracy'])\n",
        "\n",
        "# Fit the model to the training data\n",
        "gru_history = gru_model.fit(X_train_padded, y_train, validation_data=(X_test_padded, y_test), epochs=10, batch_size=32)\n",
        "\n",
        "# Evaluate the model's accuracy on the test set\n",
        "gru_accuracy = gru_model.evaluate(X_test_padded, y_test)[1]\n",
        "print(\"GRU Model Accuracy:\", gru_accuracy)\n"
      ],
      "metadata": {
        "id": "cOQ7-bIlPPuc",
        "colab": {
          "base_uri": "https://localhost:8080/"
        },
        "outputId": "03bd6685-284f-4782-8bad-f15fef8dba63"
      },
      "execution_count": 38,
      "outputs": [
        {
          "output_type": "stream",
          "name": "stdout",
          "text": [
            "Epoch 1/10\n",
            "62/62 [==============================] - 6s 46ms/step - loss: 0.6400 - accuracy: 0.6617 - val_loss: 0.6003 - val_accuracy: 0.6660\n",
            "Epoch 2/10\n",
            "62/62 [==============================] - 2s 35ms/step - loss: 0.5395 - accuracy: 0.7250 - val_loss: 0.5255 - val_accuracy: 0.7413\n",
            "Epoch 3/10\n",
            "62/62 [==============================] - 2s 28ms/step - loss: 0.4782 - accuracy: 0.7760 - val_loss: 0.4885 - val_accuracy: 0.7658\n",
            "Epoch 4/10\n",
            "62/62 [==============================] - 2s 28ms/step - loss: 0.4613 - accuracy: 0.7898 - val_loss: 0.4745 - val_accuracy: 0.7862\n",
            "Epoch 5/10\n",
            "62/62 [==============================] - 2s 29ms/step - loss: 0.4467 - accuracy: 0.8010 - val_loss: 0.4622 - val_accuracy: 0.7902\n",
            "Epoch 6/10\n",
            "62/62 [==============================] - 2s 29ms/step - loss: 0.4433 - accuracy: 0.7964 - val_loss: 0.4634 - val_accuracy: 0.8045\n",
            "Epoch 7/10\n",
            "62/62 [==============================] - 2s 29ms/step - loss: 0.4418 - accuracy: 0.7959 - val_loss: 0.4600 - val_accuracy: 0.8024\n",
            "Epoch 8/10\n",
            "62/62 [==============================] - 3s 41ms/step - loss: 0.4304 - accuracy: 0.8077 - val_loss: 0.4604 - val_accuracy: 0.7943\n",
            "Epoch 9/10\n",
            "62/62 [==============================] - 2s 33ms/step - loss: 0.4192 - accuracy: 0.8117 - val_loss: 0.4462 - val_accuracy: 0.8004\n",
            "Epoch 10/10\n",
            "62/62 [==============================] - 2s 29ms/step - loss: 0.4126 - accuracy: 0.8168 - val_loss: 0.4437 - val_accuracy: 0.7882\n",
            "16/16 [==============================] - 0s 8ms/step - loss: 0.4437 - accuracy: 0.7882\n",
            "GRU Model Accuracy: 0.7881873846054077\n"
          ]
        }
      ]
    },
    {
      "cell_type": "code",
      "source": [
        "from keras.models import Sequential\n",
        "from keras.layers import Embedding, GRU, Dense, Dropout\n",
        "from keras.preprocessing.text import Tokenizer\n",
        "from keras.callbacks import EarlyStopping\n",
        "from keras.optimizers import Adam\n",
        "\n",
        "# Tokenize the URLs at the character level\n",
        "tokenizer = Tokenizer(char_level=True)\n",
        "tokenizer.fit_on_texts(combined_data['url'])\n",
        "\n",
        "# Convert URLs to sequences of integers\n",
        "sequences = tokenizer.texts_to_sequences(combined_data['url'])\n",
        "\n",
        "max_length = max([len(seq) for seq in sequences])\n",
        "\n",
        "# Pad sequences to ensure uniform length\n",
        "X = pad_sequences(sequences, maxlen=max_length)\n",
        "y = combined_data['label'].values\n",
        "\n",
        "# Split the dataset\n",
        "X_train, X_test, y_train, y_test = train_test_split(X, y, test_size=0.2, random_state=42, stratify=y)\n",
        "\n",
        "vocab_size = len(tokenizer.word_index) + 1  # Adding 1 because of reserved 0 index\n",
        "\n",
        "# Define the GRU model\n",
        "gru_model = Sequential()\n",
        "gru_model.add(Embedding(input_dim=vocab_size, output_dim=32, input_length=max_length))\n",
        "gru_model.add(GRU(64, return_sequences=True))\n",
        "gru_model.add(Dropout(0.5))\n",
        "gru_model.add(GRU(64))\n",
        "gru_model.add(Dropout(0.5))\n",
        "gru_model.add(Dense(1, activation='sigmoid'))\n",
        "\n",
        "# Adjusting the learning rate\n",
        "optimizer = Adam(learning_rate=0.001)\n",
        "\n",
        "gru_model.compile(optimizer=optimizer, loss='binary_crossentropy', metrics=['accuracy'])\n",
        "\n",
        "# Early stopping\n",
        "early_stopping = EarlyStopping(monitor='val_loss', patience=3)\n",
        "\n",
        "# Fit the model to the training data\n",
        "gru_history = gru_model.fit(X_train, y_train, validation_data=(X_test, y_test), epochs=20, batch_size=32, callbacks=[early_stopping])\n",
        "\n",
        "# Evaluate\n",
        "accuracy = gru_model.evaluate(X_test, y_test)[1]\n",
        "print(f\"Enhanced GRU Model Accuracy: {accuracy:.4f}\")"
      ],
      "metadata": {
        "colab": {
          "base_uri": "https://localhost:8080/"
        },
        "id": "h7M6a8Yfcxnx",
        "outputId": "c9e973c5-b021-489c-ef82-55e95494e29b"
      },
      "execution_count": 39,
      "outputs": [
        {
          "output_type": "stream",
          "name": "stdout",
          "text": [
            "Epoch 1/20\n",
            "62/62 [==============================] - 5s 40ms/step - loss: 0.6353 - accuracy: 0.6592 - val_loss: 0.5935 - val_accuracy: 0.6660\n",
            "Epoch 2/20\n",
            "62/62 [==============================] - 2s 30ms/step - loss: 0.5521 - accuracy: 0.7240 - val_loss: 0.5257 - val_accuracy: 0.7637\n",
            "Epoch 3/20\n",
            "62/62 [==============================] - 2s 30ms/step - loss: 0.5047 - accuracy: 0.7694 - val_loss: 0.4909 - val_accuracy: 0.7719\n",
            "Epoch 4/20\n",
            "62/62 [==============================] - 2s 40ms/step - loss: 0.4689 - accuracy: 0.7781 - val_loss: 0.4755 - val_accuracy: 0.7882\n",
            "Epoch 5/20\n",
            "62/62 [==============================] - 2s 36ms/step - loss: 0.4652 - accuracy: 0.7949 - val_loss: 0.4654 - val_accuracy: 0.7841\n",
            "Epoch 6/20\n",
            "62/62 [==============================] - 2s 30ms/step - loss: 0.4526 - accuracy: 0.7980 - val_loss: 0.4613 - val_accuracy: 0.7902\n",
            "Epoch 7/20\n",
            "62/62 [==============================] - 2s 30ms/step - loss: 0.4549 - accuracy: 0.7974 - val_loss: 0.4777 - val_accuracy: 0.7699\n",
            "Epoch 8/20\n",
            "62/62 [==============================] - 2s 31ms/step - loss: 0.4403 - accuracy: 0.8077 - val_loss: 0.4666 - val_accuracy: 0.7902\n",
            "Epoch 9/20\n",
            "62/62 [==============================] - 2s 30ms/step - loss: 0.4439 - accuracy: 0.7944 - val_loss: 0.4637 - val_accuracy: 0.7882\n",
            "16/16 [==============================] - 0s 8ms/step - loss: 0.4637 - accuracy: 0.7882\n",
            "Enhanced GRU Model Accuracy: 0.7882\n"
          ]
        }
      ]
    },
    {
      "cell_type": "code",
      "source": [
        "import matplotlib.pyplot as plt\n",
        "\n",
        "# Plotting training & validation accuracy\n",
        "plt.figure(figsize=(12, 4))\n",
        "plt.subplot(1, 2, 1)\n",
        "plt.plot(gru_history.history['accuracy'], label='Training Accuracy')\n",
        "plt.plot(gru_history.history['val_accuracy'], label='Validation Accuracy')\n",
        "plt.legend()\n",
        "plt.title('Training vs Validation Accuracy')\n",
        "\n",
        "# Plotting training & validation loss\n",
        "plt.subplot(1, 2, 2)\n",
        "plt.plot(gru_history.history['loss'], label='Training Loss')\n",
        "plt.plot(gru_history.history['val_loss'], label='Validation Loss')\n",
        "plt.legend()\n",
        "plt.title('Training vs Validation Loss')\n",
        "plt.tight_layout()\n",
        "plt.show()"
      ],
      "metadata": {
        "colab": {
          "base_uri": "https://localhost:8080/",
          "height": 407
        },
        "id": "gUKJNJcDY7DD",
        "outputId": "2a81d31a-69e9-45db-eca1-090e19addd04"
      },
      "execution_count": 40,
      "outputs": [
        {
          "output_type": "display_data",
          "data": {
            "text/plain": [
              "<Figure size 1200x400 with 2 Axes>"
            ],
            "image/png": "[encoded data removed]"
          },
          "metadata": {}
        }
      ]
    },
    {
      "cell_type": "code",
      "source": [],
      "metadata": {
        "id": "nZSYDjWZZ1da"
      },
      "execution_count": 40,
      "outputs": []
    }
  ]
}