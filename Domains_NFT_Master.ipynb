{
  "nbformat": 4,
  "nbformat_minor": 0,
  "metadata": {
    "colab": {
      "provenance": [],
      "mount_file_id": "1F587S_5DfAPk7baBNsPitBJtOvnb-k0g",
      "authorship_tag": "ABX9TyOKUJDQ27jcTLbB/7i7SM2V",
      "include_colab_link": true
    },
    "kernelspec": {
      "name": "python3",
      "display_name": "Python 3"
    },
    "language_info": {
      "name": "python"
    }
  },
  "cells": [
    {
      "cell_type": "markdown",
      "metadata": {
        "id": "view-in-github",
        "colab_type": "text"
      },
      "source": [
        "<a href=\"https://colab.research.google.com/github/Stefi96/DetectingNFTs-Master/blob/main/Domains_NFT_Master.ipynb\" target=\"_parent\"><img src=\"https://colab.research.google.com/assets/colab-badge.svg\" alt=\"Open In Colab\"/></a>"
      ]
    },
    {
      "cell_type": "code",
      "execution_count": 35,
      "metadata": {
        "id": "cg-6sbW1fBaf"
      },
      "outputs": [],
      "source": [
        "# @title Lets import the libraries and code\n",
        "import pandas as pd\n",
        "import numpy as np\n",
        "from sklearn.model_selection import train_test_split,GridSearchCV, cross_val_score\n",
        "from sklearn.ensemble import RandomForestClassifier\n",
        "from sklearn.neural_network import MLPClassifier\n",
        "from sklearn.svm import SVC\n",
        "from sklearn.naive_bayes import GaussianNB\n",
        "from sklearn.metrics import accuracy_score, precision_score, recall_score, f1_score\n",
        "from sklearn.preprocessing import LabelEncoder\n",
        "from sklearn.feature_extraction.text import TfidfVectorizer\n",
        "from sklearn.preprocessing import StandardScaler\n",
        "from xgboost import XGBClassifier\n",
        "from lightgbm import LGBMClassifier\n",
        "from imblearn.over_sampling import SMOTE\n",
        "from sklearn.ensemble import BaggingClassifier, RandomForestClassifier"
      ]
    },
    {
      "cell_type": "code",
      "source": [
        "# Load the newly uploaded datasets\n",
        "scam_data = pd.read_csv('/content/drive/MyDrive/Master/Project/Domains/final_blocklist_domains.csv')\n",
        "legit_data = pd.read_csv('/content/drive/MyDrive/Master/Project/Domains/final_legit_domains.csv')"
      ],
      "metadata": {
        "id": "ZWMDuUrJfT4_"
      },
      "execution_count": 2,
      "outputs": []
    },
    {
      "cell_type": "code",
      "source": [
        "# Display the first few rows of each dataset for verification\n",
        "scam_data.head(), legit_data.head()"
      ],
      "metadata": {
        "colab": {
          "base_uri": "https://localhost:8080/"
        },
        "id": "I57gacn9fkS3",
        "outputId": "4c10f3ad-2d4d-4abf-b81c-ba49c09b5364"
      },
      "execution_count": 4,
      "outputs": [
        {
          "output_type": "execute_result",
          "data": {
            "text/plain": [
              "(                   url\n",
              " 0  blogpost-opensea.io\n",
              " 1       phantomweb.app\n",
              " 2           aurory.app\n",
              " 3         solvision.io\n",
              " 4        staratlas.art,\n",
              "              Unique Domains\n",
              " 0             basis.markets\n",
              " 1          skeletoncrew.rip\n",
              " 2              flippies.art\n",
              " 3  meerkatmillionaires.club\n",
              " 4           stylishstuds.io)"
            ]
          },
          "metadata": {},
          "execution_count": 4
        }
      ]
    },
    {
      "cell_type": "code",
      "source": [
        "# label the data\n",
        "scam_data['label'] = 1\n",
        "legit_data['label'] = 0\n",
        "\n",
        "# Renaming the 'Unique Domains' column in legit dataset to 'url'\n",
        "legit_data.rename(columns={\"Unique Domains\": \"url\"}, inplace=True)\n",
        "\n",
        "# Combine the datasets\n",
        "combined_data = pd.concat([scam_data, legit_data], ignore_index=True)\n",
        "\n",
        "# Display the first few rows of the combined dataset\n",
        "combined_data.head()"
      ],
      "metadata": {
        "id": "ddqVKS4mhGsk",
        "colab": {
          "base_uri": "https://localhost:8080/",
          "height": 206
        },
        "outputId": "5e5adedd-ee0f-4172-d8e5-675ffca430e8"
      },
      "execution_count": 11,
      "outputs": [
        {
          "output_type": "execute_result",
          "data": {
            "text/plain": [
              "                   url  label\n",
              "0  blogpost-opensea.io      1\n",
              "1       phantomweb.app      1\n",
              "2           aurory.app      1\n",
              "3         solvision.io      1\n",
              "4        staratlas.art      1"
            ],
            "text/html": [
              "\n",
              "\n",
              "  <div id=\"df-015f77cb-9f16-42ad-b974-338396f96373\">\n",
              "    <div class=\"colab-df-container\">\n",
              "      <div>\n",
              "<style scoped>\n",
              "    .dataframe tbody tr th:only-of-type {\n",
              "        vertical-align: middle;\n",
              "    }\n",
              "\n",
              "    .dataframe tbody tr th {\n",
              "        vertical-align: top;\n",
              "    }\n",
              "\n",
              "    .dataframe thead th {\n",
              "        text-align: right;\n",
              "    }\n",
              "</style>\n",
              "<table border=\"1\" class=\"dataframe\">\n",
              "  <thead>\n",
              "    <tr style=\"text-align: right;\">\n",
              "      <th></th>\n",
              "      <th>url</th>\n",
              "      <th>label</th>\n",
              "    </tr>\n",
              "  </thead>\n",
              "  <tbody>\n",
              "    <tr>\n",
              "      <th>0</th>\n",
              "      <td>blogpost-opensea.io</td>\n",
              "      <td>1</td>\n",
              "    </tr>\n",
              "    <tr>\n",
              "      <th>1</th>\n",
              "      <td>phantomweb.app</td>\n",
              "      <td>1</td>\n",
              "    </tr>\n",
              "    <tr>\n",
              "      <th>2</th>\n",
              "      <td>aurory.app</td>\n",
              "      <td>1</td>\n",
              "    </tr>\n",
              "    <tr>\n",
              "      <th>3</th>\n",
              "      <td>solvision.io</td>\n",
              "      <td>1</td>\n",
              "    </tr>\n",
              "    <tr>\n",
              "      <th>4</th>\n",
              "      <td>staratlas.art</td>\n",
              "      <td>1</td>\n",
              "    </tr>\n",
              "  </tbody>\n",
              "</table>\n",
              "</div>\n",
              "      <button class=\"colab-df-convert\" onclick=\"convertToInteractive('df-015f77cb-9f16-42ad-b974-338396f96373')\"\n",
              "              title=\"Convert this dataframe to an interactive table.\"\n",
              "              style=\"display:none;\">\n",
              "\n",
              "  <svg xmlns=\"http://www.w3.org/2000/svg\" height=\"24px\"viewBox=\"0 0 24 24\"\n",
              "       width=\"24px\">\n",
              "    <path d=\"M0 0h24v24H0V0z\" fill=\"none\"/>\n",
              "    <path d=\"M18.56 5.44l.94 2.06.94-2.06 2.06-.94-2.06-.94-.94-2.06-.94 2.06-2.06.94zm-11 1L8.5 8.5l.94-2.06 2.06-.94-2.06-.94L8.5 2.5l-.94 2.06-2.06.94zm10 10l.94 2.06.94-2.06 2.06-.94-2.06-.94-.94-2.06-.94 2.06-2.06.94z\"/><path d=\"M17.41 7.96l-1.37-1.37c-.4-.4-.92-.59-1.43-.59-.52 0-1.04.2-1.43.59L10.3 9.45l-7.72 7.72c-.78.78-.78 2.05 0 2.83L4 21.41c.39.39.9.59 1.41.59.51 0 1.02-.2 1.41-.59l7.78-7.78 2.81-2.81c.8-.78.8-2.07 0-2.86zM5.41 20L4 18.59l7.72-7.72 1.47 1.35L5.41 20z\"/>\n",
              "  </svg>\n",
              "      </button>\n",
              "\n",
              "\n",
              "\n",
              "    <div id=\"df-889d9547-680c-4715-a055-bb8c5eca25a0\">\n",
              "      <button class=\"colab-df-quickchart\" onclick=\"quickchart('df-889d9547-680c-4715-a055-bb8c5eca25a0')\"\n",
              "              title=\"Suggest charts.\"\n",
              "              style=\"display:none;\">\n",
              "\n",
              "<svg xmlns=\"http://www.w3.org/2000/svg\" height=\"24px\"viewBox=\"0 0 24 24\"\n",
              "     width=\"24px\">\n",
              "    <g>\n",
              "        <path d=\"M19 3H5c-1.1 0-2 .9-2 2v14c0 1.1.9 2 2 2h14c1.1 0 2-.9 2-2V5c0-1.1-.9-2-2-2zM9 17H7v-7h2v7zm4 0h-2V7h2v10zm4 0h-2v-4h2v4z\"/>\n",
              "    </g>\n",
              "</svg>\n",
              "      </button>\n",
              "    </div>\n",
              "\n",
              "<style>\n",
              "  .colab-df-quickchart {\n",
              "    background-color: #E8F0FE;\n",
              "    border: none;\n",
              "    border-radius: 50%;\n",
              "    cursor: pointer;\n",
              "    display: none;\n",
              "    fill: #1967D2;\n",
              "    height: 32px;\n",
              "    padding: 0 0 0 0;\n",
              "    width: 32px;\n",
              "  }\n",
              "\n",
              "  .colab-df-quickchart:hover {\n",
              "    background-color: #E2EBFA;\n",
              "    box-shadow: 0px 1px 2px rgba(60, 64, 67, 0.3), 0px 1px 3px 1px rgba(60, 64, 67, 0.15);\n",
              "    fill: #174EA6;\n",
              "  }\n",
              "\n",
              "  [theme=dark] .colab-df-quickchart {\n",
              "    background-color: #3B4455;\n",
              "    fill: #D2E3FC;\n",
              "  }\n",
              "\n",
              "  [theme=dark] .colab-df-quickchart:hover {\n",
              "    background-color: #434B5C;\n",
              "    box-shadow: 0px 1px 3px 1px rgba(0, 0, 0, 0.15);\n",
              "    filter: drop-shadow(0px 1px 2px rgba(0, 0, 0, 0.3));\n",
              "    fill: #FFFFFF;\n",
              "  }\n",
              "</style>\n",
              "\n",
              "    <script>\n",
              "      async function quickchart(key) {\n",
              "        const containerElement = document.querySelector('#' + key);\n",
              "        const charts = await google.colab.kernel.invokeFunction(\n",
              "            'suggestCharts', [key], {});\n",
              "      }\n",
              "    </script>\n",
              "\n",
              "      <script>\n",
              "\n",
              "function displayQuickchartButton(domScope) {\n",
              "  let quickchartButtonEl =\n",
              "    domScope.querySelector('#df-889d9547-680c-4715-a055-bb8c5eca25a0 button.colab-df-quickchart');\n",
              "  quickchartButtonEl.style.display =\n",
              "    google.colab.kernel.accessAllowed ? 'block' : 'none';\n",
              "}\n",
              "\n",
              "        displayQuickchartButton(document);\n",
              "      </script>\n",
              "      <style>\n",
              "    .colab-df-container {\n",
              "      display:flex;\n",
              "      flex-wrap:wrap;\n",
              "      gap: 12px;\n",
              "    }\n",
              "\n",
              "    .colab-df-convert {\n",
              "      background-color: #E8F0FE;\n",
              "      border: none;\n",
              "      border-radius: 50%;\n",
              "      cursor: pointer;\n",
              "      display: none;\n",
              "      fill: #1967D2;\n",
              "      height: 32px;\n",
              "      padding: 0 0 0 0;\n",
              "      width: 32px;\n",
              "    }\n",
              "\n",
              "    .colab-df-convert:hover {\n",
              "      background-color: #E2EBFA;\n",
              "      box-shadow: 0px 1px 2px rgba(60, 64, 67, 0.3), 0px 1px 3px 1px rgba(60, 64, 67, 0.15);\n",
              "      fill: #174EA6;\n",
              "    }\n",
              "\n",
              "    [theme=dark] .colab-df-convert {\n",
              "      background-color: #3B4455;\n",
              "      fill: #D2E3FC;\n",
              "    }\n",
              "\n",
              "    [theme=dark] .colab-df-convert:hover {\n",
              "      background-color: #434B5C;\n",
              "      box-shadow: 0px 1px 3px 1px rgba(0, 0, 0, 0.15);\n",
              "      filter: drop-shadow(0px 1px 2px rgba(0, 0, 0, 0.3));\n",
              "      fill: #FFFFFF;\n",
              "    }\n",
              "  </style>\n",
              "\n",
              "      <script>\n",
              "        const buttonEl =\n",
              "          document.querySelector('#df-015f77cb-9f16-42ad-b974-338396f96373 button.colab-df-convert');\n",
              "        buttonEl.style.display =\n",
              "          google.colab.kernel.accessAllowed ? 'block' : 'none';\n",
              "\n",
              "        async function convertToInteractive(key) {\n",
              "          const element = document.querySelector('#df-015f77cb-9f16-42ad-b974-338396f96373');\n",
              "          const dataTable =\n",
              "            await google.colab.kernel.invokeFunction('convertToInteractive',\n",
              "                                                     [key], {});\n",
              "          if (!dataTable) return;\n",
              "\n",
              "          const docLinkHtml = 'Like what you see? Visit the ' +\n",
              "            '<a target=\"_blank\" href=https://colab.research.google.com/notebooks/data_table.ipynb>data table notebook</a>'\n",
              "            + ' to learn more about interactive tables.';\n",
              "          element.innerHTML = '';\n",
              "          dataTable['output_type'] = 'display_data';\n",
              "          await google.colab.output.renderOutput(dataTable, element);\n",
              "          const docLink = document.createElement('div');\n",
              "          docLink.innerHTML = docLinkHtml;\n",
              "          element.appendChild(docLink);\n",
              "        }\n",
              "      </script>\n",
              "    </div>\n",
              "  </div>\n"
            ]
          },
          "metadata": {},
          "execution_count": 11
        }
      ]
    },
    {
      "cell_type": "code",
      "source": [
        "# Check for missing values\n",
        "combined_data.isna().sum()\n",
        "\n",
        "# Fill NaN with placeholder\n",
        "combined_data['url'] = combined_data['url'].fillna(\"missing\")\n",
        "\n",
        "# Drop NA\n",
        "#combined_data = combined_data.dropna()"
      ],
      "metadata": {
        "id": "ChBNpcsit1gW"
      },
      "execution_count": 17,
      "outputs": []
    },
    {
      "cell_type": "code",
      "source": [
        "combined_data['url']"
      ],
      "metadata": {
        "colab": {
          "base_uri": "https://localhost:8080/"
        },
        "id": "NJ-yqWDpuOTI",
        "outputId": "3eb64246-1401-4a7f-cf67-19a83d2f5bd7"
      },
      "execution_count": 18,
      "outputs": [
        {
          "output_type": "execute_result",
          "data": {
            "text/plain": [
              "0           blogpost-opensea.io\n",
              "1                phantomweb.app\n",
              "2                    aurory.app\n",
              "3                  solvision.io\n",
              "4                 staratlas.art\n",
              "                 ...           \n",
              "2446                 koinkoi.io\n",
              "2447            burritoboyz.wtf\n",
              "2448                   t00b.app\n",
              "2449            outcast.academy\n",
              "2450    apesofwallstreetnft.com\n",
              "Name: url, Length: 2451, dtype: object"
            ]
          },
          "metadata": {},
          "execution_count": 18
        }
      ]
    },
    {
      "cell_type": "code",
      "source": [
        "# # Convert the 'url' column to string\n",
        "# combined_data['url'] = combined_data['url'].astype(str)"
      ],
      "metadata": {
        "id": "6tjTb9_fyHXz"
      },
      "execution_count": null,
      "outputs": []
    },
    {
      "cell_type": "code",
      "source": [
        "# Label encoding the URLs\n",
        "label_encoder = LabelEncoder()\n",
        "combined_data['url_encoded'] = label_encoder.fit_transform(combined_data['url'])"
      ],
      "metadata": {
        "id": "5QAbJeKDuRBv"
      },
      "execution_count": 21,
      "outputs": []
    },
    {
      "cell_type": "code",
      "source": [
        "# Extracting features from the URLs\n",
        "combined_data['domain_length'] = combined_data['url'].apply(lambda x: len(x))\n",
        "combined_data['num_special_chars'] = combined_data['url'].apply(lambda x: sum([1 for char in x if not char.isalnum()]))\n",
        "combined_data['num_subdomains'] = combined_data['url'].apply(lambda x: x.count('.'))\n",
        "combined_data['has_http'] = combined_data['url'].apply(lambda x: 1 if 'http' in x else 0)\n",
        "combined_data['has_https'] = combined_data['url'].apply(lambda x: 1 if 'https' in x else 0)\n",
        "combined_data['has_www'] = combined_data['url'].apply(lambda x: 1 if 'www' in x else 0)\n",
        "combined_data['has_numbers'] = combined_data['url'].apply(lambda x: 1 if any(char.isdigit() for char in x) else 0)"
      ],
      "metadata": {
        "id": "3RAyHpLMueyL"
      },
      "execution_count": 23,
      "outputs": []
    },
    {
      "cell_type": "code",
      "source": [
        "combined_data"
      ],
      "metadata": {
        "colab": {
          "base_uri": "https://localhost:8080/",
          "height": 424
        },
        "id": "K_B-NKxGuf6J",
        "outputId": "c3eb8749-a339-4090-c809-1b1160042297"
      },
      "execution_count": 24,
      "outputs": [
        {
          "output_type": "execute_result",
          "data": {
            "text/plain": [
              "                          url  label  url_encoded  domain_length  \\\n",
              "0         blogpost-opensea.io      1          184             19   \n",
              "1              phantomweb.app      1         1422             14   \n",
              "2                  aurory.app      1          133             10   \n",
              "3                solvision.io      1         2101             12   \n",
              "4               staratlas.art      1         2130             13   \n",
              "...                       ...    ...          ...            ...   \n",
              "2446               koinkoi.io      0          801             10   \n",
              "2447          burritoboyz.wtf      0          267             15   \n",
              "2448                 t00b.app      0         2180              8   \n",
              "2449          outcast.academy      0         1337             15   \n",
              "2450  apesofwallstreetnft.com      0           80             23   \n",
              "\n",
              "      num_special_chars  num_subdomains  has_http  has_https  has_www  \\\n",
              "0                     2               1         0          0        0   \n",
              "1                     1               1         0          0        0   \n",
              "2                     1               1         0          0        0   \n",
              "3                     1               1         0          0        0   \n",
              "4                     1               1         0          0        0   \n",
              "...                 ...             ...       ...        ...      ...   \n",
              "2446                  1               1         0          0        0   \n",
              "2447                  1               1         0          0        0   \n",
              "2448                  1               1         0          0        0   \n",
              "2449                  1               1         0          0        0   \n",
              "2450                  1               1         0          0        0   \n",
              "\n",
              "      has_numbers  \n",
              "0               0  \n",
              "1               0  \n",
              "2               0  \n",
              "3               0  \n",
              "4               0  \n",
              "...           ...  \n",
              "2446            0  \n",
              "2447            0  \n",
              "2448            1  \n",
              "2449            0  \n",
              "2450            0  \n",
              "\n",
              "[2451 rows x 10 columns]"
            ],
            "text/html": [
              "\n",
              "\n",
              "  <div id=\"df-dd40e48f-c8e0-4b09-80bc-2408d7100c6f\">\n",
              "    <div class=\"colab-df-container\">\n",
              "      <div>\n",
              "<style scoped>\n",
              "    .dataframe tbody tr th:only-of-type {\n",
              "        vertical-align: middle;\n",
              "    }\n",
              "\n",
              "    .dataframe tbody tr th {\n",
              "        vertical-align: top;\n",
              "    }\n",
              "\n",
              "    .dataframe thead th {\n",
              "        text-align: right;\n",
              "    }\n",
              "</style>\n",
              "<table border=\"1\" class=\"dataframe\">\n",
              "  <thead>\n",
              "    <tr style=\"text-align: right;\">\n",
              "      <th></th>\n",
              "      <th>url</th>\n",
              "      <th>label</th>\n",
              "      <th>url_encoded</th>\n",
              "      <th>domain_length</th>\n",
              "      <th>num_special_chars</th>\n",
              "      <th>num_subdomains</th>\n",
              "      <th>has_http</th>\n",
              "      <th>has_https</th>\n",
              "      <th>has_www</th>\n",
              "      <th>has_numbers</th>\n",
              "    </tr>\n",
              "  </thead>\n",
              "  <tbody>\n",
              "    <tr>\n",
              "      <th>0</th>\n",
              "      <td>blogpost-opensea.io</td>\n",
              "      <td>1</td>\n",
              "      <td>184</td>\n",
              "      <td>19</td>\n",
              "      <td>2</td>\n",
              "      <td>1</td>\n",
              "      <td>0</td>\n",
              "      <td>0</td>\n",
              "      <td>0</td>\n",
              "      <td>0</td>\n",
              "    </tr>\n",
              "    <tr>\n",
              "      <th>1</th>\n",
              "      <td>phantomweb.app</td>\n",
              "      <td>1</td>\n",
              "      <td>1422</td>\n",
              "      <td>14</td>\n",
              "      <td>1</td>\n",
              "      <td>1</td>\n",
              "      <td>0</td>\n",
              "      <td>0</td>\n",
              "      <td>0</td>\n",
              "      <td>0</td>\n",
              "    </tr>\n",
              "    <tr>\n",
              "      <th>2</th>\n",
              "      <td>aurory.app</td>\n",
              "      <td>1</td>\n",
              "      <td>133</td>\n",
              "      <td>10</td>\n",
              "      <td>1</td>\n",
              "      <td>1</td>\n",
              "      <td>0</td>\n",
              "      <td>0</td>\n",
              "      <td>0</td>\n",
              "      <td>0</td>\n",
              "    </tr>\n",
              "    <tr>\n",
              "      <th>3</th>\n",
              "      <td>solvision.io</td>\n",
              "      <td>1</td>\n",
              "      <td>2101</td>\n",
              "      <td>12</td>\n",
              "      <td>1</td>\n",
              "      <td>1</td>\n",
              "      <td>0</td>\n",
              "      <td>0</td>\n",
              "      <td>0</td>\n",
              "      <td>0</td>\n",
              "    </tr>\n",
              "    <tr>\n",
              "      <th>4</th>\n",
              "      <td>staratlas.art</td>\n",
              "      <td>1</td>\n",
              "      <td>2130</td>\n",
              "      <td>13</td>\n",
              "      <td>1</td>\n",
              "      <td>1</td>\n",
              "      <td>0</td>\n",
              "      <td>0</td>\n",
              "      <td>0</td>\n",
              "      <td>0</td>\n",
              "    </tr>\n",
              "    <tr>\n",
              "      <th>...</th>\n",
              "      <td>...</td>\n",
              "      <td>...</td>\n",
              "      <td>...</td>\n",
              "      <td>...</td>\n",
              "      <td>...</td>\n",
              "      <td>...</td>\n",
              "      <td>...</td>\n",
              "      <td>...</td>\n",
              "      <td>...</td>\n",
              "      <td>...</td>\n",
              "    </tr>\n",
              "    <tr>\n",
              "      <th>2446</th>\n",
              "      <td>koinkoi.io</td>\n",
              "      <td>0</td>\n",
              "      <td>801</td>\n",
              "      <td>10</td>\n",
              "      <td>1</td>\n",
              "      <td>1</td>\n",
              "      <td>0</td>\n",
              "      <td>0</td>\n",
              "      <td>0</td>\n",
              "      <td>0</td>\n",
              "    </tr>\n",
              "    <tr>\n",
              "      <th>2447</th>\n",
              "      <td>burritoboyz.wtf</td>\n",
              "      <td>0</td>\n",
              "      <td>267</td>\n",
              "      <td>15</td>\n",
              "      <td>1</td>\n",
              "      <td>1</td>\n",
              "      <td>0</td>\n",
              "      <td>0</td>\n",
              "      <td>0</td>\n",
              "      <td>0</td>\n",
              "    </tr>\n",
              "    <tr>\n",
              "      <th>2448</th>\n",
              "      <td>t00b.app</td>\n",
              "      <td>0</td>\n",
              "      <td>2180</td>\n",
              "      <td>8</td>\n",
              "      <td>1</td>\n",
              "      <td>1</td>\n",
              "      <td>0</td>\n",
              "      <td>0</td>\n",
              "      <td>0</td>\n",
              "      <td>1</td>\n",
              "    </tr>\n",
              "    <tr>\n",
              "      <th>2449</th>\n",
              "      <td>outcast.academy</td>\n",
              "      <td>0</td>\n",
              "      <td>1337</td>\n",
              "      <td>15</td>\n",
              "      <td>1</td>\n",
              "      <td>1</td>\n",
              "      <td>0</td>\n",
              "      <td>0</td>\n",
              "      <td>0</td>\n",
              "      <td>0</td>\n",
              "    </tr>\n",
              "    <tr>\n",
              "      <th>2450</th>\n",
              "      <td>apesofwallstreetnft.com</td>\n",
              "      <td>0</td>\n",
              "      <td>80</td>\n",
              "      <td>23</td>\n",
              "      <td>1</td>\n",
              "      <td>1</td>\n",
              "      <td>0</td>\n",
              "      <td>0</td>\n",
              "      <td>0</td>\n",
              "      <td>0</td>\n",
              "    </tr>\n",
              "  </tbody>\n",
              "</table>\n",
              "<p>2451 rows × 10 columns</p>\n",
              "</div>\n",
              "      <button class=\"colab-df-convert\" onclick=\"convertToInteractive('df-dd40e48f-c8e0-4b09-80bc-2408d7100c6f')\"\n",
              "              title=\"Convert this dataframe to an interactive table.\"\n",
              "              style=\"display:none;\">\n",
              "\n",
              "  <svg xmlns=\"http://www.w3.org/2000/svg\" height=\"24px\"viewBox=\"0 0 24 24\"\n",
              "       width=\"24px\">\n",
              "    <path d=\"M0 0h24v24H0V0z\" fill=\"none\"/>\n",
              "    <path d=\"M18.56 5.44l.94 2.06.94-2.06 2.06-.94-2.06-.94-.94-2.06-.94 2.06-2.06.94zm-11 1L8.5 8.5l.94-2.06 2.06-.94-2.06-.94L8.5 2.5l-.94 2.06-2.06.94zm10 10l.94 2.06.94-2.06 2.06-.94-2.06-.94-.94-2.06-.94 2.06-2.06.94z\"/><path d=\"M17.41 7.96l-1.37-1.37c-.4-.4-.92-.59-1.43-.59-.52 0-1.04.2-1.43.59L10.3 9.45l-7.72 7.72c-.78.78-.78 2.05 0 2.83L4 21.41c.39.39.9.59 1.41.59.51 0 1.02-.2 1.41-.59l7.78-7.78 2.81-2.81c.8-.78.8-2.07 0-2.86zM5.41 20L4 18.59l7.72-7.72 1.47 1.35L5.41 20z\"/>\n",
              "  </svg>\n",
              "      </button>\n",
              "\n",
              "\n",
              "\n",
              "    <div id=\"df-8cef254f-6e6f-4889-9b19-12060bdcbb6b\">\n",
              "      <button class=\"colab-df-quickchart\" onclick=\"quickchart('df-8cef254f-6e6f-4889-9b19-12060bdcbb6b')\"\n",
              "              title=\"Suggest charts.\"\n",
              "              style=\"display:none;\">\n",
              "\n",
              "<svg xmlns=\"http://www.w3.org/2000/svg\" height=\"24px\"viewBox=\"0 0 24 24\"\n",
              "     width=\"24px\">\n",
              "    <g>\n",
              "        <path d=\"M19 3H5c-1.1 0-2 .9-2 2v14c0 1.1.9 2 2 2h14c1.1 0 2-.9 2-2V5c0-1.1-.9-2-2-2zM9 17H7v-7h2v7zm4 0h-2V7h2v10zm4 0h-2v-4h2v4z\"/>\n",
              "    </g>\n",
              "</svg>\n",
              "      </button>\n",
              "    </div>\n",
              "\n",
              "<style>\n",
              "  .colab-df-quickchart {\n",
              "    background-color: #E8F0FE;\n",
              "    border: none;\n",
              "    border-radius: 50%;\n",
              "    cursor: pointer;\n",
              "    display: none;\n",
              "    fill: #1967D2;\n",
              "    height: 32px;\n",
              "    padding: 0 0 0 0;\n",
              "    width: 32px;\n",
              "  }\n",
              "\n",
              "  .colab-df-quickchart:hover {\n",
              "    background-color: #E2EBFA;\n",
              "    box-shadow: 0px 1px 2px rgba(60, 64, 67, 0.3), 0px 1px 3px 1px rgba(60, 64, 67, 0.15);\n",
              "    fill: #174EA6;\n",
              "  }\n",
              "\n",
              "  [theme=dark] .colab-df-quickchart {\n",
              "    background-color: #3B4455;\n",
              "    fill: #D2E3FC;\n",
              "  }\n",
              "\n",
              "  [theme=dark] .colab-df-quickchart:hover {\n",
              "    background-color: #434B5C;\n",
              "    box-shadow: 0px 1px 3px 1px rgba(0, 0, 0, 0.15);\n",
              "    filter: drop-shadow(0px 1px 2px rgba(0, 0, 0, 0.3));\n",
              "    fill: #FFFFFF;\n",
              "  }\n",
              "</style>\n",
              "\n",
              "    <script>\n",
              "      async function quickchart(key) {\n",
              "        const containerElement = document.querySelector('#' + key);\n",
              "        const charts = await google.colab.kernel.invokeFunction(\n",
              "            'suggestCharts', [key], {});\n",
              "      }\n",
              "    </script>\n",
              "\n",
              "      <script>\n",
              "\n",
              "function displayQuickchartButton(domScope) {\n",
              "  let quickchartButtonEl =\n",
              "    domScope.querySelector('#df-8cef254f-6e6f-4889-9b19-12060bdcbb6b button.colab-df-quickchart');\n",
              "  quickchartButtonEl.style.display =\n",
              "    google.colab.kernel.accessAllowed ? 'block' : 'none';\n",
              "}\n",
              "\n",
              "        displayQuickchartButton(document);\n",
              "      </script>\n",
              "      <style>\n",
              "    .colab-df-container {\n",
              "      display:flex;\n",
              "      flex-wrap:wrap;\n",
              "      gap: 12px;\n",
              "    }\n",
              "\n",
              "    .colab-df-convert {\n",
              "      background-color: #E8F0FE;\n",
              "      border: none;\n",
              "      border-radius: 50%;\n",
              "      cursor: pointer;\n",
              "      display: none;\n",
              "      fill: #1967D2;\n",
              "      height: 32px;\n",
              "      padding: 0 0 0 0;\n",
              "      width: 32px;\n",
              "    }\n",
              "\n",
              "    .colab-df-convert:hover {\n",
              "      background-color: #E2EBFA;\n",
              "      box-shadow: 0px 1px 2px rgba(60, 64, 67, 0.3), 0px 1px 3px 1px rgba(60, 64, 67, 0.15);\n",
              "      fill: #174EA6;\n",
              "    }\n",
              "\n",
              "    [theme=dark] .colab-df-convert {\n",
              "      background-color: #3B4455;\n",
              "      fill: #D2E3FC;\n",
              "    }\n",
              "\n",
              "    [theme=dark] .colab-df-convert:hover {\n",
              "      background-color: #434B5C;\n",
              "      box-shadow: 0px 1px 3px 1px rgba(0, 0, 0, 0.15);\n",
              "      filter: drop-shadow(0px 1px 2px rgba(0, 0, 0, 0.3));\n",
              "      fill: #FFFFFF;\n",
              "    }\n",
              "  </style>\n",
              "\n",
              "      <script>\n",
              "        const buttonEl =\n",
              "          document.querySelector('#df-dd40e48f-c8e0-4b09-80bc-2408d7100c6f button.colab-df-convert');\n",
              "        buttonEl.style.display =\n",
              "          google.colab.kernel.accessAllowed ? 'block' : 'none';\n",
              "\n",
              "        async function convertToInteractive(key) {\n",
              "          const element = document.querySelector('#df-dd40e48f-c8e0-4b09-80bc-2408d7100c6f');\n",
              "          const dataTable =\n",
              "            await google.colab.kernel.invokeFunction('convertToInteractive',\n",
              "                                                     [key], {});\n",
              "          if (!dataTable) return;\n",
              "\n",
              "          const docLinkHtml = 'Like what you see? Visit the ' +\n",
              "            '<a target=\"_blank\" href=https://colab.research.google.com/notebooks/data_table.ipynb>data table notebook</a>'\n",
              "            + ' to learn more about interactive tables.';\n",
              "          element.innerHTML = '';\n",
              "          dataTable['output_type'] = 'display_data';\n",
              "          await google.colab.output.renderOutput(dataTable, element);\n",
              "          const docLink = document.createElement('div');\n",
              "          docLink.innerHTML = docLinkHtml;\n",
              "          element.appendChild(docLink);\n",
              "        }\n",
              "      </script>\n",
              "    </div>\n",
              "  </div>\n"
            ]
          },
          "metadata": {},
          "execution_count": 24
        }
      ]
    },
    {
      "cell_type": "code",
      "source": [
        "# # NLP transformations on the URLs\n",
        "# tfidf_vectorizer = TfidfVectorizer(max_features=100)\n",
        "# url_tfidf = tfidf_vectorizer.fit_transform(combined_data['url'])\n",
        "# url_tfidf_df = pd.DataFrame(url_tfidf.toarray(), columns=tfidf_vectorizer.get_feature_names_out())\n",
        "# combined_data = pd.concat([combined_data, url_tfidf_df], axis=1)\n",
        "combined_data.drop(columns=['url'], inplace=True)"
      ],
      "metadata": {
        "id": "-odhUXhDuuT1"
      },
      "execution_count": 28,
      "outputs": []
    },
    {
      "cell_type": "code",
      "source": [
        "# Splitting the data\n",
        "X = combined_data.drop(\"label\", axis=1)\n",
        "y = combined_data[\"label\"]\n",
        "X_train, X_test, y_train, y_test = train_test_split(X, y, test_size=0.3, random_state=42, stratify=y) # maybe without stratify"
      ],
      "metadata": {
        "id": "JntayW3VuuNT"
      },
      "execution_count": 29,
      "outputs": []
    },
    {
      "cell_type": "code",
      "source": [
        "# Random Forest\n",
        "rf_model = RandomForestClassifier(n_estimators=100, random_state=42)\n",
        "rf_model.fit(X_train, y_train)\n",
        "rf_predictions = rf_model.predict(X_test)\n",
        "rf_metrics = (accuracy_score(y_test, rf_predictions), precision_score(y_test, rf_predictions), recall_score(y_test, rf_predictions), f1_score(y_test, rf_predictions))\n",
        "\n",
        "rf_metrics"
      ],
      "metadata": {
        "colab": {
          "base_uri": "https://localhost:8080/"
        },
        "id": "v9t6xeuOuuD-",
        "outputId": "43d24003-1c20-4727-fe5b-8e9f65ea01e9"
      },
      "execution_count": 30,
      "outputs": [
        {
          "output_type": "execute_result",
          "data": {
            "text/plain": [
              "(0.7576374745417516, 0.811377245508982, 0.8287461773700305, 0.8199697428139182)"
            ]
          },
          "metadata": {},
          "execution_count": 30
        }
      ]
    },
    {
      "cell_type": "code",
      "source": [
        "# Hyperparameter tuning for RandomForest\n",
        "param_grid = {\n",
        "    'n_estimators': [50, 100, 150],\n",
        "    'max_depth': [None, 10, 20, 30],\n",
        "    'min_samples_split': [2, 5, 10],\n",
        "    'min_samples_leaf': [1, 2, 4]\n",
        "}\n",
        "\n",
        "grid_search = GridSearchCV(rf_model, param_grid, cv=3, scoring='accuracy', verbose=2, n_jobs=-1)\n",
        "grid_search.fit(X_train, y_train)\n",
        "\n",
        "best_rf_clf = grid_search.best_estimator_\n",
        "y_pred_best_rf = best_rf_clf.predict(X_test)\n",
        "\n",
        "accuracy_best_rf = accuracy_score(y_test, y_pred_best_rf)\n",
        "precision_best_rf = precision_score(y_test, y_pred_best_rf)\n",
        "recall_best_rf = recall_score(y_test, y_pred_best_rf)\n",
        "f1_best_rf = f1_score(y_test, y_pred_best_rf)\n",
        "\n",
        "print(\"Tuned RandomForest Results:\", accuracy_best_rf, precision_best_rf, recall_best_rf, f1_best_rf)"
      ],
      "metadata": {
        "colab": {
          "base_uri": "https://localhost:8080/"
        },
        "id": "b3o0TiaGzbZe",
        "outputId": "fce81c3f-b884-413d-d138-c37df949e097"
      },
      "execution_count": null,
      "outputs": [
        {
          "output_type": "stream",
          "name": "stdout",
          "text": [
            "Fitting 3 folds for each of 108 candidates, totalling 324 fits\n"
          ]
        }
      ]
    },
    {
      "cell_type": "code",
      "source": [
        "# Random forrest with bagging\n",
        "bagging_clf = BaggingClassifier(base_estimator=RandomForestClassifier(n_estimators=100, random_state=42),\n",
        "                                n_estimators=10, random_state=42)\n",
        "bagging_clf.fit(X_train, y_train)\n",
        "\n",
        "# Predictions\n",
        "y_pred_bagging = bagging_clf.predict(X_test)\n",
        "\n",
        "# Evaluation\n",
        "accuracy_bagging = accuracy_score(y_test, y_pred_bagging)\n",
        "precision_bagging = precision_score(y_test, y_pred_bagging)\n",
        "recall_bagging = recall_score(y_test, y_pred_bagging)\n",
        "f1_bagging = f1_score(y_test, y_pred_bagging)\n",
        "\n",
        "print(\"Accuracy:\", accuracy_bagging)\n",
        "print(\"Precision:\", precision_bagging)\n",
        "print(\"Recall:\", recall_bagging)\n",
        "print(\"F1-Score:\", f1_bagging)"
      ],
      "metadata": {
        "colab": {
          "base_uri": "https://localhost:8080/"
        },
        "id": "tNYczqyExSSt",
        "outputId": "cd574f52-10fa-4df8-9067-7d0cda5baa06"
      },
      "execution_count": 36,
      "outputs": [
        {
          "output_type": "stream",
          "name": "stderr",
          "text": [
            "/usr/local/lib/python3.10/dist-packages/sklearn/ensemble/_base.py:166: FutureWarning: `base_estimator` was renamed to `estimator` in version 1.2 and will be removed in 1.4.\n",
            "  warnings.warn(\n"
          ]
        },
        {
          "output_type": "stream",
          "name": "stdout",
          "text": [
            "Accuracy: 0.7535641547861507\n",
            "Precision: 0.8047337278106509\n",
            "Recall: 0.8318042813455657\n",
            "F1-Score: 0.8180451127819549\n"
          ]
        }
      ]
    },
    {
      "cell_type": "code",
      "source": [
        "# # NLP preprocessing\n",
        "# combined_data['url'].fillna(\"\", inplace=True)\n",
        "# combined_data['url'] = combined_data['url'].fillna(\"missing\")\n",
        "# combined_data['tokenized_url'] = combined_data['url'].str.split(r'\\W+')\n",
        "# combined_data['tokenized_url_str'] = combined_data['tokenized_url'].str.join(' ')\n",
        "# vectorizer = TfidfVectorizer(ngram_range=(1, 2))\n",
        "# X_tfidf = vectorizer.fit_transform(combined_data['tokenized_url_str'])\n",
        "# X_train_tfidf, X_test_tfidf, y_train_tfidf, y_test_tfidf = train_test_split(X_tfidf, combined_data['label'], test_size=0.3, random_state=42)"
      ],
      "metadata": {
        "id": "6VEgTQ8wwDl2"
      },
      "execution_count": null,
      "outputs": []
    },
    {
      "cell_type": "code",
      "source": [
        "# # Just in case, check for NAN or empty strings\n",
        "# nan_string_count = combined_data[combined_data['url'] == \"NAN\"].shape[0]\n",
        "# nan_string_count"
      ],
      "metadata": {
        "id": "0JG9uqvrwkBu"
      },
      "execution_count": null,
      "outputs": []
    },
    {
      "cell_type": "code",
      "source": [
        "# Random Forest with TF-IDF\n",
        "rf_clf_tfidf = RandomForestClassifier(n_estimators=100, random_state=42)\n",
        "rf_clf_tfidf.fit(X_train, y_train)\n",
        "y_pred_rf_tfidf = rf_clf_tfidf.predict(X_test)\n",
        "accuracy_rf_tfidf = accuracy_score(y_test, y_pred_rf_tfidf)\n",
        "precision_rf_tfidf = precision_score(y_test, y_pred_rf_tfidf)\n",
        "recall_rf_tfidf = recall_score(y_test, y_pred_rf_tfidf)\n",
        "f1_rf_tfidf = f1_score(y_test, y_pred_rf_tfidf)\n",
        "\n",
        "print(\"Random Forest with TF-IDF Metrics:\")\n",
        "print(\"Accuracy:\", accuracy_rf_tfidf)\n",
        "print(\"Precision:\", precision_rf_tfidf)\n",
        "print(\"Recall:\", recall_rf_tfidf)\n",
        "print(\"F1-Score:\", f1_rf_tfidf)"
      ],
      "metadata": {
        "colab": {
          "base_uri": "https://localhost:8080/"
        },
        "id": "Hat3CRmuvzzY",
        "outputId": "46dceabf-b84d-48b9-d390-9c98a1024a5f"
      },
      "execution_count": 32,
      "outputs": [
        {
          "output_type": "stream",
          "name": "stdout",
          "text": [
            "Random Forest with TF-IDF Metrics:\n",
            "Accuracy: 0.7576374745417516\n",
            "Precision: 0.811377245508982\n",
            "Recall: 0.8287461773700305\n",
            "F1-Score: 0.8199697428139182\n"
          ]
        }
      ]
    },
    {
      "cell_type": "code",
      "source": [
        "# # Random forrest with SMOTE balancer\n",
        "# smote = SMOTE(random_state=42)\n",
        "# X_train_smote, y_train_smote = smote.fit_resample(X_train_tfidf, y_train_tfidf)\n",
        "\n",
        "# # Training Random Forest on the SMOTE balanced data\n",
        "# rf_clf_smote = RandomForestClassifier(n_estimators=100, random_state=42)\n",
        "# rf_clf_smote.fit(X_train_smote, y_train_smote)\n",
        "\n",
        "# # Predictions\n",
        "# y_pred_rf_smote = rf_clf_smote.predict(X_test_tfidf)\n",
        "\n",
        "# # Evaluation\n",
        "# accuracy_rf_smote = accuracy_score(y_test_tfidf, y_pred_rf_smote)\n",
        "# precision_rf_smote = precision_score(y_test_tfidf, y_pred_rf_smote)\n",
        "# recall_rf_smote = recall_score(y_test_tfidf, y_pred_rf_smote)\n",
        "# f1_rf_smote = f1_score(y_test_tfidf, y_pred_rf_smote)\n",
        "\n",
        "# accuracy_rf_smote, precision_rf_smote, recall_rf_smote, f1_rf_smote"
      ],
      "metadata": {
        "id": "RhYmMnmbwvfb"
      },
      "execution_count": null,
      "outputs": []
    },
    {
      "cell_type": "code",
      "source": [
        "# # LightGBM\n",
        "# import lightgbm as lgb\n",
        "\n",
        "# # Initializing the LightGBM model\n",
        "# lgbm_model = lgb.LGBMClassifier(objective='binary', class_weight='balanced', random_state=42)\n",
        "\n",
        "# # Training the model\n",
        "# lgbm_model.fit(X_train, y_train)\n",
        "\n",
        "# # Predictions\n",
        "# y_pred_lgbm = lgbm_model.predict(X_test)\n",
        "\n",
        "# # Evaluation\n",
        "# accuracy_lgbm = accuracy_score(y_test, y_pred_lgbm)\n",
        "# precision_lgbm = precision_score(y_test, y_pred_lgbm)\n",
        "# recall_lgbm = recall_score(y_test, y_pred_lgbm)\n",
        "# f1_lgbm = f1_score(y_test, y_pred_lgbm)\n",
        "\n",
        "# accuracy_lgbm, precision_lgbm, recall_lgbm, f1_lgbm"
      ],
      "metadata": {
        "id": "ogKoxQhmhOsX",
        "colab": {
          "base_uri": "https://localhost:8080/"
        },
        "outputId": "1b1a29f4-8c15-4863-c94b-ee9bc4ff9cef"
      },
      "execution_count": 31,
      "outputs": [
        {
          "output_type": "stream",
          "name": "stdout",
          "text": [
            "[LightGBM] [Info] Number of positive: 1303, number of negative: 657\n",
            "[LightGBM] [Warning] Auto-choosing row-wise multi-threading, the overhead of testing was 0.000376 seconds.\n",
            "You can set `force_row_wise=true` to remove the overhead.\n",
            "And if memory is not enough, you can set `force_col_wise=true`.\n",
            "[LightGBM] [Info] Total Bins 294\n",
            "[LightGBM] [Info] Number of data points in the train set: 1960, number of used features: 5\n",
            "[LightGBM] [Info] [binary:BoostFromScore]: pavg=0.500000 -> initscore=0.000000\n",
            "[LightGBM] [Info] Start training from score 0.000000\n"
          ]
        },
        {
          "output_type": "execute_result",
          "data": {
            "text/plain": [
              "(0.7596741344195519,\n",
              " 0.8827838827838828,\n",
              " 0.7370030581039755,\n",
              " 0.8033333333333333)"
            ]
          },
          "metadata": {},
          "execution_count": 31
        }
      ]
    },
    {
      "cell_type": "code",
      "source": [
        "# XGBoost\n",
        "xgb_model = XGBClassifier(random_state=42)\n",
        "xgb_model.fit(X_train, y_train)\n",
        "xgb_predictions = xgb_model.predict(X_test)\n",
        "xgb_metrics = (accuracy_score(y_test, xgb_predictions), precision_score(y_test, xgb_predictions), recall_score(y_test, xgb_predictions), f1_score(y_test, xgb_predictions))\n",
        "\n",
        "xgb_metrics"
      ],
      "metadata": {
        "colab": {
          "base_uri": "https://localhost:8080/"
        },
        "id": "DnWPW_wfHtzE",
        "outputId": "6de77591-1bed-462f-f2d5-46dae25b1da6"
      },
      "execution_count": 9,
      "outputs": [
        {
          "output_type": "execute_result",
          "data": {
            "text/plain": [
              "(0.845213849287169, 0.8885448916408669, 0.8776758409785933, 0.8830769230769231)"
            ]
          },
          "metadata": {},
          "execution_count": 9
        }
      ]
    },
    {
      "cell_type": "code",
      "source": [
        "# SVM\n",
        "svm_model = SVC(kernel='linear', probability=True, random_state=42)\n",
        "svm_model.fit(X_train, y_train)\n",
        "svm_predictions = svm_model.predict(X_test)\n",
        "svm_metrics = (accuracy_score(y_test, svm_predictions), precision_score(y_test, svm_predictions), recall_score(y_test, svm_predictions), f1_score(y_test, svm_predictions))\n",
        "\n",
        "svm_metrics"
      ],
      "metadata": {
        "id": "R9nlOcqgsv5_"
      },
      "execution_count": null,
      "outputs": []
    },
    {
      "cell_type": "code",
      "source": [
        "# Ensemble Method (RF + SVM)\n",
        "ensemble_predictions = (rf_model.predict_proba(X_test)[:, 1] + svm_model.predict_proba(X_test)[:, 1]) / 2\n",
        "ensemble_final_predictions = [1 if prob > 0.5 else 0 for prob in ensemble_predictions]"
      ],
      "metadata": {
        "id": "mSWgXNt9HtsU"
      },
      "execution_count": null,
      "outputs": []
    },
    {
      "cell_type": "code",
      "source": [],
      "metadata": {
        "id": "NdgnulV5OSD0"
      },
      "execution_count": null,
      "outputs": []
    }
  ]
}