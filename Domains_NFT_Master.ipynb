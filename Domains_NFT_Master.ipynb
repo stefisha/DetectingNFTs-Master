{
  "nbformat": 4,
  "nbformat_minor": 0,
  "metadata": {
    "colab": {
      "provenance": [],
      "mount_file_id": "1F587S_5DfAPk7baBNsPitBJtOvnb-k0g",
      "authorship_tag": "ABX9TyNBYHy5gjpLsmFb0ZeXfFIC",
      "include_colab_link": true
    },
    "kernelspec": {
      "name": "python3",
      "display_name": "Python 3"
    },
    "language_info": {
      "name": "python"
    }
  },
  "cells": [
    {
      "cell_type": "markdown",
      "metadata": {
        "id": "view-in-github",
        "colab_type": "text"
      },
      "source": [
        "<a href=\"https://colab.research.google.com/github/Stefi96/DetectingNFTs-Master/blob/main/Domains_NFT_Master.ipynb\" target=\"_parent\"><img src=\"https://colab.research.google.com/assets/colab-badge.svg\" alt=\"Open In Colab\"/></a>"
      ]
    },
    {
      "cell_type": "code",
      "execution_count": 62,
      "metadata": {
        "id": "cg-6sbW1fBaf"
      },
      "outputs": [],
      "source": [
        "# @title Lets import the libraries and code\n",
        "import pandas as pd\n",
        "import numpy as np\n",
        "from sklearn.model_selection import train_test_split,GridSearchCV, cross_val_score\n",
        "from sklearn.ensemble import RandomForestClassifier\n",
        "from sklearn.neural_network import MLPClassifier\n",
        "from sklearn.svm import SVC\n",
        "from sklearn.naive_bayes import GaussianNB\n",
        "from sklearn.metrics import accuracy_score, precision_score, recall_score, f1_score\n",
        "from sklearn.preprocessing import LabelEncoder\n",
        "from sklearn.feature_extraction.text import TfidfVectorizer\n",
        "from sklearn.preprocessing import StandardScaler\n",
        "from xgboost import XGBClassifier\n",
        "from imblearn.over_sampling import SMOTE\n",
        "from sklearn.ensemble import BaggingClassifier, RandomForestClassifier\n",
        "import lightgbm as lgb"
      ]
    },
    {
      "cell_type": "code",
      "source": [
        "# Load the  uploaded datasets\n",
        "scam_data = pd.read_csv('/content/drive/MyDrive/Master/Project/Domains/final_blocklist_domains.csv')\n",
        "legit_data = pd.read_csv('/content/drive/MyDrive/Master/Project/Domains/final_legit_domains.csv')\n",
        "# Load data localy\n",
        "# scam_data = pd.read_csv(r'C:\\Users\\stefanve\\Desktop\\Project\\Domains\\final_blocklist_domains.csv')\n",
        "# legit_data = pd.read_csv(r\"C:\\Users\\stefanve\\Desktop\\Project\\Domains\\final_legit_domains.csv\")"
      ],
      "metadata": {
        "id": "ZWMDuUrJfT4_"
      },
      "execution_count": 63,
      "outputs": []
    },
    {
      "cell_type": "code",
      "source": [
        "# Display the first few rows of each dataset for verification\n",
        "scam_data.head(), legit_data.head()"
      ],
      "metadata": {
        "colab": {
          "base_uri": "https://localhost:8080/"
        },
        "id": "I57gacn9fkS3",
        "outputId": "595d1810-213b-45a4-8f9d-1e1819c3a246"
      },
      "execution_count": 64,
      "outputs": [
        {
          "output_type": "execute_result",
          "data": {
            "text/plain": [
              "(                   url\n",
              " 0  blogpost-opensea.io\n",
              " 1       phantomweb.app\n",
              " 2           aurory.app\n",
              " 3         solvision.io\n",
              " 4        staratlas.art,\n",
              "              Unique Domains\n",
              " 0             basis.markets\n",
              " 1          skeletoncrew.rip\n",
              " 2              flippies.art\n",
              " 3  meerkatmillionaires.club\n",
              " 4           stylishstuds.io)"
            ]
          },
          "metadata": {},
          "execution_count": 64
        }
      ]
    },
    {
      "cell_type": "code",
      "source": [
        "# label the data\n",
        "scam_data['label'] = 1\n",
        "legit_data['label'] = 0\n",
        "\n",
        "# Renaming the 'Unique Domains' column in legit dataset to 'url'\n",
        "legit_data.rename(columns={\"Unique Domains\": \"url\"}, inplace=True)\n",
        "\n",
        "# Combine the datasets\n",
        "combined_data = pd.concat([scam_data, legit_data], ignore_index=True)\n",
        "\n",
        "# Display the first few rows of the combined dataset\n",
        "combined_data.head()"
      ],
      "metadata": {
        "id": "ddqVKS4mhGsk",
        "colab": {
          "base_uri": "https://localhost:8080/",
          "height": 206
        },
        "outputId": "24121e1d-9bca-4cef-fab1-5fd8bc741e1c"
      },
      "execution_count": 65,
      "outputs": [
        {
          "output_type": "execute_result",
          "data": {
            "text/plain": [
              "                   url  label\n",
              "0  blogpost-opensea.io      1\n",
              "1       phantomweb.app      1\n",
              "2           aurory.app      1\n",
              "3         solvision.io      1\n",
              "4        staratlas.art      1"
            ],
            "text/html": [
              "\n",
              "  <div id=\"df-9193da2e-0258-4191-8e13-dc4586979105\" class=\"colab-df-container\">\n",
              "    <div>\n",
              "<style scoped>\n",
              "    .dataframe tbody tr th:only-of-type {\n",
              "        vertical-align: middle;\n",
              "    }\n",
              "\n",
              "    .dataframe tbody tr th {\n",
              "        vertical-align: top;\n",
              "    }\n",
              "\n",
              "    .dataframe thead th {\n",
              "        text-align: right;\n",
              "    }\n",
              "</style>\n",
              "<table border=\"1\" class=\"dataframe\">\n",
              "  <thead>\n",
              "    <tr style=\"text-align: right;\">\n",
              "      <th></th>\n",
              "      <th>url</th>\n",
              "      <th>label</th>\n",
              "    </tr>\n",
              "  </thead>\n",
              "  <tbody>\n",
              "    <tr>\n",
              "      <th>0</th>\n",
              "      <td>blogpost-opensea.io</td>\n",
              "      <td>1</td>\n",
              "    </tr>\n",
              "    <tr>\n",
              "      <th>1</th>\n",
              "      <td>phantomweb.app</td>\n",
              "      <td>1</td>\n",
              "    </tr>\n",
              "    <tr>\n",
              "      <th>2</th>\n",
              "      <td>aurory.app</td>\n",
              "      <td>1</td>\n",
              "    </tr>\n",
              "    <tr>\n",
              "      <th>3</th>\n",
              "      <td>solvision.io</td>\n",
              "      <td>1</td>\n",
              "    </tr>\n",
              "    <tr>\n",
              "      <th>4</th>\n",
              "      <td>staratlas.art</td>\n",
              "      <td>1</td>\n",
              "    </tr>\n",
              "  </tbody>\n",
              "</table>\n",
              "</div>\n",
              "    <div class=\"colab-df-buttons\">\n",
              "\n",
              "  <div class=\"colab-df-container\">\n",
              "    <button class=\"colab-df-convert\" onclick=\"convertToInteractive('df-9193da2e-0258-4191-8e13-dc4586979105')\"\n",
              "            title=\"Convert this dataframe to an interactive table.\"\n",
              "            style=\"display:none;\">\n",
              "\n",
              "  <svg xmlns=\"http://www.w3.org/2000/svg\" height=\"24px\" viewBox=\"0 -960 960 960\">\n",
              "    <path d=\"M120-120v-720h720v720H120Zm60-500h600v-160H180v160Zm220 220h160v-160H400v160Zm0 220h160v-160H400v160ZM180-400h160v-160H180v160Zm440 0h160v-160H620v160ZM180-180h160v-160H180v160Zm440 0h160v-160H620v160Z\"/>\n",
              "  </svg>\n",
              "    </button>\n",
              "\n",
              "  <style>\n",
              "    .colab-df-container {\n",
              "      display:flex;\n",
              "      gap: 12px;\n",
              "    }\n",
              "\n",
              "    .colab-df-convert {\n",
              "      background-color: #E8F0FE;\n",
              "      border: none;\n",
              "      border-radius: 50%;\n",
              "      cursor: pointer;\n",
              "      display: none;\n",
              "      fill: #1967D2;\n",
              "      height: 32px;\n",
              "      padding: 0 0 0 0;\n",
              "      width: 32px;\n",
              "    }\n",
              "\n",
              "    .colab-df-convert:hover {\n",
              "      background-color: #E2EBFA;\n",
              "      box-shadow: 0px 1px 2px rgba(60, 64, 67, 0.3), 0px 1px 3px 1px rgba(60, 64, 67, 0.15);\n",
              "      fill: #174EA6;\n",
              "    }\n",
              "\n",
              "    .colab-df-buttons div {\n",
              "      margin-bottom: 4px;\n",
              "    }\n",
              "\n",
              "    [theme=dark] .colab-df-convert {\n",
              "      background-color: #3B4455;\n",
              "      fill: #D2E3FC;\n",
              "    }\n",
              "\n",
              "    [theme=dark] .colab-df-convert:hover {\n",
              "      background-color: #434B5C;\n",
              "      box-shadow: 0px 1px 3px 1px rgba(0, 0, 0, 0.15);\n",
              "      filter: drop-shadow(0px 1px 2px rgba(0, 0, 0, 0.3));\n",
              "      fill: #FFFFFF;\n",
              "    }\n",
              "  </style>\n",
              "\n",
              "    <script>\n",
              "      const buttonEl =\n",
              "        document.querySelector('#df-9193da2e-0258-4191-8e13-dc4586979105 button.colab-df-convert');\n",
              "      buttonEl.style.display =\n",
              "        google.colab.kernel.accessAllowed ? 'block' : 'none';\n",
              "\n",
              "      async function convertToInteractive(key) {\n",
              "        const element = document.querySelector('#df-9193da2e-0258-4191-8e13-dc4586979105');\n",
              "        const dataTable =\n",
              "          await google.colab.kernel.invokeFunction('convertToInteractive',\n",
              "                                                    [key], {});\n",
              "        if (!dataTable) return;\n",
              "\n",
              "        const docLinkHtml = 'Like what you see? Visit the ' +\n",
              "          '<a target=\"_blank\" href=https://colab.research.google.com/notebooks/data_table.ipynb>data table notebook</a>'\n",
              "          + ' to learn more about interactive tables.';\n",
              "        element.innerHTML = '';\n",
              "        dataTable['output_type'] = 'display_data';\n",
              "        await google.colab.output.renderOutput(dataTable, element);\n",
              "        const docLink = document.createElement('div');\n",
              "        docLink.innerHTML = docLinkHtml;\n",
              "        element.appendChild(docLink);\n",
              "      }\n",
              "    </script>\n",
              "  </div>\n",
              "\n",
              "\n",
              "<div id=\"df-37b9e82c-58df-4da4-8317-55edea1ff651\">\n",
              "  <button class=\"colab-df-quickchart\" onclick=\"quickchart('df-37b9e82c-58df-4da4-8317-55edea1ff651')\"\n",
              "            title=\"Suggest charts.\"\n",
              "            style=\"display:none;\">\n",
              "\n",
              "<svg xmlns=\"http://www.w3.org/2000/svg\" height=\"24px\"viewBox=\"0 0 24 24\"\n",
              "     width=\"24px\">\n",
              "    <g>\n",
              "        <path d=\"M19 3H5c-1.1 0-2 .9-2 2v14c0 1.1.9 2 2 2h14c1.1 0 2-.9 2-2V5c0-1.1-.9-2-2-2zM9 17H7v-7h2v7zm4 0h-2V7h2v10zm4 0h-2v-4h2v4z\"/>\n",
              "    </g>\n",
              "</svg>\n",
              "  </button>\n",
              "\n",
              "<style>\n",
              "  .colab-df-quickchart {\n",
              "    background-color: #E8F0FE;\n",
              "    border: none;\n",
              "    border-radius: 50%;\n",
              "    cursor: pointer;\n",
              "    display: none;\n",
              "    fill: #1967D2;\n",
              "    height: 32px;\n",
              "    padding: 0 0 0 0;\n",
              "    width: 32px;\n",
              "  }\n",
              "\n",
              "  .colab-df-quickchart:hover {\n",
              "    background-color: #E2EBFA;\n",
              "    box-shadow: 0px 1px 2px rgba(60, 64, 67, 0.3), 0px 1px 3px 1px rgba(60, 64, 67, 0.15);\n",
              "    fill: #174EA6;\n",
              "  }\n",
              "\n",
              "  [theme=dark] .colab-df-quickchart {\n",
              "    background-color: #3B4455;\n",
              "    fill: #D2E3FC;\n",
              "  }\n",
              "\n",
              "  [theme=dark] .colab-df-quickchart:hover {\n",
              "    background-color: #434B5C;\n",
              "    box-shadow: 0px 1px 3px 1px rgba(0, 0, 0, 0.15);\n",
              "    filter: drop-shadow(0px 1px 2px rgba(0, 0, 0, 0.3));\n",
              "    fill: #FFFFFF;\n",
              "  }\n",
              "</style>\n",
              "\n",
              "  <script>\n",
              "    async function quickchart(key) {\n",
              "      const charts = await google.colab.kernel.invokeFunction(\n",
              "          'suggestCharts', [key], {});\n",
              "    }\n",
              "    (() => {\n",
              "      let quickchartButtonEl =\n",
              "        document.querySelector('#df-37b9e82c-58df-4da4-8317-55edea1ff651 button');\n",
              "      quickchartButtonEl.style.display =\n",
              "        google.colab.kernel.accessAllowed ? 'block' : 'none';\n",
              "    })();\n",
              "  </script>\n",
              "</div>\n",
              "    </div>\n",
              "  </div>\n"
            ]
          },
          "metadata": {},
          "execution_count": 65
        }
      ]
    },
    {
      "cell_type": "code",
      "source": [
        "# Check for missing values\n",
        "combined_data.isna().sum()\n",
        "\n",
        "# Fill NaN with placeholder\n",
        "combined_data['url'] = combined_data['url'].fillna(\"missing\")\n",
        "\n",
        "# Drop NA\n",
        "#combined_data = combined_data.dropna()"
      ],
      "metadata": {
        "id": "ChBNpcsit1gW"
      },
      "execution_count": 66,
      "outputs": []
    },
    {
      "cell_type": "code",
      "source": [
        "combined_data['url']"
      ],
      "metadata": {
        "colab": {
          "base_uri": "https://localhost:8080/"
        },
        "id": "NJ-yqWDpuOTI",
        "outputId": "f007cd79-01c2-4c3a-f800-88dbddb0df38"
      },
      "execution_count": 67,
      "outputs": [
        {
          "output_type": "execute_result",
          "data": {
            "text/plain": [
              "0           blogpost-opensea.io\n",
              "1                phantomweb.app\n",
              "2                    aurory.app\n",
              "3                  solvision.io\n",
              "4                 staratlas.art\n",
              "                 ...           \n",
              "2446                 koinkoi.io\n",
              "2447            burritoboyz.wtf\n",
              "2448                   t00b.app\n",
              "2449            outcast.academy\n",
              "2450    apesofwallstreetnft.com\n",
              "Name: url, Length: 2451, dtype: object"
            ]
          },
          "metadata": {},
          "execution_count": 67
        }
      ]
    },
    {
      "cell_type": "code",
      "source": [
        "# # Convert the 'url' column to string\n",
        "# combined_data['url'] = combined_data['url'].astype(str)"
      ],
      "metadata": {
        "id": "6tjTb9_fyHXz"
      },
      "execution_count": 68,
      "outputs": []
    },
    {
      "cell_type": "code",
      "source": [
        "# Label encoding the URLs\n",
        "label_encoder = LabelEncoder()\n",
        "combined_data['url_encoded'] = label_encoder.fit_transform(combined_data['url'])"
      ],
      "metadata": {
        "id": "5QAbJeKDuRBv"
      },
      "execution_count": 69,
      "outputs": []
    },
    {
      "cell_type": "code",
      "source": [
        "# Extracting features from the URLs\n",
        "combined_data['domain_length'] = combined_data['url'].apply(lambda x: len(x))\n",
        "combined_data['num_special_chars'] = combined_data['url'].apply(lambda x: sum([1 for char in x if not char.isalnum()]))\n",
        "combined_data['num_subdomains'] = combined_data['url'].apply(lambda x: x.count('.'))\n",
        "combined_data['has_http'] = combined_data['url'].apply(lambda x: 1 if 'http' in x else 0)\n",
        "combined_data['has_https'] = combined_data['url'].apply(lambda x: 1 if 'https' in x else 0)\n",
        "combined_data['has_www'] = combined_data['url'].apply(lambda x: 1 if 'www' in x else 0)\n",
        "combined_data['has_numbers'] = combined_data['url'].apply(lambda x: 1 if any(char.isdigit() for char in x) else 0)"
      ],
      "metadata": {
        "id": "3RAyHpLMueyL"
      },
      "execution_count": 70,
      "outputs": []
    },
    {
      "cell_type": "code",
      "source": [
        "combined_data"
      ],
      "metadata": {
        "colab": {
          "base_uri": "https://localhost:8080/",
          "height": 424
        },
        "id": "K_B-NKxGuf6J",
        "outputId": "47e54763-9ed6-46fd-fffe-c3e35c83301e"
      },
      "execution_count": 71,
      "outputs": [
        {
          "output_type": "execute_result",
          "data": {
            "text/plain": [
              "                          url  label  url_encoded  domain_length  \\\n",
              "0         blogpost-opensea.io      1          184             19   \n",
              "1              phantomweb.app      1         1422             14   \n",
              "2                  aurory.app      1          133             10   \n",
              "3                solvision.io      1         2101             12   \n",
              "4               staratlas.art      1         2130             13   \n",
              "...                       ...    ...          ...            ...   \n",
              "2446               koinkoi.io      0          801             10   \n",
              "2447          burritoboyz.wtf      0          267             15   \n",
              "2448                 t00b.app      0         2180              8   \n",
              "2449          outcast.academy      0         1337             15   \n",
              "2450  apesofwallstreetnft.com      0           80             23   \n",
              "\n",
              "      num_special_chars  num_subdomains  has_http  has_https  has_www  \\\n",
              "0                     2               1         0          0        0   \n",
              "1                     1               1         0          0        0   \n",
              "2                     1               1         0          0        0   \n",
              "3                     1               1         0          0        0   \n",
              "4                     1               1         0          0        0   \n",
              "...                 ...             ...       ...        ...      ...   \n",
              "2446                  1               1         0          0        0   \n",
              "2447                  1               1         0          0        0   \n",
              "2448                  1               1         0          0        0   \n",
              "2449                  1               1         0          0        0   \n",
              "2450                  1               1         0          0        0   \n",
              "\n",
              "      has_numbers  \n",
              "0               0  \n",
              "1               0  \n",
              "2               0  \n",
              "3               0  \n",
              "4               0  \n",
              "...           ...  \n",
              "2446            0  \n",
              "2447            0  \n",
              "2448            1  \n",
              "2449            0  \n",
              "2450            0  \n",
              "\n",
              "[2451 rows x 10 columns]"
            ],
            "text/html": [
              "\n",
              "  <div id=\"df-098892d0-6146-4519-b6c6-4b416e82038d\" class=\"colab-df-container\">\n",
              "    <div>\n",
              "<style scoped>\n",
              "    .dataframe tbody tr th:only-of-type {\n",
              "        vertical-align: middle;\n",
              "    }\n",
              "\n",
              "    .dataframe tbody tr th {\n",
              "        vertical-align: top;\n",
              "    }\n",
              "\n",
              "    .dataframe thead th {\n",
              "        text-align: right;\n",
              "    }\n",
              "</style>\n",
              "<table border=\"1\" class=\"dataframe\">\n",
              "  <thead>\n",
              "    <tr style=\"text-align: right;\">\n",
              "      <th></th>\n",
              "      <th>url</th>\n",
              "      <th>label</th>\n",
              "      <th>url_encoded</th>\n",
              "      <th>domain_length</th>\n",
              "      <th>num_special_chars</th>\n",
              "      <th>num_subdomains</th>\n",
              "      <th>has_http</th>\n",
              "      <th>has_https</th>\n",
              "      <th>has_www</th>\n",
              "      <th>has_numbers</th>\n",
              "    </tr>\n",
              "  </thead>\n",
              "  <tbody>\n",
              "    <tr>\n",
              "      <th>0</th>\n",
              "      <td>blogpost-opensea.io</td>\n",
              "      <td>1</td>\n",
              "      <td>184</td>\n",
              "      <td>19</td>\n",
              "      <td>2</td>\n",
              "      <td>1</td>\n",
              "      <td>0</td>\n",
              "      <td>0</td>\n",
              "      <td>0</td>\n",
              "      <td>0</td>\n",
              "    </tr>\n",
              "    <tr>\n",
              "      <th>1</th>\n",
              "      <td>phantomweb.app</td>\n",
              "      <td>1</td>\n",
              "      <td>1422</td>\n",
              "      <td>14</td>\n",
              "      <td>1</td>\n",
              "      <td>1</td>\n",
              "      <td>0</td>\n",
              "      <td>0</td>\n",
              "      <td>0</td>\n",
              "      <td>0</td>\n",
              "    </tr>\n",
              "    <tr>\n",
              "      <th>2</th>\n",
              "      <td>aurory.app</td>\n",
              "      <td>1</td>\n",
              "      <td>133</td>\n",
              "      <td>10</td>\n",
              "      <td>1</td>\n",
              "      <td>1</td>\n",
              "      <td>0</td>\n",
              "      <td>0</td>\n",
              "      <td>0</td>\n",
              "      <td>0</td>\n",
              "    </tr>\n",
              "    <tr>\n",
              "      <th>3</th>\n",
              "      <td>solvision.io</td>\n",
              "      <td>1</td>\n",
              "      <td>2101</td>\n",
              "      <td>12</td>\n",
              "      <td>1</td>\n",
              "      <td>1</td>\n",
              "      <td>0</td>\n",
              "      <td>0</td>\n",
              "      <td>0</td>\n",
              "      <td>0</td>\n",
              "    </tr>\n",
              "    <tr>\n",
              "      <th>4</th>\n",
              "      <td>staratlas.art</td>\n",
              "      <td>1</td>\n",
              "      <td>2130</td>\n",
              "      <td>13</td>\n",
              "      <td>1</td>\n",
              "      <td>1</td>\n",
              "      <td>0</td>\n",
              "      <td>0</td>\n",
              "      <td>0</td>\n",
              "      <td>0</td>\n",
              "    </tr>\n",
              "    <tr>\n",
              "      <th>...</th>\n",
              "      <td>...</td>\n",
              "      <td>...</td>\n",
              "      <td>...</td>\n",
              "      <td>...</td>\n",
              "      <td>...</td>\n",
              "      <td>...</td>\n",
              "      <td>...</td>\n",
              "      <td>...</td>\n",
              "      <td>...</td>\n",
              "      <td>...</td>\n",
              "    </tr>\n",
              "    <tr>\n",
              "      <th>2446</th>\n",
              "      <td>koinkoi.io</td>\n",
              "      <td>0</td>\n",
              "      <td>801</td>\n",
              "      <td>10</td>\n",
              "      <td>1</td>\n",
              "      <td>1</td>\n",
              "      <td>0</td>\n",
              "      <td>0</td>\n",
              "      <td>0</td>\n",
              "      <td>0</td>\n",
              "    </tr>\n",
              "    <tr>\n",
              "      <th>2447</th>\n",
              "      <td>burritoboyz.wtf</td>\n",
              "      <td>0</td>\n",
              "      <td>267</td>\n",
              "      <td>15</td>\n",
              "      <td>1</td>\n",
              "      <td>1</td>\n",
              "      <td>0</td>\n",
              "      <td>0</td>\n",
              "      <td>0</td>\n",
              "      <td>0</td>\n",
              "    </tr>\n",
              "    <tr>\n",
              "      <th>2448</th>\n",
              "      <td>t00b.app</td>\n",
              "      <td>0</td>\n",
              "      <td>2180</td>\n",
              "      <td>8</td>\n",
              "      <td>1</td>\n",
              "      <td>1</td>\n",
              "      <td>0</td>\n",
              "      <td>0</td>\n",
              "      <td>0</td>\n",
              "      <td>1</td>\n",
              "    </tr>\n",
              "    <tr>\n",
              "      <th>2449</th>\n",
              "      <td>outcast.academy</td>\n",
              "      <td>0</td>\n",
              "      <td>1337</td>\n",
              "      <td>15</td>\n",
              "      <td>1</td>\n",
              "      <td>1</td>\n",
              "      <td>0</td>\n",
              "      <td>0</td>\n",
              "      <td>0</td>\n",
              "      <td>0</td>\n",
              "    </tr>\n",
              "    <tr>\n",
              "      <th>2450</th>\n",
              "      <td>apesofwallstreetnft.com</td>\n",
              "      <td>0</td>\n",
              "      <td>80</td>\n",
              "      <td>23</td>\n",
              "      <td>1</td>\n",
              "      <td>1</td>\n",
              "      <td>0</td>\n",
              "      <td>0</td>\n",
              "      <td>0</td>\n",
              "      <td>0</td>\n",
              "    </tr>\n",
              "  </tbody>\n",
              "</table>\n",
              "<p>2451 rows × 10 columns</p>\n",
              "</div>\n",
              "    <div class=\"colab-df-buttons\">\n",
              "\n",
              "  <div class=\"colab-df-container\">\n",
              "    <button class=\"colab-df-convert\" onclick=\"convertToInteractive('df-098892d0-6146-4519-b6c6-4b416e82038d')\"\n",
              "            title=\"Convert this dataframe to an interactive table.\"\n",
              "            style=\"display:none;\">\n",
              "\n",
              "  <svg xmlns=\"http://www.w3.org/2000/svg\" height=\"24px\" viewBox=\"0 -960 960 960\">\n",
              "    <path d=\"M120-120v-720h720v720H120Zm60-500h600v-160H180v160Zm220 220h160v-160H400v160Zm0 220h160v-160H400v160ZM180-400h160v-160H180v160Zm440 0h160v-160H620v160ZM180-180h160v-160H180v160Zm440 0h160v-160H620v160Z\"/>\n",
              "  </svg>\n",
              "    </button>\n",
              "\n",
              "  <style>\n",
              "    .colab-df-container {\n",
              "      display:flex;\n",
              "      gap: 12px;\n",
              "    }\n",
              "\n",
              "    .colab-df-convert {\n",
              "      background-color: #E8F0FE;\n",
              "      border: none;\n",
              "      border-radius: 50%;\n",
              "      cursor: pointer;\n",
              "      display: none;\n",
              "      fill: #1967D2;\n",
              "      height: 32px;\n",
              "      padding: 0 0 0 0;\n",
              "      width: 32px;\n",
              "    }\n",
              "\n",
              "    .colab-df-convert:hover {\n",
              "      background-color: #E2EBFA;\n",
              "      box-shadow: 0px 1px 2px rgba(60, 64, 67, 0.3), 0px 1px 3px 1px rgba(60, 64, 67, 0.15);\n",
              "      fill: #174EA6;\n",
              "    }\n",
              "\n",
              "    .colab-df-buttons div {\n",
              "      margin-bottom: 4px;\n",
              "    }\n",
              "\n",
              "    [theme=dark] .colab-df-convert {\n",
              "      background-color: #3B4455;\n",
              "      fill: #D2E3FC;\n",
              "    }\n",
              "\n",
              "    [theme=dark] .colab-df-convert:hover {\n",
              "      background-color: #434B5C;\n",
              "      box-shadow: 0px 1px 3px 1px rgba(0, 0, 0, 0.15);\n",
              "      filter: drop-shadow(0px 1px 2px rgba(0, 0, 0, 0.3));\n",
              "      fill: #FFFFFF;\n",
              "    }\n",
              "  </style>\n",
              "\n",
              "    <script>\n",
              "      const buttonEl =\n",
              "        document.querySelector('#df-098892d0-6146-4519-b6c6-4b416e82038d button.colab-df-convert');\n",
              "      buttonEl.style.display =\n",
              "        google.colab.kernel.accessAllowed ? 'block' : 'none';\n",
              "\n",
              "      async function convertToInteractive(key) {\n",
              "        const element = document.querySelector('#df-098892d0-6146-4519-b6c6-4b416e82038d');\n",
              "        const dataTable =\n",
              "          await google.colab.kernel.invokeFunction('convertToInteractive',\n",
              "                                                    [key], {});\n",
              "        if (!dataTable) return;\n",
              "\n",
              "        const docLinkHtml = 'Like what you see? Visit the ' +\n",
              "          '<a target=\"_blank\" href=https://colab.research.google.com/notebooks/data_table.ipynb>data table notebook</a>'\n",
              "          + ' to learn more about interactive tables.';\n",
              "        element.innerHTML = '';\n",
              "        dataTable['output_type'] = 'display_data';\n",
              "        await google.colab.output.renderOutput(dataTable, element);\n",
              "        const docLink = document.createElement('div');\n",
              "        docLink.innerHTML = docLinkHtml;\n",
              "        element.appendChild(docLink);\n",
              "      }\n",
              "    </script>\n",
              "  </div>\n",
              "\n",
              "\n",
              "<div id=\"df-0f51fac8-b3c5-4b36-81d1-bc6544874241\">\n",
              "  <button class=\"colab-df-quickchart\" onclick=\"quickchart('df-0f51fac8-b3c5-4b36-81d1-bc6544874241')\"\n",
              "            title=\"Suggest charts.\"\n",
              "            style=\"display:none;\">\n",
              "\n",
              "<svg xmlns=\"http://www.w3.org/2000/svg\" height=\"24px\"viewBox=\"0 0 24 24\"\n",
              "     width=\"24px\">\n",
              "    <g>\n",
              "        <path d=\"M19 3H5c-1.1 0-2 .9-2 2v14c0 1.1.9 2 2 2h14c1.1 0 2-.9 2-2V5c0-1.1-.9-2-2-2zM9 17H7v-7h2v7zm4 0h-2V7h2v10zm4 0h-2v-4h2v4z\"/>\n",
              "    </g>\n",
              "</svg>\n",
              "  </button>\n",
              "\n",
              "<style>\n",
              "  .colab-df-quickchart {\n",
              "    background-color: #E8F0FE;\n",
              "    border: none;\n",
              "    border-radius: 50%;\n",
              "    cursor: pointer;\n",
              "    display: none;\n",
              "    fill: #1967D2;\n",
              "    height: 32px;\n",
              "    padding: 0 0 0 0;\n",
              "    width: 32px;\n",
              "  }\n",
              "\n",
              "  .colab-df-quickchart:hover {\n",
              "    background-color: #E2EBFA;\n",
              "    box-shadow: 0px 1px 2px rgba(60, 64, 67, 0.3), 0px 1px 3px 1px rgba(60, 64, 67, 0.15);\n",
              "    fill: #174EA6;\n",
              "  }\n",
              "\n",
              "  [theme=dark] .colab-df-quickchart {\n",
              "    background-color: #3B4455;\n",
              "    fill: #D2E3FC;\n",
              "  }\n",
              "\n",
              "  [theme=dark] .colab-df-quickchart:hover {\n",
              "    background-color: #434B5C;\n",
              "    box-shadow: 0px 1px 3px 1px rgba(0, 0, 0, 0.15);\n",
              "    filter: drop-shadow(0px 1px 2px rgba(0, 0, 0, 0.3));\n",
              "    fill: #FFFFFF;\n",
              "  }\n",
              "</style>\n",
              "\n",
              "  <script>\n",
              "    async function quickchart(key) {\n",
              "      const charts = await google.colab.kernel.invokeFunction(\n",
              "          'suggestCharts', [key], {});\n",
              "    }\n",
              "    (() => {\n",
              "      let quickchartButtonEl =\n",
              "        document.querySelector('#df-0f51fac8-b3c5-4b36-81d1-bc6544874241 button');\n",
              "      quickchartButtonEl.style.display =\n",
              "        google.colab.kernel.accessAllowed ? 'block' : 'none';\n",
              "    })();\n",
              "  </script>\n",
              "</div>\n",
              "    </div>\n",
              "  </div>\n"
            ]
          },
          "metadata": {},
          "execution_count": 71
        }
      ]
    },
    {
      "cell_type": "code",
      "source": [
        "# TF-IDF Tokenization\n",
        "tfidf_vectorizer = TfidfVectorizer(max_features=100)\n",
        "url_tfidf = tfidf_vectorizer.fit_transform(combined_data['url'])\n",
        "url_tfidf_df = pd.DataFrame(url_tfidf.toarray(), columns=tfidf_vectorizer.get_feature_names_out())\n",
        "combined_data_2 = pd.concat([combined_data, url_tfidf_df], axis=1)\n",
        "\n",
        "combined_data_2.drop(columns=['url'], inplace=True)\n",
        "\n",
        "combined_data_2.head()"
      ],
      "metadata": {
        "colab": {
          "base_uri": "https://localhost:8080/",
          "height": 236
        },
        "id": "-odhUXhDuuT1",
        "outputId": "9bb05801-db4e-4ac5-bdeb-2ee76ad6761b"
      },
      "execution_count": 72,
      "outputs": [
        {
          "output_type": "execute_result",
          "data": {
            "text/plain": [
              "   label  url_encoded  domain_length  num_special_chars  num_subdomains  \\\n",
              "0      1          184             19                  2               1   \n",
              "1      1         1422             14                  1               1   \n",
              "2      1          133             10                  1               1   \n",
              "3      1         2101             12                  1               1   \n",
              "4      1         2130             13                  1               1   \n",
              "\n",
              "   has_http  has_https  has_www  has_numbers  alpha  ...  uno   v2  web  \\\n",
              "0         0          0        0            0    0.0  ...  0.0  0.0  0.0   \n",
              "1         0          0        0            0    0.0  ...  0.0  0.0  0.0   \n",
              "2         0          0        0            0    0.0  ...  0.0  0.0  0.0   \n",
              "3         0          0        0            0    0.0  ...  0.0  0.0  0.0   \n",
              "4         0          0        0            0    0.0  ...  0.0  0.0  0.0   \n",
              "\n",
              "   website  work  world  xyz  y00ts  yoots  zerium  \n",
              "0      0.0   0.0    0.0  0.0    0.0    0.0     0.0  \n",
              "1      0.0   0.0    0.0  0.0    0.0    0.0     0.0  \n",
              "2      0.0   0.0    0.0  0.0    0.0    0.0     0.0  \n",
              "3      0.0   0.0    0.0  0.0    0.0    0.0     0.0  \n",
              "4      0.0   0.0    0.0  0.0    0.0    0.0     0.0  \n",
              "\n",
              "[5 rows x 109 columns]"
            ],
            "text/html": [
              "\n",
              "  <div id=\"df-802c4fc5-3f50-4678-81b8-1e81de88a9ef\" class=\"colab-df-container\">\n",
              "    <div>\n",
              "<style scoped>\n",
              "    .dataframe tbody tr th:only-of-type {\n",
              "        vertical-align: middle;\n",
              "    }\n",
              "\n",
              "    .dataframe tbody tr th {\n",
              "        vertical-align: top;\n",
              "    }\n",
              "\n",
              "    .dataframe thead th {\n",
              "        text-align: right;\n",
              "    }\n",
              "</style>\n",
              "<table border=\"1\" class=\"dataframe\">\n",
              "  <thead>\n",
              "    <tr style=\"text-align: right;\">\n",
              "      <th></th>\n",
              "      <th>label</th>\n",
              "      <th>url_encoded</th>\n",
              "      <th>domain_length</th>\n",
              "      <th>num_special_chars</th>\n",
              "      <th>num_subdomains</th>\n",
              "      <th>has_http</th>\n",
              "      <th>has_https</th>\n",
              "      <th>has_www</th>\n",
              "      <th>has_numbers</th>\n",
              "      <th>alpha</th>\n",
              "      <th>...</th>\n",
              "      <th>uno</th>\n",
              "      <th>v2</th>\n",
              "      <th>web</th>\n",
              "      <th>website</th>\n",
              "      <th>work</th>\n",
              "      <th>world</th>\n",
              "      <th>xyz</th>\n",
              "      <th>y00ts</th>\n",
              "      <th>yoots</th>\n",
              "      <th>zerium</th>\n",
              "    </tr>\n",
              "  </thead>\n",
              "  <tbody>\n",
              "    <tr>\n",
              "      <th>0</th>\n",
              "      <td>1</td>\n",
              "      <td>184</td>\n",
              "      <td>19</td>\n",
              "      <td>2</td>\n",
              "      <td>1</td>\n",
              "      <td>0</td>\n",
              "      <td>0</td>\n",
              "      <td>0</td>\n",
              "      <td>0</td>\n",
              "      <td>0.0</td>\n",
              "      <td>...</td>\n",
              "      <td>0.0</td>\n",
              "      <td>0.0</td>\n",
              "      <td>0.0</td>\n",
              "      <td>0.0</td>\n",
              "      <td>0.0</td>\n",
              "      <td>0.0</td>\n",
              "      <td>0.0</td>\n",
              "      <td>0.0</td>\n",
              "      <td>0.0</td>\n",
              "      <td>0.0</td>\n",
              "    </tr>\n",
              "    <tr>\n",
              "      <th>1</th>\n",
              "      <td>1</td>\n",
              "      <td>1422</td>\n",
              "      <td>14</td>\n",
              "      <td>1</td>\n",
              "      <td>1</td>\n",
              "      <td>0</td>\n",
              "      <td>0</td>\n",
              "      <td>0</td>\n",
              "      <td>0</td>\n",
              "      <td>0.0</td>\n",
              "      <td>...</td>\n",
              "      <td>0.0</td>\n",
              "      <td>0.0</td>\n",
              "      <td>0.0</td>\n",
              "      <td>0.0</td>\n",
              "      <td>0.0</td>\n",
              "      <td>0.0</td>\n",
              "      <td>0.0</td>\n",
              "      <td>0.0</td>\n",
              "      <td>0.0</td>\n",
              "      <td>0.0</td>\n",
              "    </tr>\n",
              "    <tr>\n",
              "      <th>2</th>\n",
              "      <td>1</td>\n",
              "      <td>133</td>\n",
              "      <td>10</td>\n",
              "      <td>1</td>\n",
              "      <td>1</td>\n",
              "      <td>0</td>\n",
              "      <td>0</td>\n",
              "      <td>0</td>\n",
              "      <td>0</td>\n",
              "      <td>0.0</td>\n",
              "      <td>...</td>\n",
              "      <td>0.0</td>\n",
              "      <td>0.0</td>\n",
              "      <td>0.0</td>\n",
              "      <td>0.0</td>\n",
              "      <td>0.0</td>\n",
              "      <td>0.0</td>\n",
              "      <td>0.0</td>\n",
              "      <td>0.0</td>\n",
              "      <td>0.0</td>\n",
              "      <td>0.0</td>\n",
              "    </tr>\n",
              "    <tr>\n",
              "      <th>3</th>\n",
              "      <td>1</td>\n",
              "      <td>2101</td>\n",
              "      <td>12</td>\n",
              "      <td>1</td>\n",
              "      <td>1</td>\n",
              "      <td>0</td>\n",
              "      <td>0</td>\n",
              "      <td>0</td>\n",
              "      <td>0</td>\n",
              "      <td>0.0</td>\n",
              "      <td>...</td>\n",
              "      <td>0.0</td>\n",
              "      <td>0.0</td>\n",
              "      <td>0.0</td>\n",
              "      <td>0.0</td>\n",
              "      <td>0.0</td>\n",
              "      <td>0.0</td>\n",
              "      <td>0.0</td>\n",
              "      <td>0.0</td>\n",
              "      <td>0.0</td>\n",
              "      <td>0.0</td>\n",
              "    </tr>\n",
              "    <tr>\n",
              "      <th>4</th>\n",
              "      <td>1</td>\n",
              "      <td>2130</td>\n",
              "      <td>13</td>\n",
              "      <td>1</td>\n",
              "      <td>1</td>\n",
              "      <td>0</td>\n",
              "      <td>0</td>\n",
              "      <td>0</td>\n",
              "      <td>0</td>\n",
              "      <td>0.0</td>\n",
              "      <td>...</td>\n",
              "      <td>0.0</td>\n",
              "      <td>0.0</td>\n",
              "      <td>0.0</td>\n",
              "      <td>0.0</td>\n",
              "      <td>0.0</td>\n",
              "      <td>0.0</td>\n",
              "      <td>0.0</td>\n",
              "      <td>0.0</td>\n",
              "      <td>0.0</td>\n",
              "      <td>0.0</td>\n",
              "    </tr>\n",
              "  </tbody>\n",
              "</table>\n",
              "<p>5 rows × 109 columns</p>\n",
              "</div>\n",
              "    <div class=\"colab-df-buttons\">\n",
              "\n",
              "  <div class=\"colab-df-container\">\n",
              "    <button class=\"colab-df-convert\" onclick=\"convertToInteractive('df-802c4fc5-3f50-4678-81b8-1e81de88a9ef')\"\n",
              "            title=\"Convert this dataframe to an interactive table.\"\n",
              "            style=\"display:none;\">\n",
              "\n",
              "  <svg xmlns=\"http://www.w3.org/2000/svg\" height=\"24px\" viewBox=\"0 -960 960 960\">\n",
              "    <path d=\"M120-120v-720h720v720H120Zm60-500h600v-160H180v160Zm220 220h160v-160H400v160Zm0 220h160v-160H400v160ZM180-400h160v-160H180v160Zm440 0h160v-160H620v160ZM180-180h160v-160H180v160Zm440 0h160v-160H620v160Z\"/>\n",
              "  </svg>\n",
              "    </button>\n",
              "\n",
              "  <style>\n",
              "    .colab-df-container {\n",
              "      display:flex;\n",
              "      gap: 12px;\n",
              "    }\n",
              "\n",
              "    .colab-df-convert {\n",
              "      background-color: #E8F0FE;\n",
              "      border: none;\n",
              "      border-radius: 50%;\n",
              "      cursor: pointer;\n",
              "      display: none;\n",
              "      fill: #1967D2;\n",
              "      height: 32px;\n",
              "      padding: 0 0 0 0;\n",
              "      width: 32px;\n",
              "    }\n",
              "\n",
              "    .colab-df-convert:hover {\n",
              "      background-color: #E2EBFA;\n",
              "      box-shadow: 0px 1px 2px rgba(60, 64, 67, 0.3), 0px 1px 3px 1px rgba(60, 64, 67, 0.15);\n",
              "      fill: #174EA6;\n",
              "    }\n",
              "\n",
              "    .colab-df-buttons div {\n",
              "      margin-bottom: 4px;\n",
              "    }\n",
              "\n",
              "    [theme=dark] .colab-df-convert {\n",
              "      background-color: #3B4455;\n",
              "      fill: #D2E3FC;\n",
              "    }\n",
              "\n",
              "    [theme=dark] .colab-df-convert:hover {\n",
              "      background-color: #434B5C;\n",
              "      box-shadow: 0px 1px 3px 1px rgba(0, 0, 0, 0.15);\n",
              "      filter: drop-shadow(0px 1px 2px rgba(0, 0, 0, 0.3));\n",
              "      fill: #FFFFFF;\n",
              "    }\n",
              "  </style>\n",
              "\n",
              "    <script>\n",
              "      const buttonEl =\n",
              "        document.querySelector('#df-802c4fc5-3f50-4678-81b8-1e81de88a9ef button.colab-df-convert');\n",
              "      buttonEl.style.display =\n",
              "        google.colab.kernel.accessAllowed ? 'block' : 'none';\n",
              "\n",
              "      async function convertToInteractive(key) {\n",
              "        const element = document.querySelector('#df-802c4fc5-3f50-4678-81b8-1e81de88a9ef');\n",
              "        const dataTable =\n",
              "          await google.colab.kernel.invokeFunction('convertToInteractive',\n",
              "                                                    [key], {});\n",
              "        if (!dataTable) return;\n",
              "\n",
              "        const docLinkHtml = 'Like what you see? Visit the ' +\n",
              "          '<a target=\"_blank\" href=https://colab.research.google.com/notebooks/data_table.ipynb>data table notebook</a>'\n",
              "          + ' to learn more about interactive tables.';\n",
              "        element.innerHTML = '';\n",
              "        dataTable['output_type'] = 'display_data';\n",
              "        await google.colab.output.renderOutput(dataTable, element);\n",
              "        const docLink = document.createElement('div');\n",
              "        docLink.innerHTML = docLinkHtml;\n",
              "        element.appendChild(docLink);\n",
              "      }\n",
              "    </script>\n",
              "  </div>\n",
              "\n",
              "\n",
              "<div id=\"df-17320f4f-28d5-41ec-a108-6bf1030e21a6\">\n",
              "  <button class=\"colab-df-quickchart\" onclick=\"quickchart('df-17320f4f-28d5-41ec-a108-6bf1030e21a6')\"\n",
              "            title=\"Suggest charts.\"\n",
              "            style=\"display:none;\">\n",
              "\n",
              "<svg xmlns=\"http://www.w3.org/2000/svg\" height=\"24px\"viewBox=\"0 0 24 24\"\n",
              "     width=\"24px\">\n",
              "    <g>\n",
              "        <path d=\"M19 3H5c-1.1 0-2 .9-2 2v14c0 1.1.9 2 2 2h14c1.1 0 2-.9 2-2V5c0-1.1-.9-2-2-2zM9 17H7v-7h2v7zm4 0h-2V7h2v10zm4 0h-2v-4h2v4z\"/>\n",
              "    </g>\n",
              "</svg>\n",
              "  </button>\n",
              "\n",
              "<style>\n",
              "  .colab-df-quickchart {\n",
              "    background-color: #E8F0FE;\n",
              "    border: none;\n",
              "    border-radius: 50%;\n",
              "    cursor: pointer;\n",
              "    display: none;\n",
              "    fill: #1967D2;\n",
              "    height: 32px;\n",
              "    padding: 0 0 0 0;\n",
              "    width: 32px;\n",
              "  }\n",
              "\n",
              "  .colab-df-quickchart:hover {\n",
              "    background-color: #E2EBFA;\n",
              "    box-shadow: 0px 1px 2px rgba(60, 64, 67, 0.3), 0px 1px 3px 1px rgba(60, 64, 67, 0.15);\n",
              "    fill: #174EA6;\n",
              "  }\n",
              "\n",
              "  [theme=dark] .colab-df-quickchart {\n",
              "    background-color: #3B4455;\n",
              "    fill: #D2E3FC;\n",
              "  }\n",
              "\n",
              "  [theme=dark] .colab-df-quickchart:hover {\n",
              "    background-color: #434B5C;\n",
              "    box-shadow: 0px 1px 3px 1px rgba(0, 0, 0, 0.15);\n",
              "    filter: drop-shadow(0px 1px 2px rgba(0, 0, 0, 0.3));\n",
              "    fill: #FFFFFF;\n",
              "  }\n",
              "</style>\n",
              "\n",
              "  <script>\n",
              "    async function quickchart(key) {\n",
              "      const charts = await google.colab.kernel.invokeFunction(\n",
              "          'suggestCharts', [key], {});\n",
              "    }\n",
              "    (() => {\n",
              "      let quickchartButtonEl =\n",
              "        document.querySelector('#df-17320f4f-28d5-41ec-a108-6bf1030e21a6 button');\n",
              "      quickchartButtonEl.style.display =\n",
              "        google.colab.kernel.accessAllowed ? 'block' : 'none';\n",
              "    })();\n",
              "  </script>\n",
              "</div>\n",
              "    </div>\n",
              "  </div>\n"
            ]
          },
          "metadata": {},
          "execution_count": 72
        }
      ]
    },
    {
      "cell_type": "code",
      "source": [
        "# Splitting the data\n",
        "X = combined_data_2.drop(\"label\", axis=1)\n",
        "y = combined_data_2[\"label\"]\n",
        "X_train, X_test, y_train, y_test = train_test_split(X, y, test_size=0.2, random_state=42, stratify=y) # maybe without stratify"
      ],
      "metadata": {
        "id": "JntayW3VuuNT"
      },
      "execution_count": 73,
      "outputs": []
    },
    {
      "cell_type": "code",
      "source": [
        "# Random Forest\n",
        "rf_model = RandomForestClassifier(n_estimators=100, random_state=42)\n",
        "rf_model.fit(X_train, y_train)\n",
        "rf_predictions = rf_model.predict(X_test)\n",
        "rf_metrics = (accuracy_score(y_test, rf_predictions), precision_score(y_test, rf_predictions), recall_score(y_test, rf_predictions), f1_score(y_test, rf_predictions))\n",
        "\n",
        "rf_metrics"
      ],
      "metadata": {
        "colab": {
          "base_uri": "https://localhost:8080/"
        },
        "id": "v9t6xeuOuuD-",
        "outputId": "2bd1fa7e-64fd-4fa5-8dbe-f9348a85bcbd"
      },
      "execution_count": 74,
      "outputs": [
        {
          "output_type": "execute_result",
          "data": {
            "text/plain": [
              "(0.8024439918533605,\n",
              " 0.8484848484848485,\n",
              " 0.8562691131498471,\n",
              " 0.8523592085235921)"
            ]
          },
          "metadata": {},
          "execution_count": 74
        }
      ]
    },
    {
      "cell_type": "code",
      "source": [
        "# Hyperparameter tuning for RandomForest\n",
        "param_grid = {\n",
        "    'n_estimators': [50, 100, 150],\n",
        "    'max_depth': [None, 10, 20, 30],\n",
        "    'min_samples_split': [2, 5, 10],\n",
        "    'min_samples_leaf': [1, 2, 4]\n",
        "}\n",
        "\n",
        "grid_search = GridSearchCV(rf_model, param_grid, cv=3, scoring='accuracy', verbose=2, n_jobs=-1)\n",
        "grid_search.fit(X_train, y_train)\n",
        "\n",
        "best_rf_clf = grid_search.best_estimator_\n",
        "y_pred_best_rf = best_rf_clf.predict(X_test)\n",
        "\n",
        "accuracy_best_rf = accuracy_score(y_test, y_pred_best_rf)\n",
        "precision_best_rf = precision_score(y_test, y_pred_best_rf)\n",
        "recall_best_rf = recall_score(y_test, y_pred_best_rf)\n",
        "f1_best_rf = f1_score(y_test, y_pred_best_rf)\n",
        "\n",
        "print(\"Tuned RandomForest Results:\", accuracy_best_rf, precision_best_rf, recall_best_rf, f1_best_rf)"
      ],
      "metadata": {
        "colab": {
          "base_uri": "https://localhost:8080/"
        },
        "id": "b3o0TiaGzbZe",
        "outputId": "94b182a5-56a6-4768-f892-4bd1dcc88f5c"
      },
      "execution_count": 75,
      "outputs": [
        {
          "output_type": "stream",
          "name": "stdout",
          "text": [
            "Fitting 3 folds for each of 108 candidates, totalling 324 fits\n",
            "Tuned RandomForest Results: 0.8207739307535642 0.8699690402476781 0.8593272171253823 0.8646153846153847\n"
          ]
        }
      ]
    },
    {
      "cell_type": "code",
      "source": [
        "# Random forrest with bagging\n",
        "bagging_clf = BaggingClassifier(estimator=RandomForestClassifier(n_estimators=100, random_state=42),\n",
        "                                n_estimators=10, random_state=42)\n",
        "bagging_clf.fit(X_train, y_train)\n",
        "\n",
        "# Predictions\n",
        "y_pred_bagging = bagging_clf.predict(X_test)\n",
        "\n",
        "# Evaluation\n",
        "accuracy_bagging = accuracy_score(y_test, y_pred_bagging)\n",
        "precision_bagging = precision_score(y_test, y_pred_bagging)\n",
        "recall_bagging = recall_score(y_test, y_pred_bagging)\n",
        "f1_bagging = f1_score(y_test, y_pred_bagging)\n",
        "\n",
        "print(\"Accuracy:\", accuracy_bagging)\n",
        "print(\"Precision:\", precision_bagging)\n",
        "print(\"Recall:\", recall_bagging)\n",
        "print(\"F1-Score:\", f1_bagging)"
      ],
      "metadata": {
        "colab": {
          "base_uri": "https://localhost:8080/"
        },
        "id": "tNYczqyExSSt",
        "outputId": "70063082-aafe-49bf-de1e-c84b9aeff9d0"
      },
      "execution_count": 76,
      "outputs": [
        {
          "output_type": "stream",
          "name": "stdout",
          "text": [
            "Accuracy: 0.8207739307535642\n",
            "Precision: 0.8632218844984803\n",
            "Recall: 0.8685015290519877\n",
            "F1-Score: 0.8658536585365854\n"
          ]
        }
      ]
    },
    {
      "cell_type": "code",
      "source": [
        "# Random Forest with TF-IDF\n",
        "rf_clf_tfidf = RandomForestClassifier(n_estimators=100, random_state=42)\n",
        "rf_clf_tfidf.fit(X_train, y_train)\n",
        "y_pred_rf_tfidf = rf_clf_tfidf.predict(X_test)\n",
        "accuracy_rf_tfidf = accuracy_score(y_test, y_pred_rf_tfidf)\n",
        "precision_rf_tfidf = precision_score(y_test, y_pred_rf_tfidf)\n",
        "recall_rf_tfidf = recall_score(y_test, y_pred_rf_tfidf)\n",
        "f1_rf_tfidf = f1_score(y_test, y_pred_rf_tfidf)\n",
        "\n",
        "print(\"Random Forest with TF-IDF Metrics:\")\n",
        "print(\"Accuracy:\", accuracy_rf_tfidf)\n",
        "print(\"Precision:\", precision_rf_tfidf)\n",
        "print(\"Recall:\", recall_rf_tfidf)\n",
        "print(\"F1-Score:\", f1_rf_tfidf)"
      ],
      "metadata": {
        "colab": {
          "base_uri": "https://localhost:8080/"
        },
        "id": "Hat3CRmuvzzY",
        "outputId": "8ab0dc04-6fa8-46c6-ebf8-d6e23852df3e"
      },
      "execution_count": 77,
      "outputs": [
        {
          "output_type": "stream",
          "name": "stdout",
          "text": [
            "Random Forest with TF-IDF Metrics:\n",
            "Accuracy: 0.8024439918533605\n",
            "Precision: 0.8484848484848485\n",
            "Recall: 0.8562691131498471\n",
            "F1-Score: 0.8523592085235921\n"
          ]
        }
      ]
    },
    {
      "cell_type": "code",
      "source": [
        "# Random forrest with SMOTE balancer\n",
        "smote = SMOTE(random_state=42)\n",
        "X_train_smote, y_train_smote = smote.fit_resample(X_train, y_train)\n",
        "\n",
        "# Training Random Forest on the SMOTE balanced data\n",
        "rf_clf_smote = RandomForestClassifier(n_estimators=100, random_state=42)\n",
        "rf_clf_smote.fit(X_train_smote, y_train_smote)\n",
        "\n",
        "# Predictions\n",
        "y_pred_rf_smote = rf_clf_smote.predict(X_test)\n",
        "\n",
        "# Evaluation\n",
        "accuracy_rf_smote = accuracy_score(y_test, y_pred_rf_smote)\n",
        "precision_rf_smote = precision_score(y_test, y_pred_rf_smote)\n",
        "recall_rf_smote = recall_score(y_test, y_pred_rf_smote)\n",
        "f1_rf_smote = f1_score(y_test, y_pred_rf_smote)\n",
        "\n",
        "accuracy_rf_smote, precision_rf_smote, recall_rf_smote, f1_rf_smote"
      ],
      "metadata": {
        "colab": {
          "base_uri": "https://localhost:8080/"
        },
        "id": "RhYmMnmbwvfb",
        "outputId": "505b291a-9424-49a8-902c-8835138ad6fb"
      },
      "execution_count": 78,
      "outputs": [
        {
          "output_type": "execute_result",
          "data": {
            "text/plain": [
              "(0.7820773930753564, 0.8459119496855346, 0.8226299694189603, 0.834108527131783)"
            ]
          },
          "metadata": {},
          "execution_count": 78
        }
      ]
    },
    {
      "cell_type": "code",
      "source": [
        "# Initializing the LightGBM model\n",
        "lgbm_model = lgb.LGBMClassifier(objective='binary', class_weight='balanced', random_state=42)\n",
        "\n",
        "# Training the model\n",
        "lgbm_model.fit(X_train, y_train)\n",
        "\n",
        "# Predictions\n",
        "y_pred_lgbm = lgbm_model.predict(X_test)\n",
        "\n",
        "# Evaluation\n",
        "accuracy_lgbm = accuracy_score(y_test, y_pred_lgbm)\n",
        "precision_lgbm = precision_score(y_test, y_pred_lgbm)\n",
        "recall_lgbm = recall_score(y_test, y_pred_lgbm)\n",
        "f1_lgbm = f1_score(y_test, y_pred_lgbm)\n",
        "\n",
        "accuracy_lgbm, precision_lgbm, recall_lgbm, f1_lgbm"
      ],
      "metadata": {
        "id": "ogKoxQhmhOsX",
        "colab": {
          "base_uri": "https://localhost:8080/"
        },
        "outputId": "b4d94d8c-cdd2-41ea-c68c-736be21ab5bb"
      },
      "execution_count": 79,
      "outputs": [
        {
          "output_type": "stream",
          "name": "stdout",
          "text": [
            "[LightGBM] [Info] Number of positive: 1303, number of negative: 657\n",
            "[LightGBM] [Warning] Auto-choosing row-wise multi-threading, the overhead of testing was 0.000478 seconds.\n",
            "You can set `force_row_wise=true` to remove the overhead.\n",
            "And if memory is not enough, you can set `force_col_wise=true`.\n",
            "[LightGBM] [Info] Total Bins 446\n",
            "[LightGBM] [Info] Number of data points in the train set: 1960, number of used features: 26\n",
            "[LightGBM] [Info] [binary:BoostFromScore]: pavg=0.500000 -> initscore=0.000000\n",
            "[LightGBM] [Info] Start training from score 0.000000\n"
          ]
        },
        {
          "output_type": "execute_result",
          "data": {
            "text/plain": [
              "(0.790224032586558, 0.8943661971830986, 0.7767584097859327, 0.8314238952536824)"
            ]
          },
          "metadata": {},
          "execution_count": 79
        }
      ]
    },
    {
      "cell_type": "code",
      "source": [
        "# XGBoost\n",
        "xgb_model = XGBClassifier(random_state=42)\n",
        "xgb_model.fit(X_train, y_train)\n",
        "xgb_predictions = xgb_model.predict(X_test)\n",
        "xgb_metrics = (accuracy_score(y_test, xgb_predictions), precision_score(y_test, xgb_predictions), recall_score(y_test, xgb_predictions), f1_score(y_test, xgb_predictions))\n",
        "\n",
        "xgb_metrics"
      ],
      "metadata": {
        "colab": {
          "base_uri": "https://localhost:8080/"
        },
        "id": "DnWPW_wfHtzE",
        "outputId": "a0becf6c-54ce-43f6-da8c-4d670dc3c700"
      },
      "execution_count": 80,
      "outputs": [
        {
          "output_type": "execute_result",
          "data": {
            "text/plain": [
              "(0.845213849287169, 0.8885448916408669, 0.8776758409785933, 0.8830769230769231)"
            ]
          },
          "metadata": {},
          "execution_count": 80
        }
      ]
    },
    {
      "cell_type": "code",
      "source": [
        "# # SVM\n",
        "# svm_model = SVC(kernel='linear', probability=True, random_state=42)\n",
        "# svm_model.fit(X_train, y_train)\n",
        "# svm_predictions = svm_model.predict(X_test)\n",
        "# svm_metrics = (accuracy_score(y_test, svm_predictions), precision_score(y_test, svm_predictions), recall_score(y_test, svm_predictions), f1_score(y_test, svm_predictions))\n",
        "\n",
        "# svm_metrics"
      ],
      "metadata": {
        "id": "3L8_MdavfbNs"
      },
      "execution_count": 81,
      "outputs": []
    },
    {
      "cell_type": "code",
      "source": [
        "# # Ensemble Method (RF + SVM)\n",
        "# ensemble_predictions = (rf_model.predict_proba(X_test)[:, 1] + svm_model.predict_proba(X_test)[:, 1]) / 2\n",
        "# ensemble_final_predictions = [1 if prob > 0.5 else 0 for prob in ensemble_predictions]"
      ],
      "metadata": {
        "id": "OEBo8HHgffQv"
      },
      "execution_count": 82,
      "outputs": []
    },
    {
      "cell_type": "code",
      "source": [
        "# ensemble_metrics = (accuracy_score(y_test, ensemble_final_predictions), precision_score(y_test, ensemble_final_predictions), recall_score(y_test, ensemble_final_predictions), f1_score(y_test, ensemble_final_predictions))\n",
        "\n",
        "# ensemble_metrics"
      ],
      "metadata": {
        "id": "cC9SqiEMNsK4"
      },
      "execution_count": 83,
      "outputs": []
    },
    {
      "cell_type": "code",
      "source": [
        "# # Anomaly detection, poor results\n",
        "# from sklearn.model_selection import train_test_split\n",
        "# from sklearn.feature_extraction.text import TfidfVectorizer\n",
        "# from sklearn.ensemble import IsolationForest\n",
        "# from sklearn.metrics import classification_report\n",
        "\n",
        "# # Reload the datasets\n",
        "# legit_df = pd.read_csv(r'C:\\Users\\stefanve\\Desktop\\Project\\Domains\\final_legit_domains.csv')\n",
        "# scam_df = pd.read_csv(r'C:\\Users\\stefanve\\Desktop\\Project\\Domains\\final_blocklist_domains.csv')\n",
        "\n",
        "# # Split the legitimate URLs for training and testing\n",
        "# legit_train, legit_test = train_test_split(legit_df, test_size=0.2, random_state=42)\n",
        "\n",
        "# # For anomaly detection, we'll train on the legit_train set and test on both legit_test and scam_df\n",
        "# X_train = legit_train['Unique Domains'].fillna(\"\")\n",
        "# X_test = pd.concat([legit_test['Unique Domains'].fillna(\"\"), scam_df['url'].fillna(\"\")])\n",
        "\n",
        "# # Labels for evaluation\n",
        "# y_test = [0] * len(legit_test) + [1] * len(scam_df)\n",
        "\n",
        "# # Convert the URL strings to a format suitable for the model using TF-IDF\n",
        "# tfidf_vectorizer_anomaly = TfidfVectorizer(ngram_range=(1, 2), max_features=100)\n",
        "# X_train_tfidf = tfidf_vectorizer_anomaly.fit_transform(X_train).toarray()  # Convert to array format\n",
        "# X_test_tfidf = tfidf_vectorizer_anomaly.transform(X_test).toarray()  # Convert to array format\n",
        "\n",
        "# # Train the Isolation Forest model\n",
        "# iso_forest = IsolationForest(contamination=0.05, random_state=42)\n",
        "# iso_forest.fit(X_train_tfidf)\n",
        "\n",
        "# # Predict on the test set\n",
        "# predictions = [-1 if x == 1 else 1 for x in iso_forest.predict(X_test_tfidf)]\n",
        "\n",
        "# # Evaluate the model\n",
        "# report = classification_report(y_test, predictions)\n",
        "\n",
        "# report\n"
      ],
      "metadata": {
        "id": "DB8kwzZ1fhrI"
      },
      "execution_count": 84,
      "outputs": []
    },
    {
      "cell_type": "code",
      "source": [
        "from keras.preprocessing.text import Tokenizer\n",
        "from tensorflow.keras.preprocessing.sequence import pad_sequences\n",
        "\n",
        "# 1. Tokenize and convert URLs to sequences\n",
        "tokenizer = Tokenizer(char_level=True)\n",
        "tokenizer.fit_on_texts(combined_data['url'])\n",
        "sequences = tokenizer.texts_to_sequences(combined_data['url'])\n",
        "\n",
        "# 2. Find the max length of sequences and pad\n",
        "max_length = max([len(seq) for seq in sequences])\n",
        "X_padded = pad_sequences(sequences, maxlen=max_length)"
      ],
      "metadata": {
        "id": "ddqdGDahJx_v"
      },
      "execution_count": 85,
      "outputs": []
    },
    {
      "cell_type": "code",
      "source": [
        "# 3. Split the data into training and testing sets\n",
        "X_train, X_test, y_train, y_test = train_test_split(X_padded, combined_data['label'], test_size=0.2, random_state=42)\n",
        "\n",
        "# 4. Build and train the RNN model\n",
        "vocab_size = len(tokenizer.word_index) + 1  # Adding 1 because of reserved 0 index"
      ],
      "metadata": {
        "id": "J6e6lQOpJzKv"
      },
      "execution_count": 86,
      "outputs": []
    },
    {
      "cell_type": "code",
      "source": [
        "from keras.models import Sequential\n",
        "from keras.layers import Embedding, LSTM, Dense\n",
        "\n",
        "model = Sequential()\n",
        "model.add(Embedding(input_dim=vocab_size, output_dim=32, input_length=max_length))\n",
        "model.add(LSTM(64, return_sequences=True))\n",
        "model.add(LSTM(64))\n",
        "model.add(Dense(1, activation='sigmoid'))\n",
        "\n",
        "model.compile(optimizer='adam', loss='binary_crossentropy', metrics=['accuracy'])"
      ],
      "metadata": {
        "id": "13v0cNquJzC_"
      },
      "execution_count": 87,
      "outputs": []
    },
    {
      "cell_type": "code",
      "source": [
        "history = model.fit(X_train, y_train, validation_data=(X_test, y_test), epochs=10, batch_size=32)"
      ],
      "metadata": {
        "id": "QLgWEFwxJzAY",
        "colab": {
          "base_uri": "https://localhost:8080/"
        },
        "outputId": "5883676f-f446-4583-aa3a-2d5f94250c75"
      },
      "execution_count": 88,
      "outputs": [
        {
          "output_type": "stream",
          "name": "stdout",
          "text": [
            "Epoch 1/10\n",
            "62/62 [==============================] - 8s 58ms/step - loss: 0.6393 - accuracy: 0.6531 - val_loss: 0.5965 - val_accuracy: 0.6965\n",
            "Epoch 2/10\n",
            "62/62 [==============================] - 3s 55ms/step - loss: 0.5746 - accuracy: 0.6821 - val_loss: 0.5081 - val_accuracy: 0.7413\n",
            "Epoch 3/10\n",
            "62/62 [==============================] - 4s 61ms/step - loss: 0.5379 - accuracy: 0.7179 - val_loss: 0.4881 - val_accuracy: 0.7576\n",
            "Epoch 4/10\n",
            "62/62 [==============================] - 3s 42ms/step - loss: 0.5210 - accuracy: 0.7332 - val_loss: 0.4889 - val_accuracy: 0.7576\n",
            "Epoch 5/10\n",
            "62/62 [==============================] - 3s 42ms/step - loss: 0.5009 - accuracy: 0.7510 - val_loss: 0.4854 - val_accuracy: 0.7739\n",
            "Epoch 6/10\n",
            "62/62 [==============================] - 4s 63ms/step - loss: 0.4781 - accuracy: 0.7556 - val_loss: 0.4751 - val_accuracy: 0.7780\n",
            "Epoch 7/10\n",
            "62/62 [==============================] - 5s 73ms/step - loss: 0.4692 - accuracy: 0.7745 - val_loss: 0.4612 - val_accuracy: 0.7862\n",
            "Epoch 8/10\n",
            "62/62 [==============================] - 3s 53ms/step - loss: 0.4629 - accuracy: 0.7750 - val_loss: 0.4786 - val_accuracy: 0.7719\n",
            "Epoch 9/10\n",
            "62/62 [==============================] - 3s 43ms/step - loss: 0.4541 - accuracy: 0.7827 - val_loss: 0.4671 - val_accuracy: 0.7760\n",
            "Epoch 10/10\n",
            "62/62 [==============================] - 3s 43ms/step - loss: 0.4531 - accuracy: 0.7811 - val_loss: 0.4621 - val_accuracy: 0.7800\n"
          ]
        }
      ]
    },
    {
      "cell_type": "code",
      "source": [
        "# Return the final training accuracy and validation accuracy\n",
        "history.history['accuracy'][-1], history.history['val_accuracy'][-1]"
      ],
      "metadata": {
        "id": "SGyhkBvDJ3Gp",
        "colab": {
          "base_uri": "https://localhost:8080/"
        },
        "outputId": "cf68993e-7469-4964-fd3f-80c4664ac55b"
      },
      "execution_count": 89,
      "outputs": [
        {
          "output_type": "execute_result",
          "data": {
            "text/plain": [
              "(0.7811224460601807, 0.7800407409667969)"
            ]
          },
          "metadata": {},
          "execution_count": 89
        }
      ]
    },
    {
      "cell_type": "code",
      "source": [
        "loss, accuracy = model.evaluate(X_test, y_test)\n",
        "print(f\"Test Accuracy: {accuracy * 100:.2f}%\")"
      ],
      "metadata": {
        "id": "cDtD7ZpzJ3EJ",
        "colab": {
          "base_uri": "https://localhost:8080/"
        },
        "outputId": "e6f7cec1-ec4f-497b-f57b-c65446df6638"
      },
      "execution_count": 90,
      "outputs": [
        {
          "output_type": "stream",
          "name": "stdout",
          "text": [
            "16/16 [==============================] - 0s 12ms/step - loss: 0.4621 - accuracy: 0.7800\n",
            "Test Accuracy: 78.00%\n"
          ]
        }
      ]
    },
    {
      "cell_type": "code",
      "source": [
        "import matplotlib.pyplot as plt\n",
        "\n",
        "# Plotting training & validation accuracy\n",
        "plt.figure(figsize=(12, 4))\n",
        "plt.subplot(1, 2, 1)\n",
        "plt.plot(history.history['accuracy'], label='Training Accuracy')\n",
        "plt.plot(history.history['val_accuracy'], label='Validation Accuracy')\n",
        "plt.legend()\n",
        "plt.title('Training vs Validation Accuracy')\n",
        "\n",
        "# Plotting training & validation loss\n",
        "plt.subplot(1, 2, 2)\n",
        "plt.plot(history.history['loss'], label='Training Loss')\n",
        "plt.plot(history.history['val_loss'], label='Validation Loss')\n",
        "plt.legend()\n",
        "plt.title('Training vs Validation Loss')\n",
        "plt.tight_layout()\n",
        "plt.show()"
      ],
      "metadata": {
        "id": "dIueZr8KJ3Bm",
        "colab": {
          "base_uri": "https://localhost:8080/",
          "height": 407
        },
        "outputId": "2c247ff9-470c-46b0-e7a1-311753fcf0d6"
      },
      "execution_count": 91,
      "outputs": [
        {
          "output_type": "display_data",
          "data": {
            "text/plain": [
              "<Figure size 1200x400 with 2 Axes>"
            ],
            "image/png": "[encoded data removed]"
          },
          "metadata": {}
        }
      ]
    },
    {
      "cell_type": "code",
      "source": [],
      "metadata": {
        "id": "BOnMMBg2n-3W"
      },
      "execution_count": 91,
      "outputs": []
    }
  ]
}